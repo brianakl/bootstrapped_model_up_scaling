{
 "cells": [
  {
   "cell_type": "code",
   "execution_count": 1,
   "metadata": {},
   "outputs": [
    {
     "name": "stderr",
     "output_type": "stream",
     "text": [
      "2024-12-04 13:24:39.931684: E external/local_xla/xla/stream_executor/cuda/cuda_fft.cc:477] Unable to register cuFFT factory: Attempting to register factory for plugin cuFFT when one has already been registered\n",
      "WARNING: All log messages before absl::InitializeLog() is called are written to STDERR\n",
      "E0000 00:00:1733340279.947741 1549815 cuda_dnn.cc:8310] Unable to register cuDNN factory: Attempting to register factory for plugin cuDNN when one has already been registered\n",
      "E0000 00:00:1733340279.952930 1549815 cuda_blas.cc:1418] Unable to register cuBLAS factory: Attempting to register factory for plugin cuBLAS when one has already been registered\n",
      "2024-12-04 13:24:39.970463: I tensorflow/core/platform/cpu_feature_guard.cc:210] This TensorFlow binary is optimized to use available CPU instructions in performance-critical operations.\n",
      "To enable the following instructions: AVX2 FMA, in other operations, rebuild TensorFlow with the appropriate compiler flags.\n"
     ]
    }
   ],
   "source": [
    "import torch\n",
    "from torch.utils.data import Dataset, DataLoader, RandomSampler\n",
    "from datasets import load_dataset\n",
    "import tqdm\n",
    "from transformers import GPT2TokenizerFast, BertTokenizerFast, Trainer, TrainingArguments, EvalPrediction\n",
    "import re\n",
    "import tiktoken\n",
    "import numpy as np\n",
    "from bus_nGPT import Decoder, TransformerLayer, AttentionHead, Rotary, LMHead\n",
    "import tensorboard as tb\n",
    "import pandas as pd\n",
    "import matplotlib\n",
    "import matplotlib.pyplot as plt\n",
    "from importlib import reload"
   ]
  },
  {
   "cell_type": "code",
   "execution_count": 19,
   "metadata": {},
   "outputs": [
    {
     "name": "stderr",
     "output_type": "stream",
     "text": [
      "/tmp/ipykernel_1549815/1169377317.py:1: FutureWarning: You are using `torch.load` with `weights_only=False` (the current default value), which uses the default pickle module implicitly. It is possible to construct malicious pickle data which will execute arbitrary code during unpickling (See https://github.com/pytorch/pytorch/blob/main/SECURITY.md#untrusted-models for more details). In a future release, the default value for `weights_only` will be flipped to `True`. This limits the functions that could be executed during unpickling. Arbitrary objects will no longer be allowed to be loaded via this mode unless they are explicitly allowlisted by the user via `torch.serialization.add_safe_globals`. We recommend you start setting `weights_only=True` for any use case where you don't have full control of the loaded file. Please open an issue on GitHub for any issues related to this experimental feature.\n",
      "  baseline = torch.load('baseline_model.pt')\n"
     ]
    }
   ],
   "source": [
    "baseline = torch.load('baseline_model.pt')"
   ]
  },
  {
   "cell_type": "code",
   "execution_count": 3,
   "metadata": {},
   "outputs": [],
   "source": [
    "snli = load_dataset('stanfordnlp/snli')\n",
    "mnli = load_dataset('nyu-mll/multi_nli')"
   ]
  },
  {
   "cell_type": "code",
   "execution_count": 4,
   "metadata": {},
   "outputs": [],
   "source": [
    "tokenizer = BertTokenizerFast.from_pretrained('google-bert/bert-base-uncased')"
   ]
  },
  {
   "cell_type": "code",
   "execution_count": 5,
   "metadata": {},
   "outputs": [],
   "source": [
    "def tokenize_fn(examples):\n",
    "    return tokenizer(examples['premise'] + \" \" + examples['hypothesis'], \n",
    "                     padding='max_length', \n",
    "                     truncation=True,\n",
    "                     )"
   ]
  },
  {
   "cell_type": "code",
   "execution_count": 6,
   "metadata": {},
   "outputs": [],
   "source": [
    "def compute_accuracy(eval: EvalPrediction):\n",
    "    x = np.argmax(eval.predictions[0], axis=-1)\n",
    "    z = np.average(x == eval.predictions[1])\n",
    "    return {\n",
    "        'accuracy': z    \n",
    "        }"
   ]
  },
  {
   "cell_type": "code",
   "execution_count": 7,
   "metadata": {},
   "outputs": [],
   "source": [
    "def abs_func(example):\n",
    "    return {'label': example['label']} if example['label'] >= 0 else {'label':-example['label']}"
   ]
  },
  {
   "cell_type": "code",
   "execution_count": 8,
   "metadata": {},
   "outputs": [],
   "source": [
    "snli = snli.map(abs_func)"
   ]
  },
  {
   "cell_type": "code",
   "execution_count": 9,
   "metadata": {},
   "outputs": [
    {
     "data": {
      "application/vnd.jupyter.widget-view+json": {
       "model_id": "ab3e276c1553429dab6257e4553923df",
       "version_major": 2,
       "version_minor": 0
      },
      "text/plain": [
       "Map:   0%|          | 0/9815 [00:00<?, ? examples/s]"
      ]
     },
     "metadata": {},
     "output_type": "display_data"
    }
   ],
   "source": [
    "# snli_tokenized = snli.map(tokenize_fn)\n",
    "mnli_tokenized = mnli.map(tokenize_fn)"
   ]
  },
  {
   "cell_type": "code",
   "execution_count": 20,
   "metadata": {},
   "outputs": [
    {
     "data": {
      "text/plain": [
       "LMHead(\n",
       "  (ffn): Sequential(\n",
       "    (0): Linear(in_features=512, out_features=512, bias=True)\n",
       "    (1): GELU(approximate='none')\n",
       "    (2): Dropout(p=0.1, inplace=False)\n",
       "    (3): Linear(in_features=512, out_features=512, bias=True)\n",
       "    (4): GELU(approximate='none')\n",
       "    (5): Dropout(p=0.1, inplace=False)\n",
       "    (6): Linear(in_features=512, out_features=3, bias=True)\n",
       "  )\n",
       "  (model): Decoder(\n",
       "    (blocks): ModuleList(\n",
       "      (0-7): 8 x TransformerLayer(\n",
       "        (heads): ModuleList(\n",
       "          (0-7): 8 x AttentionHead(\n",
       "            (rope): Rotary()\n",
       "          )\n",
       "        )\n",
       "        (silu): SiLU()\n",
       "      )\n",
       "    )\n",
       "    (embeddings): Embedding(30523, 512)\n",
       "  )\n",
       ")"
      ]
     },
     "execution_count": 20,
     "metadata": {},
     "output_type": "execute_result"
    }
   ],
   "source": [
    "bl = LMHead(baseline, 512, 3)\n",
    "bl.to('cuda')"
   ]
  },
  {
   "cell_type": "code",
   "execution_count": 21,
   "metadata": {},
   "outputs": [
    {
     "name": "stderr",
     "output_type": "stream",
     "text": [
      "/tmp/ipykernel_1549815/1813546762.py:15: FutureWarning: `tokenizer` is deprecated and will be removed in version 5.0.0 for `Trainer.__init__`. Use `processing_class` instead.\n",
      "  trainer = Trainer(\n"
     ]
    }
   ],
   "source": [
    "\n",
    "training_args = TrainingArguments(\n",
    "\toutput_dir=\"output\", \n",
    "\teval_strategy=\"steps\", \n",
    "\tnum_train_epochs = 2,\n",
    "\twarmup_steps = 0,\n",
    "\tlogging_steps = 100,\n",
    "\tsave_steps = 100,\n",
    "\tload_best_model_at_end = True,\n",
    "\tlearning_rate = 1e-3,\n",
    "    per_device_train_batch_size=8,\n",
    "    label_names=['labels'],\n",
    "    gradient_accumulation_steps=195,\n",
    "\t)\n",
    "\n",
    "trainer = Trainer(\n",
    "    model=bl,\n",
    "    args=training_args,\n",
    "    train_dataset=mnli_tokenized['train'],\n",
    "    eval_dataset=mnli_tokenized['validation_mismatched'],\n",
    "\ttokenizer=tokenizer,\n",
    "    compute_metrics=compute_accuracy\n",
    "\n",
    ")\n",
    "\n"
   ]
  },
  {
   "cell_type": "code",
   "execution_count": 22,
   "metadata": {},
   "outputs": [
    {
     "data": {
      "application/vnd.jupyter.widget-view+json": {
       "model_id": "623f7cc27a4a4df0a1e11088d4abb9e9",
       "version_major": 2,
       "version_minor": 0
      },
      "text/plain": [
       "  0%|          | 0/502 [00:00<?, ?it/s]"
      ]
     },
     "metadata": {},
     "output_type": "display_data"
    },
    {
     "name": "stdout",
     "output_type": "stream",
     "text": [
      "{'loss': 1.099, 'grad_norm': 20.157278060913086, 'learning_rate': 0.0008007968127490039, 'epoch': 0.4}\n"
     ]
    },
    {
     "data": {
      "application/vnd.jupyter.widget-view+json": {
       "model_id": "bfe9a0952b144a409752cb915b4ccea7",
       "version_major": 2,
       "version_minor": 0
      },
      "text/plain": [
       "  0%|          | 0/1229 [00:00<?, ?it/s]"
      ]
     },
     "metadata": {},
     "output_type": "display_data"
    },
    {
     "name": "stdout",
     "output_type": "stream",
     "text": [
      "{'eval_loss': 1.0968862771987915, 'eval_accuracy': 0.34814890154597233, 'eval_runtime': 56.5619, 'eval_samples_per_second': 173.827, 'eval_steps_per_second': 21.728, 'epoch': 0.4}\n",
      "{'loss': 1.0977, 'grad_norm': 7.472654342651367, 'learning_rate': 0.000601593625498008, 'epoch': 0.79}\n"
     ]
    },
    {
     "data": {
      "application/vnd.jupyter.widget-view+json": {
       "model_id": "27a2332e7b204d359c12f49bf3dbf735",
       "version_major": 2,
       "version_minor": 0
      },
      "text/plain": [
       "  0%|          | 0/1229 [00:00<?, ?it/s]"
      ]
     },
     "metadata": {},
     "output_type": "display_data"
    },
    {
     "name": "stdout",
     "output_type": "stream",
     "text": [
      "{'eval_loss': 1.0958449840545654, 'eval_accuracy': 0.34926769731489016, 'eval_runtime': 56.2426, 'eval_samples_per_second': 174.814, 'eval_steps_per_second': 21.852, 'epoch': 0.79}\n",
      "{'loss': 1.0958, 'grad_norm': 26.78701400756836, 'learning_rate': 0.00040239043824701195, 'epoch': 1.19}\n"
     ]
    },
    {
     "data": {
      "application/vnd.jupyter.widget-view+json": {
       "model_id": "5c4e3260d57b4acb812147f629b213af",
       "version_major": 2,
       "version_minor": 0
      },
      "text/plain": [
       "  0%|          | 0/1229 [00:00<?, ?it/s]"
      ]
     },
     "metadata": {},
     "output_type": "display_data"
    },
    {
     "name": "stdout",
     "output_type": "stream",
     "text": [
      "{'eval_loss': 1.0935235023498535, 'eval_accuracy': 0.35913344182262, 'eval_runtime': 56.2793, 'eval_samples_per_second': 174.7, 'eval_steps_per_second': 21.838, 'epoch': 1.19}\n",
      "{'loss': 1.0945, 'grad_norm': 4.028105735778809, 'learning_rate': 0.00020318725099601595, 'epoch': 1.59}\n"
     ]
    },
    {
     "data": {
      "application/vnd.jupyter.widget-view+json": {
       "model_id": "c32ad72d10be4c76a3584265ca5d1900",
       "version_major": 2,
       "version_minor": 0
      },
      "text/plain": [
       "  0%|          | 0/1229 [00:00<?, ?it/s]"
      ]
     },
     "metadata": {},
     "output_type": "display_data"
    },
    {
     "name": "stdout",
     "output_type": "stream",
     "text": [
      "{'eval_loss': 1.091715693473816, 'eval_accuracy': 0.37794955248169243, 'eval_runtime': 57.3025, 'eval_samples_per_second': 171.581, 'eval_steps_per_second': 21.448, 'epoch': 1.59}\n",
      "{'loss': 1.0927, 'grad_norm': 4.646554470062256, 'learning_rate': 3.98406374501992e-06, 'epoch': 1.99}\n"
     ]
    },
    {
     "data": {
      "application/vnd.jupyter.widget-view+json": {
       "model_id": "9cf3e1b194914081a288c05fc6d80bda",
       "version_major": 2,
       "version_minor": 0
      },
      "text/plain": [
       "  0%|          | 0/1229 [00:00<?, ?it/s]"
      ]
     },
     "metadata": {},
     "output_type": "display_data"
    },
    {
     "name": "stdout",
     "output_type": "stream",
     "text": [
      "{'eval_loss': 1.0914418697357178, 'eval_accuracy': 0.3708299430431245, 'eval_runtime': 56.4567, 'eval_samples_per_second': 174.151, 'eval_steps_per_second': 21.769, 'epoch': 1.99}\n",
      "{'train_runtime': 4657.8472, 'train_samples_per_second': 168.62, 'train_steps_per_second': 0.108, 'train_loss': 1.0959256369754138, 'epoch': 1.99}\n"
     ]
    },
    {
     "data": {
      "text/plain": [
       "TrainOutput(global_step=502, training_loss=1.0959256369754138, metrics={'train_runtime': 4657.8472, 'train_samples_per_second': 168.62, 'train_steps_per_second': 0.108, 'total_flos': 0.0, 'train_loss': 1.0959256369754138, 'epoch': 1.9941737288135593})"
      ]
     },
     "execution_count": 22,
     "metadata": {},
     "output_type": "execute_result"
    }
   ],
   "source": [
    "trainer.train()"
   ]
  },
  {
   "cell_type": "code",
   "execution_count": 23,
   "metadata": {},
   "outputs": [
    {
     "data": {
      "application/vnd.jupyter.widget-view+json": {
       "model_id": "acd337a9627549a9a40d0ec245a96e8c",
       "version_major": 2,
       "version_minor": 0
      },
      "text/plain": [
       "  0%|          | 0/1227 [00:00<?, ?it/s]"
      ]
     },
     "metadata": {},
     "output_type": "display_data"
    },
    {
     "data": {
      "text/plain": [
       "{'eval_loss': 1.0917551517486572,\n",
       " 'eval_accuracy': 0.375649516046867,\n",
       " 'eval_runtime': 56.6136,\n",
       " 'eval_samples_per_second': 173.368,\n",
       " 'eval_steps_per_second': 21.673,\n",
       " 'epoch': 1.9941737288135593}"
      ]
     },
     "execution_count": 23,
     "metadata": {},
     "output_type": "execute_result"
    }
   ],
   "source": [
    "trainer.evaluate(mnli_tokenized['validation_matched'])"
   ]
  },
  {
   "cell_type": "code",
   "execution_count": null,
   "metadata": {},
   "outputs": [
    {
     "data": {
      "application/vnd.jupyter.widget-view+json": {
       "model_id": "93ef27bb52b547adb844a80064b9d6f4",
       "version_major": 2,
       "version_minor": 0
      },
      "text/plain": [
       "  0%|          | 0/1250 [00:00<?, ?it/s]"
      ]
     },
     "metadata": {},
     "output_type": "display_data"
    },
    {
     "data": {
      "text/plain": [
       "{'eval_loss': 1.079468011856079,\n",
       " 'eval_accuracy': 0.4098,\n",
       " 'eval_runtime': 61.0158,\n",
       " 'eval_samples_per_second': 163.892,\n",
       " 'eval_steps_per_second': 20.487,\n",
       " 'epoch': 1.9953321991013393}"
      ]
     },
     "execution_count": 14,
     "metadata": {},
     "output_type": "execute_result"
    }
   ],
   "source": [
    "trainer.evaluate(snli_tokenized['test'])"
   ]
  },
  {
   "cell_type": "code",
   "execution_count": null,
   "metadata": {},
   "outputs": [],
   "source": []
  }
 ],
 "metadata": {
  "kernelspec": {
   "display_name": "NLP",
   "language": "python",
   "name": "python3"
  },
  "language_info": {
   "codemirror_mode": {
    "name": "ipython",
    "version": 3
   },
   "file_extension": ".py",
   "mimetype": "text/x-python",
   "name": "python",
   "nbconvert_exporter": "python",
   "pygments_lexer": "ipython3",
   "version": "3.10.12"
  }
 },
 "nbformat": 4,
 "nbformat_minor": 2
}
