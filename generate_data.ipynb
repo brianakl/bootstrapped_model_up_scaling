{
 "cells": [
  {
   "cell_type": "code",
   "execution_count": 1,
   "metadata": {},
   "outputs": [],
   "source": [
    "import torch\n",
    "from torch.utils.data import Dataset, DataLoader, RandomSampler\n",
    "from datasets import load_dataset"
   ]
  },
  {
   "cell_type": "code",
   "execution_count": null,
   "metadata": {},
   "outputs": [],
   "source": [
    "data = load_dataset('Salesforce/wikitext', 'wikitext-103-raw-v1')\n",
    "# data = load_dataset('tiny_shakespeare')\n",
    "train = data['train']\n",
    "validation = data['validation']\n",
    "test = data['test']"
   ]
  },
  {
   "cell_type": "code",
   "execution_count": null,
   "metadata": {},
   "outputs": [],
   "source": [
    "bos_token = \"<|BOS|>\""
   ]
  },
  {
   "cell_type": "code",
   "execution_count": null,
   "metadata": {},
   "outputs": [],
   "source": [
    "import re\n",
    "\n",
    "def data_clean(input: list[str], seq_len=128) -> str:\n",
    "    ret = \"\"\n",
    "    for line in input:\n",
    "        if len(line) == 0:  continue\n",
    "        # remove @'s surrounding some characters\n",
    "        line = re.sub(r' @([.,\\-])@ ', r'\\1', line)\n",
    "        # find titles of articles and add bos_token\n",
    "        matches = re.match(r'^ = ?(.+?) =?\\n', line)    # this finds all title and subsection text\n",
    "        if matches != None:\n",
    "            c = line.count('=')\n",
    "            if c == 2:\n",
    "                # start new article\n",
    "                ret += \" \" + bos_token\n",
    "        ret += line\n",
    "\n",
    "    ret = ret.split(\" \")\n",
    "    chunks = []\n",
    "    curr_chunk = []\n",
    "    cur_len = 0\n",
    "    \n",
    "    for word in ret:\n",
    "        if cur_len > seq_len:\n",
    "            chunks.append(\" \". join(curr_chunk))\n",
    "            curr_chunk = [word]\n",
    "            cur_len = 1\n",
    "\n",
    "        else:\n",
    "            curr_chunk.append(word)\n",
    "            cur_len += 1\n",
    "\n",
    "    return chunks"
   ]
  },
  {
   "cell_type": "code",
   "execution_count": null,
   "metadata": {},
   "outputs": [],
   "source": [
    "from transformers import GPT2TokenizerFast\n",
    "\n",
    "tokenizer = GPT2TokenizerFast.from_pretrained(\"openai-community/gpt2\")\n",
    "tokenizer.add_special_tokens({\"bos_token\":bos_token})"
   ]
  },
  {
   "cell_type": "code",
   "execution_count": null,
   "metadata": {},
   "outputs": [],
   "source": [
    "train_join = data_clean(train['text'])\n",
    "val_join = data_clean(validation['text'])\n",
    "test_join = data_clean(test['text'])"
   ]
  },
  {
   "cell_type": "code",
   "execution_count": null,
   "metadata": {},
   "outputs": [
    {
     "data": {
      "application/vnd.jupyter.widget-view+json": {
       "model_id": "96205ad4851b4dd2be1ce4b9958bb7ac",
       "version_major": 2,
       "version_minor": 0
      },
      "text/plain": [
       "  0%|          | 0/777080 [00:00<?, ?it/s]"
      ]
     },
     "metadata": {},
     "output_type": "display_data"
    }
   ],
   "source": [
    "train_tok = [tokenizer(chunk, max_length=128, truncation=True)['input_ids'] for chunk in tqdm(train_join)]\n",
    "val_tok = [tokenizer(chunk, max_length=128, truncation=True)['input_ids'] for chunk in val_join]\n",
    "test_tok = [tokenizer(chunk, max_length=128, truncation=True)['input_ids'] for chunk in test_join]"
   ]
  },
  {
   "cell_type": "code",
   "execution_count": null,
   "metadata": {},
   "outputs": [],
   "source": [
    "torch.save(train_tok, '../data/train_data_token.pt')\n",
    "torch.save(val_tok, '../data/val_data_token.pt')\n",
    "torch.save(test_tok, '../data/test_data_token.pt')"
   ]
  }
 ],
 "metadata": {
  "kernelspec": {
   "display_name": "NLP",
   "language": "python",
   "name": "python3"
  },
  "language_info": {
   "codemirror_mode": {
    "name": "ipython",
    "version": 3
   },
   "file_extension": ".py",
   "mimetype": "text/x-python",
   "name": "python",
   "nbconvert_exporter": "python",
   "pygments_lexer": "ipython3",
   "version": "3.10.12"
  }
 },
 "nbformat": 4,
 "nbformat_minor": 2
}
