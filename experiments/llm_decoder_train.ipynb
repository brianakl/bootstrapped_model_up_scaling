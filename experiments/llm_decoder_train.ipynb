{
 "cells": [
  {
   "cell_type": "code",
   "execution_count": 1,
   "metadata": {},
   "outputs": [
    {
     "ename": "ModuleNotFoundError",
     "evalue": "No module named 'xxhash'",
     "output_type": "error",
     "traceback": [
      "\u001b[0;31m---------------------------------------------------------------------------\u001b[0m",
      "\u001b[0;31mModuleNotFoundError\u001b[0m                       Traceback (most recent call last)",
      "Cell \u001b[0;32mIn[1], line 14\u001b[0m\n\u001b[1;32m     12\u001b[0m \u001b[38;5;28;01mfrom\u001b[39;00m \u001b[38;5;21;01msklearn\u001b[39;00m\u001b[38;5;21;01m.\u001b[39;00m\u001b[38;5;21;01mdecomposition\u001b[39;00m \u001b[38;5;28;01mimport\u001b[39;00m PCA\n\u001b[1;32m     13\u001b[0m \u001b[38;5;28;01mfrom\u001b[39;00m \u001b[38;5;21;01mscipy\u001b[39;00m\u001b[38;5;21;01m.\u001b[39;00m\u001b[38;5;21;01mstats\u001b[39;00m \u001b[38;5;28;01mimport\u001b[39;00m ttest_ind\n\u001b[0;32m---> 14\u001b[0m \u001b[38;5;28;01mfrom\u001b[39;00m \u001b[38;5;21;01mbus_transformer\u001b[39;00m \u001b[38;5;28;01mimport\u001b[39;00m \u001b[38;5;241m*\u001b[39m\n\u001b[1;32m     15\u001b[0m \u001b[38;5;28;01mfrom\u001b[39;00m \u001b[38;5;21;01mdatasets\u001b[39;00m \u001b[38;5;28;01mimport\u001b[39;00m load_dataset\n\u001b[1;32m     16\u001b[0m \u001b[38;5;28;01mfrom\u001b[39;00m \u001b[38;5;21;01mtransformers\u001b[39;00m \u001b[38;5;28;01mimport\u001b[39;00m AutoTokenizer\n",
      "File \u001b[0;32m~/Desktop/school/extra/transformer_pretrain/transfer_transformers/experiments/bus_transformer.py:6\u001b[0m\n\u001b[1;32m      4\u001b[0m \u001b[38;5;28;01mimport\u001b[39;00m \u001b[38;5;21;01mtorch\u001b[39;00m\u001b[38;5;21;01m.\u001b[39;00m\u001b[38;5;21;01mnn\u001b[39;00m \u001b[38;5;28;01mas\u001b[39;00m \u001b[38;5;21;01mnn\u001b[39;00m\n\u001b[1;32m      5\u001b[0m \u001b[38;5;28;01mfrom\u001b[39;00m \u001b[38;5;21;01mtorch\u001b[39;00m \u001b[38;5;28;01mimport\u001b[39;00m optim\n\u001b[0;32m----> 6\u001b[0m \u001b[38;5;28;01mfrom\u001b[39;00m \u001b[38;5;21;01mdatasets\u001b[39;00m \u001b[38;5;28;01mimport\u001b[39;00m load_dataset\n\u001b[1;32m      7\u001b[0m \u001b[38;5;28;01mfrom\u001b[39;00m \u001b[38;5;21;01mtransformers\u001b[39;00m \u001b[38;5;28;01mimport\u001b[39;00m AutoTokenizer\n\u001b[1;32m      8\u001b[0m \u001b[38;5;28;01mfrom\u001b[39;00m \u001b[38;5;21;01mtransformers\u001b[39;00m\u001b[38;5;21;01m.\u001b[39;00m\u001b[38;5;21;01mmodels\u001b[39;00m \u001b[38;5;28;01mimport\u001b[39;00m dinat\n",
      "File \u001b[0;32m~/anaconda3/envs/NLP/lib/python3.10/site-packages/datasets/__init__.py:18\u001b[0m\n\u001b[1;32m      1\u001b[0m \u001b[38;5;66;03m# ruff: noqa\u001b[39;00m\n\u001b[1;32m      2\u001b[0m \u001b[38;5;66;03m# Copyright 2020 The HuggingFace Datasets Authors and the TensorFlow Datasets Authors.\u001b[39;00m\n\u001b[1;32m      3\u001b[0m \u001b[38;5;66;03m#\u001b[39;00m\n\u001b[0;32m   (...)\u001b[0m\n\u001b[1;32m     13\u001b[0m \u001b[38;5;66;03m# See the License for the specific language governing permissions and\u001b[39;00m\n\u001b[1;32m     14\u001b[0m \u001b[38;5;66;03m# limitations under the License.\u001b[39;00m\n\u001b[1;32m     16\u001b[0m __version__ \u001b[38;5;241m=\u001b[39m \u001b[38;5;124m\"\u001b[39m\u001b[38;5;124m2.19.1\u001b[39m\u001b[38;5;124m\"\u001b[39m\n\u001b[0;32m---> 18\u001b[0m \u001b[38;5;28;01mfrom\u001b[39;00m \u001b[38;5;21;01m.\u001b[39;00m\u001b[38;5;21;01marrow_dataset\u001b[39;00m \u001b[38;5;28;01mimport\u001b[39;00m Dataset\n\u001b[1;32m     19\u001b[0m \u001b[38;5;28;01mfrom\u001b[39;00m \u001b[38;5;21;01m.\u001b[39;00m\u001b[38;5;21;01marrow_reader\u001b[39;00m \u001b[38;5;28;01mimport\u001b[39;00m ReadInstruction\n\u001b[1;32m     20\u001b[0m \u001b[38;5;28;01mfrom\u001b[39;00m \u001b[38;5;21;01m.\u001b[39;00m\u001b[38;5;21;01mbuilder\u001b[39;00m \u001b[38;5;28;01mimport\u001b[39;00m ArrowBasedBuilder, BeamBasedBuilder, BuilderConfig, DatasetBuilder, GeneratorBasedBuilder\n",
      "File \u001b[0;32m~/anaconda3/envs/NLP/lib/python3.10/site-packages/datasets/arrow_dataset.py:90\u001b[0m\n\u001b[1;32m     81\u001b[0m \u001b[38;5;28;01mfrom\u001b[39;00m \u001b[38;5;21;01m.\u001b[39;00m\u001b[38;5;21;01mfeatures\u001b[39;00m\u001b[38;5;21;01m.\u001b[39;00m\u001b[38;5;21;01mfeatures\u001b[39;00m \u001b[38;5;28;01mimport\u001b[39;00m (\n\u001b[1;32m     82\u001b[0m     FeatureType,\n\u001b[1;32m     83\u001b[0m     _align_features,\n\u001b[0;32m   (...)\u001b[0m\n\u001b[1;32m     87\u001b[0m     require_decoding,\n\u001b[1;32m     88\u001b[0m )\n\u001b[1;32m     89\u001b[0m \u001b[38;5;28;01mfrom\u001b[39;00m \u001b[38;5;21;01m.\u001b[39;00m\u001b[38;5;21;01mfilesystems\u001b[39;00m \u001b[38;5;28;01mimport\u001b[39;00m is_remote_filesystem\n\u001b[0;32m---> 90\u001b[0m \u001b[38;5;28;01mfrom\u001b[39;00m \u001b[38;5;21;01m.\u001b[39;00m\u001b[38;5;21;01mfingerprint\u001b[39;00m \u001b[38;5;28;01mimport\u001b[39;00m (\n\u001b[1;32m     91\u001b[0m     fingerprint_transform,\n\u001b[1;32m     92\u001b[0m     format_kwargs_for_fingerprint,\n\u001b[1;32m     93\u001b[0m     format_transform_for_fingerprint,\n\u001b[1;32m     94\u001b[0m     generate_fingerprint,\n\u001b[1;32m     95\u001b[0m     generate_random_fingerprint,\n\u001b[1;32m     96\u001b[0m     get_temporary_cache_files_directory,\n\u001b[1;32m     97\u001b[0m     is_caching_enabled,\n\u001b[1;32m     98\u001b[0m     maybe_register_dataset_for_temp_dir_deletion,\n\u001b[1;32m     99\u001b[0m     update_fingerprint,\n\u001b[1;32m    100\u001b[0m     validate_fingerprint,\n\u001b[1;32m    101\u001b[0m )\n\u001b[1;32m    102\u001b[0m \u001b[38;5;28;01mfrom\u001b[39;00m \u001b[38;5;21;01m.\u001b[39;00m\u001b[38;5;21;01mformatting\u001b[39;00m \u001b[38;5;28;01mimport\u001b[39;00m format_table, get_format_type_from_alias, get_formatter, query_table\n\u001b[1;32m    103\u001b[0m \u001b[38;5;28;01mfrom\u001b[39;00m \u001b[38;5;21;01m.\u001b[39;00m\u001b[38;5;21;01mformatting\u001b[39;00m\u001b[38;5;21;01m.\u001b[39;00m\u001b[38;5;21;01mformatting\u001b[39;00m \u001b[38;5;28;01mimport\u001b[39;00m LazyDict, _is_range_contiguous\n",
      "File \u001b[0;32m~/anaconda3/envs/NLP/lib/python3.10/site-packages/datasets/fingerprint.py:12\u001b[0m\n\u001b[1;32m      9\u001b[0m \u001b[38;5;28;01mfrom\u001b[39;00m \u001b[38;5;21;01mtyping\u001b[39;00m \u001b[38;5;28;01mimport\u001b[39;00m TYPE_CHECKING, Any, Callable, Dict, List, Optional, Tuple, Union\n\u001b[1;32m     11\u001b[0m \u001b[38;5;28;01mimport\u001b[39;00m \u001b[38;5;21;01mnumpy\u001b[39;00m \u001b[38;5;28;01mas\u001b[39;00m \u001b[38;5;21;01mnp\u001b[39;00m\n\u001b[0;32m---> 12\u001b[0m \u001b[38;5;28;01mimport\u001b[39;00m \u001b[38;5;21;01mxxhash\u001b[39;00m\n\u001b[1;32m     14\u001b[0m \u001b[38;5;28;01mfrom\u001b[39;00m \u001b[38;5;21;01m.\u001b[39;00m \u001b[38;5;28;01mimport\u001b[39;00m config\n\u001b[1;32m     15\u001b[0m \u001b[38;5;28;01mfrom\u001b[39;00m \u001b[38;5;21;01m.\u001b[39;00m\u001b[38;5;21;01mnaming\u001b[39;00m \u001b[38;5;28;01mimport\u001b[39;00m INVALID_WINDOWS_CHARACTERS_IN_PATH\n",
      "\u001b[0;31mModuleNotFoundError\u001b[0m: No module named 'xxhash'"
     ]
    }
   ],
   "source": [
    "import time\n",
    "import torch\n",
    "import torch.nn as nn\n",
    "import numpy as np\n",
    "import random\n",
    "from torch import optim\n",
    "import matplotlib.pyplot as plt\n",
    "from typing import List\n",
    "from utils import *\n",
    "from torch.utils.data import Dataset, DataLoader, RandomSampler\n",
    "import tqdm\n",
    "from sklearn.decomposition import PCA\n",
    "from scipy.stats import ttest_ind\n",
    "from bus_transformer import *\n",
    "from datasets import load_dataset\n",
    "from transformers import AutoTokenizer\n",
    "\n",
    "DEVICE = 'cuda' if torch.cuda.is_available() else 'cpu'\n",
    "print(DEVICE)"
   ]
  },
  {
   "cell_type": "markdown",
   "metadata": {},
   "source": [
    "- limit sequences to 128\n",
    "- limit tasks to sentence classification\n",
    "- use single sequence training without NSP\n",
    "- \n"
   ]
  },
  {
   "cell_type": "code",
   "execution_count": 9,
   "metadata": {},
   "outputs": [
    {
     "name": "stderr",
     "output_type": "stream",
     "text": [
      "/home/brian/anaconda3/envs/NLP/lib/python3.10/site-packages/datasets/load.py:1486: FutureWarning: The repository for tiny_shakespeare contains custom code which must be executed to correctly load the dataset. You can inspect the repository content at https://hf.co/datasets/tiny_shakespeare\n",
      "You can avoid this message in future by passing the argument `trust_remote_code=True`.\n",
      "Passing `trust_remote_code=True` will be mandatory to load this dataset from the next major release of `datasets`.\n",
      "  warnings.warn(\n"
     ]
    },
    {
     "data": {
      "application/vnd.jupyter.widget-view+json": {
       "model_id": "6d6d24ed707c4e4f8875e0ad2bf7a6bf",
       "version_major": 2,
       "version_minor": 0
      },
      "text/plain": [
       "Downloading builder script:   0%|          | 0.00/3.73k [00:00<?, ?B/s]"
      ]
     },
     "metadata": {},
     "output_type": "display_data"
    },
    {
     "data": {
      "application/vnd.jupyter.widget-view+json": {
       "model_id": "9724d4a5e34b4053a23642ab9780f540",
       "version_major": 2,
       "version_minor": 0
      },
      "text/plain": [
       "Downloading readme:   0%|          | 0.00/6.10k [00:00<?, ?B/s]"
      ]
     },
     "metadata": {},
     "output_type": "display_data"
    },
    {
     "data": {
      "application/vnd.jupyter.widget-view+json": {
       "model_id": "a7e98c9ccc884f578384f39dcf1a203f",
       "version_major": 2,
       "version_minor": 0
      },
      "text/plain": [
       "Downloading data:   0%|          | 0.00/435k [00:00<?, ?B/s]"
      ]
     },
     "metadata": {},
     "output_type": "display_data"
    },
    {
     "data": {
      "application/vnd.jupyter.widget-view+json": {
       "model_id": "3e26e6cfce654fad8f1c9b2487968c69",
       "version_major": 2,
       "version_minor": 0
      },
      "text/plain": [
       "Generating train split:   0%|          | 0/1 [00:00<?, ? examples/s]"
      ]
     },
     "metadata": {},
     "output_type": "display_data"
    },
    {
     "data": {
      "application/vnd.jupyter.widget-view+json": {
       "model_id": "5f0440c9a22d4f10b0007ef9f04a6381",
       "version_major": 2,
       "version_minor": 0
      },
      "text/plain": [
       "Generating validation split:   0%|          | 0/1 [00:00<?, ? examples/s]"
      ]
     },
     "metadata": {},
     "output_type": "display_data"
    },
    {
     "data": {
      "application/vnd.jupyter.widget-view+json": {
       "model_id": "c42dd972032843c3a85c00e25632e7f8",
       "version_major": 2,
       "version_minor": 0
      },
      "text/plain": [
       "Generating test split:   0%|          | 0/1 [00:00<?, ? examples/s]"
      ]
     },
     "metadata": {},
     "output_type": "display_data"
    }
   ],
   "source": [
    "data = load_dataset('Salesforce/wikitext', 'wikitext-103-v1')\n",
    "# data = load_dataset('tiny_shakespeare')"
   ]
  },
  {
   "cell_type": "code",
   "execution_count": 10,
   "metadata": {},
   "outputs": [
    {
     "data": {
      "text/plain": [
       "{'train': ['text'], 'validation': ['text'], 'test': ['text']}"
      ]
     },
     "execution_count": 10,
     "metadata": {},
     "output_type": "execute_result"
    }
   ],
   "source": [
    "data.column_names"
   ]
  },
  {
   "cell_type": "code",
   "execution_count": 11,
   "metadata": {},
   "outputs": [
    {
     "data": {
      "text/plain": [
       "1"
      ]
     },
     "execution_count": 11,
     "metadata": {},
     "output_type": "execute_result"
    }
   ],
   "source": [
    "data['train'].num_rows"
   ]
  },
  {
   "cell_type": "code",
   "execution_count": 12,
   "metadata": {},
   "outputs": [
    {
     "data": {
      "text/plain": [
       "1"
      ]
     },
     "execution_count": 12,
     "metadata": {},
     "output_type": "execute_result"
    }
   ],
   "source": [
    "data['test'].num_rows"
   ]
  },
  {
   "cell_type": "code",
   "execution_count": 13,
   "metadata": {},
   "outputs": [
    {
     "data": {
      "text/plain": [
       "1"
      ]
     },
     "execution_count": 13,
     "metadata": {},
     "output_type": "execute_result"
    }
   ],
   "source": [
    "data['validation'].num_rows"
   ]
  },
  {
   "cell_type": "code",
   "execution_count": 14,
   "metadata": {},
   "outputs": [],
   "source": [
    "train = data['train']\n",
    "validation = data['validation']\n",
    "test = data['test']"
   ]
  },
  {
   "cell_type": "code",
   "execution_count": 15,
   "metadata": {},
   "outputs": [],
   "source": [
    "seq_len = 512 "
   ]
  },
  {
   "cell_type": "code",
   "execution_count": 17,
   "metadata": {},
   "outputs": [
    {
     "data": {
      "text/plain": [
       "{'text': \"rance ta'en\\nAs shall with either part's agreement stand?\\n\\nBAPTISTA:\\nNot in my house, Lucentio; for, you know,\\nPitchers have ears, and I have many servants:\\nBesides, old Gremio is hearkening still;\\nAnd happily we might be interrupted.\\n\\nTRANIO:\\nThen at my lodging, an it like you:\\nThere doth my father lie; and there, this night,\\nWe'll pass the business privately and well.\\nSend for your daughter by your servant here:\\nMy boy shall fetch the scrivener presently.\\nThe worst is this, that, at so slender warning,\\nYou are like to have a thin and slender pittance.\\n\\nBAPTISTA:\\nIt likes me well. Biondello, hie you home,\\nAnd bid Bianca make her ready straight;\\nAnd, if you will, tell what hath happened,\\nLucentio's father is arrived in Padua,\\nAnd how she's like to be Lucentio's wife.\\n\\nBIONDELLO:\\nI pray the gods she may with all my heart!\\n\\nTRANIO:\\nDally not with the gods, but get thee gone.\\nSignior Baptista, shall I lead the way?\\nWelcome! one mess is like to be your cheer:\\nCome, sir; we will better it in Pisa.\\n\\nBAPTISTA:\\nI follow you.\\n\\nBIONDELLO:\\nCambio!\\n\\nLUCENTIO:\\nWhat sayest thou, Biondello?\\n\\nBIONDELLO:\\nYou saw my master wink and laugh upon you?\\n\\nLUCENTIO:\\nBiondello, what of that?\\n\\nBIONDELLO:\\nFaith, nothing; but has left me here behind, to\\nexpound the meaning or moral of his signs and tokens.\\n\\nLUCENTIO:\\nI pray thee, moralize them.\\n\\nBIONDELLO:\\nThen thus. Baptista is safe, talking with the\\ndeceiving father of a deceitful son.\\n\\nLUCENTIO:\\nAnd what of him?\\n\\nBIONDELLO:\\nHis daughter is to be brought by you to the supper.\\n\\nLUCENTIO:\\nAnd then?\\n\\nBIONDELLO:\\nThe old priest of Saint Luke's church is at your\\ncommand at all hours.\\n\\nLUCENTIO:\\nAnd what of all this?\\n\\nBIONDELLO:\\nI cannot tell; expect they are busied about a\\ncounterfeit assurance: take you assurance of her,\\n'cum privilegio ad imprimendum solum:' to the\\nchurch; take the priest, clerk, and some sufficient\\nhonest witnesses: If this be not that you look for,\\nI have no more to say, But bid Bianca farewell for\\never and a day.\\n\\nLUCENTIO:\\nHearest thou, Biondello?\\n\\nBIONDELLO:\\nI cannot tarry: I knew a wench married in an\\nafternoon as she went to the garden for parsley to\\nstuff a rabbit; and so may you, sir: and so, adieu,\\nsir. My master hath appointed me to go to Saint\\nLuke's, to bid the priest be ready to come against\\nyou come with your appendix.\\n\\nLUCENTIO:\\nI may, and will, if she be so contented:\\nShe will be pleased; then wherefore should I doubt?\\nHap what hap may, I'll roundly go about her:\\nIt shall go hard if Cambio go without her.\\n\\nPETRUCHIO:\\nCome on, i' God's name; once more toward our father's.\\nGood Lord, how bright and goodly shines the moon!\\n\\nKATHARINA:\\nThe moon! the sun: it is not moonlight now.\\n\\nPETRUCHIO:\\nI say it is the moon that shines so bright.\\n\\nKATHARINA:\\nI know it is the sun that shines so bright.\\n\\nPETRUCHIO:\\nNow, by my mother's son, and that's myself,\\nIt shall be moon, or star, or what I list,\\nOr ere I journey to your father's house.\\nGo on, and fetch our horses back again.\\nEvermore cross'd and cross'd; nothing but cross'd!\\n\\nHORTENSIO:\\nSay as he says, or we shall never go.\\n\\nKATHARINA:\\nForward, I pray, since we have come so far,\\nAnd be it moon, or sun, or what you please:\\nAn if you please to call it a rush-candle,\\nHenceforth I vow it shall be so for me.\\n\\nPETRUCHIO:\\nI say it is the moon.\\n\\nKATHARINA:\\nI know it is the moon.\\n\\nPETRUCHIO:\\nNay, then you lie: it is the blessed sun.\\n\\nKATHARINA:\\nThen, God be bless'd, it is the blessed sun:\\nBut sun it is not, when you say it is not;\\nAnd the moon changes even as your mind.\\nWhat you will have it named, even that it is;\\nAnd so it shall be so for Katharina.\\n\\nHORTENSIO:\\nPetruchio, go thy ways; the field is won.\\n\\nPETRUCHIO:\\nWell, forward, forward! thus the bowl should run,\\nAnd not unluckily against the bias.\\nBut, soft! company is coming here.\\nGood morrow, gentle mistress: where away?\\nTell me, sweet Kate, and tell me truly too,\\nHast thou beheld a fresher gentlewoman?\\nSuch war of white and red within her cheeks!\\nWhat stars do spangle heaven with such beauty,\\nAs those two eyes become that heavenly face?\\nFair lovely maid, once more good day to thee.\\nSweet Kate, embrace her for her beauty's sake.\\n\\nHORTENSIO:\\nA' will make the man mad, to make a woman of him.\\n\\nKATHARINA:\\nYoung budding virgin, fair and fresh and sweet,\\nWhither away, or where is thy abode?\\nHappy the parents of so fair a child;\\nHappier the man, whom favourable stars\\nAllot thee for his lovely bed-fellow!\\n\\nPETRUCHIO:\\nWhy, how now, Kate! I hope thou art not mad:\\nThis is a man, old, wrinkled, faded, wither'd,\\nAnd not a maiden, as thou say'st he is.\\n\\nKATHARINA:\\nPardon, old father, my mistaking eyes,\\nThat have been so bedazzled with the sun\\nThat everything I look on seemeth green:\\nNow I perceive thou art a reverend father;\\nPardon, I pray thee, for my mad mistaking.\\n\\nPETRUCHIO:\\nDo, good old grandsire; and withal make known\\nWhich way thou travellest: if along with us,\\nWe shall be joyful of thy company.\\n\\nVINCENTIO:\\nFair sir, and you my merry mistress,\\nThat with your strange encounter much amazed me,\\nMy name is call'd Vincentio; my dwelling Pisa;\\nAnd bound I am to Padua; there to visit\\nA son of mine, which long I have not seen.\\n\\nPETRUCHIO:\\nWhat is his name?\\n\\nVINCENTIO:\\nLucentio, gentle sir.\\n\\nPETRUCHIO:\\nHappily we met; the happier for thy son.\\nAnd now by law, as well as reverend age,\\nI may entitle thee my loving father:\\nThe sister to my wife, this gentlewoman,\\nThy son by this hath married. Wonder not,\\nNor be grieved: she is of good esteem,\\nHer dowery wealthy, and of worthy birth;\\nBeside, so qualified as may beseem\\nThe spouse of any noble gentleman.\\nLet me embrace with old Vincentio,\\nAnd wander we to see thy honest son,\\nWho will of thy arrival be full joyous.\\n\\nVINCENTIO:\\nBut is it true? or else is it your pleasure,\\nLike pleasant travellers, to break a jest\\nUpon the company you overtake?\\n\\nHORTENSIO:\\nI do assure thee, father, so it is.\\n\\nPETRUCHIO:\\nCome, go along, and see the truth hereof;\\nFor our first merriment hath made thee jealous.\\n\\nHORTENSIO:\\nWell, Petruchio, this has put me in heart.\\nHave to my widow! and if she be froward,\\nThen hast thou taught Hortensio to be untoward.\\n\\nBIONDELLO:\\nSoftly and swiftly, sir; for the priest is ready.\\n\\nLUCENTIO:\\nI fly, Biondello: but they may chance to need thee\\nat home; therefore leave us.\\n\\nBIONDELLO:\\nNay, faith, I'll see the church o' your back; and\\nthen come back to my master's as soon as I can.\\n\\nGREMIO:\\nI marvel Cambio comes not all this while.\\n\\nPETRUCHIO:\\nSir, here's the door, this is Lucentio's house:\\nMy father's bears more toward the market-place;\\nThither must I, and here I leave you, sir.\\n\\nVINCENTIO:\\nYou shall not choose but drink before you go:\\nI think I shall command your welcome here,\\nAnd, by all likelihood, some cheer is toward.\\n\\nGREMIO:\\nThey're busy within; you were best knock louder.\\n\\nPedant:\\nWhat's he that knocks as he would beat down the gate?\\n\\nVINCENTIO:\\nIs Signior Lucentio within, sir?\\n\\nPedant:\\nHe's within, sir, but not to be spoken withal.\\n\\nVINCENTIO:\\nWhat if a man bring him a hundred pound or two, to\\nmake merry withal?\\n\\nPedant:\\nKeep your hundred pounds to yourself: he shall\\nneed none, so long as I live.\\n\\nPETRUCHIO:\\nNay, I told you your son was well beloved in Padua.\\nDo you hear, sir? To leave frivolous circumstances,\\nI pray you, tell Signior Lucentio that his father is\\ncome from Pisa, and is here at the door to speak with him.\\n\\nPedant:\\nThou liest: his father is come from Padua and here\\nlooking out at the window.\\n\\nVINCENTIO:\\nArt thou his father?\\n\\nPedant:\\nAy, sir; so his mother says, if I may believe her.\\n\\nPETRUCHIO:\\n\\nPedant:\\nLay hands on the villain: I believe a' means to\\ncozen somebody in this city under my countenance.\\n\\nBIONDELLO:\\nI have seen them in the church together: God send\\n'em good shipping! But who is here? mine old\\nmaster Vincentio! now we are undone and brought to nothing.\\n\\nVINCENTIO:\\n\\nBIONDELLO:\\nHope I may choose, sir.\\n\\nVINCENTIO:\\nCome hither, you rogue. What, have you forgot me?\\n\\nBIONDELLO:\\nForgot you! no, sir: I could not forget you, for I\\nnever saw you before in all my life.\\n\\nVINCENTIO:\\nWhat, you notorious villain, didst thou never see\\nthy master's father, Vincentio?\\n\\nBIONDELLO:\\nWhat, my old worshipful old master? yes, marry, sir:\\nsee where he looks out of the window.\\n\\nVINCENTIO:\\nIs't so, indeed.\\n\\nBIONDELLO:\\nHelp, help, help! here's a madman will murder me.\\n\\nPedant:\\nHelp, son! help, Signior Baptista!\\n\\nPETRUCHIO:\\nPrithee, Kate, let's stand aside and see the end of\\nthis controversy.\\n\\nTRANIO:\\nSir, what are you that offer to beat my servant?\\n\\nVINCENTIO:\\nWhat am I, sir! nay, what are you, sir? O immortal\\ngods! O fine villain! A silken doublet! a velvet\\nhose! a scarlet cloak! and a copatain hat! O, I\\nam undone! I am undone! while I play the good\\nhusband at home, my son and my servant spend all at\\nthe university.\\n\\nTRANIO:\\nHow now! what's the matter?\\n\\nBAPTISTA:\\nWhat, is the man lunatic?\\n\\nTRANIO:\\nSir, you seem a sober ancient gentleman by your\\nhabit, but your words show you a madman. Why, sir,\\nwhat 'cerns it you if I wear pearl and gold? I\\nthank my good father, I am able to maintain it.\\n\\nVINCENTIO:\\nThy father! O villain! he is a sailmaker in Bergamo.\\n\\nBAPTISTA:\\nYou mistake, sir, you mistake, sir. Pray, what do\\nyou think is his name?\\n\\nVINCENTIO:\\nHis name! as if I knew not his name: I have brought\\nhim up ever since he was three years old, and his\\nname is Tranio.\\n\\nPedant:\\nAway, away, mad ass! his name is Lucentio and he is\\nmine only son, and heir to the lands of me, Signior Vincentio.\\n\\nVINCENTIO:\\nLucentio! O, he hath murdered his master! Lay hold\\non him, I charge you, in the duke's name. O, my\\nson, my son! Tell me, thou villain, where is my son Lucentio?\\n\\nTRANIO:\\nCall forth an officer.\\nCarry this mad knave to the gaol. Father Baptista,\\nI charge you see that he be forthcoming.\\n\\nVINCENTIO:\\nCarry me to the gaol!\\n\\nGREMIO:\\nStay, officer: he shall not go to prison.\\n\\nBAPTISTA:\\nTalk not, Signior Gremio: I say he shall go to prison.\\n\\nGREMIO:\\nTake heed, Signior Baptista, lest you be\\ncony-catched in this business: I dare swear this\\nis the right Vincentio.\\n\\nPedant:\\nSwear, if thou darest.\\n\\nGREMIO:\\nNay, I dare not swear it.\\n\\nTRANIO:\\nThen thou wert best say that I am not Lucentio.\\n\\nGREMIO:\\nYes, I know thee to be Signior Lucentio.\\n\\nBAPTISTA:\\nAway with the dotard! to the gaol with him!\\n\\nVINCENTIO:\\nThus strangers may be hailed and abused: O\\nmonstrous villain!\\n\\nBIONDELLO:\\nO! we are spoiled and--yonder he is: deny him,\\nforswear him, or else we are all undone.\\n\\nLUCENTIO:\\n\\nVINCENTIO:\\nLives my sweet son?\\n\\nBIANCA:\\nPardon, dear father.\\n\\nBAPTISTA:\\nHow hast thou offended?\\nWhere is Lucentio?\\n\\nLUCENTIO:\\nHere's Lucentio,\\nRight son to the right Vincentio;\\nThat have by marriage made thy daughter mine,\\nWhile counterfeit supposes bleared thine eyne.\\n\\nGREMIO:\\nHere's packing, with a witness to deceive us all!\\n\\nVINCENTIO:\\nWhere is that damned villain Tranio,\\nThat faced and braved me in this matter so?\\n\\nBAPTISTA:\\nWhy, tell me, is not this my Cambio?\\n\\nBIANCA:\\nCambio is changed into Lucentio.\\n\\nLUCENTIO:\\nLove wrought these miracles. Bianca's love\\nMade me exchange my state with Tranio,\\nWhile he did bear my countenance in the town;\\nAnd happily I have arrived at the last\\nUnto the wished haven of my bliss.\\nWhat Tranio did, myself enforced him to;\\nThen pardon him, sweet father, for my sake.\\n\\nVINCENTIO:\\nI'll slit the villain's nose, that would have sent\\nme to the gaol.\\n\\nBAPTISTA:\\nBut do you hear, sir? have you married my daughter\\nwithout asking my good will?\\n\\nVINCENTIO:\\nFear not, Baptista; we will content you, go to: but\\nI will in, to be revenged for this villany.\\n\\nBAPTISTA:\\nAnd I, to sound the depth of this knavery.\\n\\nLUCENTIO:\\nLook not pale, Bianca; thy father will not frown.\\n\\nGREMIO:\\nMy cake is dough; but I'll in among the rest,\\nOut of hope of all, but my share of the feast.\\n\\nKATHARINA:\\nHusband, let's follow, to see the end of this ado.\\n\\nPETRUCHIO:\\nFirst kiss me, Kate, and we will.\\n\\nKATHARINA:\\nWhat, in the midst of the street?\\n\\nPETRUCHIO:\\nWhat, art thou ashamed of me?\\n\\nKATHARINA:\\nNo, sir, God forbid; but ashamed to kiss.\\n\\nPETRUCHIO:\\nWhy, then let's home again. Come, sirrah, let's away.\\n\\nKATHARINA:\\nNay, I will give thee a kiss: now pray thee, love, stay.\\n\\nPETRUCHIO:\\nIs not this well? Come, my sweet Kate:\\nBetter once than never, for never too late.\\n\\nLUCENTIO:\\nAt last, though long, our jarring notes agree:\\nAnd time it is, when raging war is done,\\nTo smile at scapes and perils overblown.\\nMy fair Bianca, bid my father welcome,\\nWhile I with self-same kindness welcome thine.\\nBrother Petruchio, sister Katharina,\\nAnd thou, Hortensio, with thy loving widow,\\nFeast with the best, and welcome to my house:\\nMy banquet is to close our stomachs up,\\nAfter our great good cheer. Pray you, sit down;\\nFor now we sit to chat as well as eat.\\n\\nPETRUCHIO:\\nNothing but sit and sit, and eat and eat!\\n\\nBAPTISTA:\\nPadua affords this kindness, son Petruchio.\\n\\nPETRUCHIO:\\nPadua affords nothing but what is kind.\\n\\nHORTENSIO:\\nFor both our sakes, I would that word were true.\\n\\nPETRUCHIO:\\nNow, for my life, Hortensio fears his widow.\\n\\nWidow:\\nThen never trust me, if I be afeard.\\n\\nPETRUCHIO:\\nYou are very sensible, and yet you miss my sense:\\nI mean, Hortensio is afeard of you.\\n\\nWidow:\\nHe that is giddy thinks the world turns round.\\n\\nPETRUCHIO:\\nRoundly replied.\\n\\nKATHARINA:\\nMistress, how mean you that?\\n\\nWidow:\\nThus I conceive by him.\\n\\nPETRUCHIO:\\nConceives by me! How likes Hortensio that?\\n\\nHORTENSIO:\\nMy widow says, thus she conceives her tale.\\n\\nPETRUCHIO:\\nVery well mended. Kiss him for that, good widow.\\n\\nKATHARINA:\\n'He that is giddy thinks the world turns round:'\\nI pray you, tell me what you meant by that.\\n\\nWidow:\\nYour husband, being troubled with a shrew,\\nMeasures my husband's sorrow by his woe:\\nAnd now you know my meaning,\\n\\nKATHARINA:\\nA very mean meaning.\\n\\nWidow:\\nRight, I mean you.\\n\\nKATHARINA:\\nAnd I am mean indeed, respecting you.\\n\\nPETRUCHIO:\\nTo her, Kate!\\n\\nHORTENSIO:\\nTo her, widow!\\n\\nPETRUCHIO:\\nA hundred marks, my Kate does put her down.\\n\\nHORTENSIO:\\nThat's my office.\\n\\nPETRUCHIO:\\nSpoke like an officer; ha' to thee, lad!\\n\\nBAPTISTA:\\nHow likes Gremio these quick-witted folks?\\n\\nGREMIO:\\nBelieve me, sir, they butt together well.\\n\\nBIANCA:\\nHead, and butt! an hasty-witted body\\nWould say your head and butt were head and horn.\\n\\nVINCENTIO:\\nAy, mistress bride, hath that awaken'd you?\\n\\nBIANCA:\\nAy, but not frighted me; therefore I'll sleep again.\\n\\nPETRUCHIO:\\nNay, that you shall not: since you have begun,\\nHave at you for a bitter jest or two!\\n\\nBIANCA:\\nAm I your bird? I mean to shift my bush;\\nAnd then pursue me as you draw your bow.\\nYou are welcome all.\\n\\nPETRUCHIO:\\nShe hath prevented me. Here, Signior Tranio.\\nThis bird you aim'd at, though you hit her not;\\nTherefore a health to all that shot and miss'd.\\n\\nTRANIO:\\nO, sir, Lucentio slipp'd me like his greyhound,\\nWhich runs himself and catches for his master.\\n\\nPETRUCHIO:\\nA good swift simile, but something currish.\\n\\nTRANIO:\\n'Tis well, sir, that you hunted for yourself:\\n'Tis thought your deer does hold you at a bay.\\n\\nBAPTISTA:\\nO ho, Petruchio! Tranio hits you now.\\n\\nLUCENTIO:\\nI thank thee for that gird, good Tranio.\\n\\nHORTENSIO:\\nConfess, confess, hath he not hit you here?\\n\\nPETRUCHIO:\\nA' has a little gall'd me, I confess;\\nAnd, as the jest did glance away from me,\\n'Tis ten to one it maim'd you two outright.\\n\\nBAPTISTA:\\nNow, in good sadness, son Petruchio,\\nI think thou hast the veriest shrew of all.\\n\\nPETRUCHIO:\\nWell, I say no: and therefore for assurance\\nLet's each one send unto his wife;\\nAnd he whose wife is most obedient\\nTo come at first when he doth send for her,\\nShall win the wager which we will propose.\\n\\nHORTENSIO:\\nContent. What is the wager?\\n\\nLUCENTIO:\\nTwenty crowns.\\n\\nPETRUCHIO:\\nTwenty crowns!\\nI'll venture so much of my hawk or hound,\\nBut twenty times so much upon my wife.\\n\\nLUCENTIO:\\nA hundred then.\\n\\nHORTENSIO:\\nContent.\\n\\nPETRUCHIO:\\nA match! 'tis done.\\n\\nHORTENSIO:\\nWho shall begin?\\n\\nLUCENTIO:\\nThat will I.\\nGo, Biondello, bid your mistress come to me.\\n\\nBIONDELLO:\\nI go.\\n\\nBAPTISTA:\\nSon, I'll be your half, Bianca comes.\\n\\nLUCENTIO:\\nI'll have no halves; I'll bear it all myself.\\nHow now! what news?\\n\\nBIONDELLO:\\nSir, my mistress sends you word\\nThat she is busy and she cannot come.\\n\\nPETRUCHIO:\\nHow! she is busy and she cannot come!\\nIs that an answer?\\n\\nGREMIO:\\nAy, and a kind one too:\\nPray God, sir, your wife send you not a worse.\\n\\nPETRUCHIO:\\nI hope better.\\n\\nHORTENSIO:\\nSirrah Biondello, go and entreat my wife\\nTo come to me forthwith.\\n\\nPETRUCHIO:\\nO, ho! entreat her!\\nNay, then she must needs come.\\n\\nHORTENSIO:\\nI am afraid, sir,\\nDo what you can, yours will not be entreated.\\nNow, where's my wife?\\n\\nBIONDELLO:\\nShe says you have some goodly jest in hand:\\nShe will not come: she bids you come to her.\\n\\nPETRUCHIO:\\nWorse and worse; she will not come! O vile,\\nIntolerable, not to be endured!\\nSirrah Grumio, go to your mistress;\\nSay, I command her to come to me.\\n\\nHORTENSIO:\\nI know her answer.\\n\\nPETRUCHIO:\\nWhat?\\n\\nHORTENSIO:\\nShe will not.\\n\\nPETRUCHIO:\\nThe fouler fortune mine, and there an end.\\n\\nBAPTISTA:\\nNow, by my holidame, here comes Katharina!\\n\\nKATHARINA:\\nWhat is your will, sir, that you send for me?\\n\\nPETRUCHIO:\\nWhere is your sister, and Hortensio's wife?\\n\\nKATHARINA:\\nThey sit conferring by the parlor fire.\\n\\nPETRUCHIO:\\nGo fetch them hither: if they deny to come.\\nSwinge me them soundly forth unto their husbands:\\nAway, I say, and bring them hither straight.\\n\\nLUCENTIO:\\nHere is a wonder, if you talk of a wonder.\\n\\nHORTENSIO:\\nAnd so it is: I wonder what it bodes.\\n\\nPETRUCHIO:\\nMarry, peace it bodes, and love and quiet life,\\nAnd awful rule and right supremacy;\\nAnd, to be short, what not, that's sweet and happy?\\n\\nBAPTISTA:\\nNow, fair befal thee, good Petruchio!\\nThe wager thou hast won; and I will add\\nUnto their losses twenty thousand crowns;\\nAnother dowry to another daughter,\\nFor she is changed, as she had never been.\\n\\nPETRUCHIO:\\nNay, I will win my wager better yet\\nAnd show more sign of her obedience,\\nHer new-built virtue and obedience.\\nSee where she comes and brings your froward wives\\nAs prisoners to her womanly persuasion.\\nKatharina, that cap of yours becomes you not:\\nOff with that bauble, throw it under-foot.\\n\\nWidow:\\nLord, let me never have a cause to sigh,\\nTill I be brought to such a silly pass!\\n\\nBIANCA:\\nFie! what a foolish duty call you this?\\n\\nLUCENTIO:\\nI would your duty were as foolish too:\\nThe wisdom of your duty, fair Bianca,\\nHath cost me an hundred crowns since supper-time.\\n\\nBIANCA:\\nThe more fool you, for laying on my duty.\\n\\nPETRUCHIO:\\nKatharina, I charge thee, tell these headstrong women\\nWhat duty they do owe their lords and husbands.\\n\\nWidow:\\nCome, come, you're mocking: we will have no telling.\\n\\nPETRUCHIO:\\nCome on, I say; and first begin with her.\\n\\nWidow:\\nShe shall not.\\n\\nPETRUCHIO:\\nI say she shall: and first begin with her.\\n\\nKATHARINA:\\nFie, fie! unknit that threatening unkind brow,\\nAnd dart not scornful glances from those eyes,\\nTo wound thy lord, thy king, thy governor:\\nIt blots thy beauty as frosts do bite the meads,\\nConfounds thy fame as whirlwinds shake fair buds,\\nAnd in no sense is meet or amiable.\\nA woman moved is like a fountain troubled,\\nMuddy, ill-seeming, thick, bereft of beauty;\\nAnd while it is so, none so dry or thirsty\\nWill deign to sip or touch one drop of it.\\nThy husband is thy lord, thy life, thy keeper,\\nThy head, thy sovereign; one that cares for thee,\\nAnd for thy maintenance commits his body\\nTo painful labour both by sea and land,\\nTo watch the night in storms, the day in cold,\\nWhilst thou liest warm at home, secure and safe;\\nAnd craves no other tribute at thy hands\\nBut love, fair looks and true obedience;\\nToo little payment for so great a debt.\\nSuch duty as the subject owes the prince\\nEven such a woman oweth to her husband;\\nAnd when she is froward, peevish, sullen, sour,\\nAnd not obedient to his honest will,\\nWhat is she but a foul contending rebel\\nAnd graceless traitor to her loving lord?\\nI am ashamed that women are so simple\\nTo offer war where they should kneel for peace;\\nOr seek for rule, supremacy and sway,\\nWhen they are bound to serve, love and obey.\\nWhy are our bodies soft and weak and smooth,\\nUnapt to toil and trouble in the world,\\nBut that our soft conditions and our hearts\\nShould well agree with our external parts?\\nCome, come, you froward and unable worms!\\nMy mind hath been as big as one of yours,\\nMy heart as great, my reason haply more,\\nTo bandy word for word and frown for frown;\\nBut now I see our lances are but straws,\\nOur strength as weak, our weakness past compare,\\nThat seeming to be most which we indeed least are.\\nThen vail your stomachs, for it is no boot,\\nAnd place your hands below your husband's foot:\\nIn token of which duty, if he please,\\nMy hand is ready; may it do him ease.\\n\\nPETRUCHIO:\\nWhy, there's a wench! Come on, and kiss me, Kate.\\n\\nLUCENTIO:\\nWell, go thy ways, old lad; for thou shalt ha't.\\n\\nVINCENTIO:\\n'Tis a good hearing when children are toward.\\n\\nLUCENTIO:\\nBut a harsh hearing when women are froward.\\n\\nPETRUCHIO:\\nCome, Kate, we'll to bed.\\nWe three are married, but you two are sped.\\n'Twas I won the wager, though you hit the white;\\nAnd, being a winner, God give you good night!\\n\\nHORTENSIO:\\nNow, go thy ways; thou hast tamed a curst shrew.\\n\\nLUCENTIO:\\n'Tis a wonder, by your leave, she will be tamed so.\\n\\nMaster:\\nBoatswain!\\n\\nBoatswain:\\nHere, master: what cheer?\\n\\nMaster:\\nGood, speak to the mariners: fall to't, yarely,\\nor we run ourselves aground: bestir, bestir.\\n\\nBoatswain:\\nHeigh, my hearts! cheerly, cheerly, my hearts!\\nyare, yare! Take in the topsail. Tend to the\\nmaster's whistle. Blow, till thou burst thy wind,\\nif room enough!\\n\\nALONSO:\\nGood boatswain, have care. Where's the master?\\nPlay the men.\\n\\nBoatswain:\\nI pray now, keep below.\\n\\nANTONIO:\\nWhere is the master, boatswain?\\n\\nBoatswain:\\nDo you not hear him? You mar our labour: keep your\\ncabins: you do assist the storm.\\n\\nGONZALO:\\nNay, good, be patient.\\n\\nBoatswain:\\nWhen the sea is. Hence! What cares these roarers\\nfor the name of king? To cabin: silence! trouble us not.\\n\\nGONZALO:\\nGood, yet remember whom thou hast aboard.\\n\\nBoatswain:\\nNone that I more love than myself. You are a\\ncounsellor; if you can command these elements to\\nsilence, and work the peace of the present, we will\\nnot hand a rope more; use your authority: if you\\ncannot, give thanks you have lived so long, and make\\nyourself ready in your cabin for the mischance of\\nthe hour, if it so hap. Cheerly, good hearts! Out\\nof our way, I say.\\n\\nGONZALO:\\nI have great comfort from this fellow: methinks he\\nhath no drowning mark upon him; his complexion is\\nperfect gallows. Stand fast, good Fate, to his\\nhanging: make the rope of his destiny our cable,\\nfor our own doth little advantage. If he be not\\nborn to be hanged, our case is miserable.\\n\\nBoatswain:\\nDown with the topmast! yare! lower, lower! Bring\\nher to try with main-course.\\nA plague upon this howling! they are louder than\\nthe weather or our office.\\nYet again! what do you here? Shall we give o'er\\nand drown? Have you a mind to sink?\\n\\nSEBASTIAN:\\nA pox o' your throat, you bawling, blasphemous,\\nincharitable dog!\\n\\nBoatswain:\\nWork you then.\\n\\nANTONIO:\\nHang, cur! hang, you whoreson, insolent noisemaker!\\nWe are less afraid to be drowned than thou art.\\n\\nGONZALO:\\nI'll warrant him for drowning; though the ship were\\nno stronger than a nutshell and as leaky as an\\nunstanched wench.\\n\\nBoatswain:\\nLay her a-hold, a-hold! set her two courses off to\\nsea again; lay her off.\\n\\nMariners:\\nAll lost! to prayers, to prayers! all lost!\\n\\nBoatswain:\\nWhat, must our mouths be cold?\\n\\nGONZALO:\\nThe king and prince at prayers! let's assist them,\\nFor our case is as theirs.\\n\\nSEBASTIAN:\\nI'm out of patience.\\n\\nANTONIO:\\nWe are merely cheated of our lives by drunkards:\\nThis wide-chapp'd rascal--would thou mightst lie drowning\\nThe washing of ten tides!\\n\\nGONZALO:\\nHe'll be hang'd yet,\\nThough every drop of water swear against it\\nAnd gape at widest to glut him.\\n\\nANTONIO:\\nLet's all sink with the king.\\n\\nSEBASTIAN:\\nLet's take leave of him.\\n\\nGONZALO:\\nNow would I give a thousand furlongs of sea for an\\nacre of barren ground, long heath, brown furze, any\\nthing. The wills above be done! but I would fain\\ndie a dry death.\\n\\nMIRANDA:\\nIf by your art, my dearest father, you have\\nPut the wild waters in this roar, allay them.\\nThe sky, it seems, would pour down stinking pitch,\\nBut that the sea, mounting to the welkin's cheek,\\nDashes the fire out. O, I have suffered\\nWith those that I saw suffer: a brave vessel,\\nWho had, no doubt, some noble creature in her,\\nDash'd all to pieces. O, the cry did knock\\nAgainst my very heart. Poor souls, they perish'd.\\nHad I been any god of power, I would\\nHave sunk the sea within the earth or ere\\nIt should the good ship so have swallow'd and\\nThe fraughting souls within her.\\n\\nPROSPERO:\\nBe collected:\\nNo more amazement: tell your piteous heart\\nThere's no harm done.\\n\\nMIRANDA:\\nO, woe the day!\\n\\nPROSPERO:\\nNo harm.\\nI have done nothing but in care of thee,\\nOf thee, my dear one, thee, my daughter, who\\nArt ignorant of what thou art, nought knowing\\nOf whence I am, nor that I am more better\\nThan Prospero, master of a full poor cell,\\nAnd thy no greater father.\\n\\nMIRANDA:\\nMore to know\\nDid never meddle with my thoughts.\\n\\nPROSPERO:\\n'Tis time\\nI should inform thee farther. Lend thy hand,\\nAnd pluck my magic garment from me. So:\\nLie there, my art. Wipe thou thine eyes; have comfort.\\nThe direful spectacle of the wreck, which touch'd\\nThe very virtue of compassion in thee,\\nI have with such provision in mine art\\nSo safely ordered that there is no soul--\\nNo, not so much perdition as an hair\\nBetid to any creature in the vessel\\nWhich thou heard'st cry, which thou saw'st sink. Sit down;\\nFor thou must now know farther.\\n\\nMIRANDA:\\nYou have often\\nBegun to tell me what I am, but stopp'd\\nAnd left me to a bootless inquisition,\\nConcluding 'Stay: not yet.'\\n\\nPROSPERO:\\nThe hour's now come;\\nThe very minute bids thee ope thine ear;\\nObey and be attentive. Canst thou remember\\nA time before we came unto this cell?\\nI do not think thou canst, for then thou wast not\\nOut three years old.\\n\\nMIRANDA:\\nCertainly, sir, I can.\\n\\nPROSPERO:\\nBy what? by any other house or person?\\nOf any thing the image tell me that\\nHath kept with thy remembrance.\\n\\nMIRANDA:\\n'Tis far off\\nAnd rather like a dream than an assurance\\nThat my remembrance warrants. Had I not\\nFour or five women once that tended me?\\n\\nPROSPERO:\\nThou hadst, and more, Miranda. But how is it\\nThat this lives in thy mind? What seest thou else\\nIn the dark backward and abysm of time?\\nIf thou remember'st aught ere thou camest here,\\nHow thou camest here thou mayst.\\n\\nMIRANDA:\\nBut that I do not.\\n\\nPROSPERO:\\nTwelve year since, Miranda, twelve year since,\\nThy father was the Duke of Milan and\\nA prince of power.\\n\\nMIRANDA:\\nSir, are not you my father?\\n\\nPROSPERO:\\nThy mother was a piece of virtue, and\\nShe said thou wast my daughter; and thy father\\nWas Duke of Milan; and thou his only heir\\nAnd princess no worse issued.\\n\\nMIRANDA:\\nO the heavens!\\nWhat foul play had we, that we came from thence?\\nOr blessed was't we did?\\n\\nPROSPERO:\\nBoth, both, my girl:\\nBy foul play, as thou say'st, were we heaved thence,\\nBut blessedly holp hither.\\n\\nMIRANDA:\\nO, my heart bleeds\\nTo think o' the teen that I have turn'd you to,\\nWhich is from my remembrance! Please you, farther.\\n\\nPROSPERO:\\nMy brother and thy uncle, call'd Antonio--\\nI pray thee, mark me--that a brother should\\nBe so perfidious!--he whom next thyself\\nOf all the world I loved and to him put\\nThe manage of my state; as at that time\\nThrough all the signories it was the first\\nAnd Prospero the prime duke, being so reputed\\nIn dignity, and for the liberal arts\\nWithout a parallel; those being all my study,\\nThe government I cast upon my brother\\nAnd to my state grew stranger, being transported\\nAnd rapt in secret studies. Thy false uncle--\\nDost thou attend me?\\n\\nMIRANDA:\\nSir, most heedfully.\\n\\nPROSPERO:\\nBeing once perfected how to grant suits,\\nHow to deny them, who to advance and who\\nTo trash for over-topping, new created\\nThe creatures that were mine, I say, or changed 'em,\\nOr else new form'd 'em; having both the key\\nOf officer and office, set all hearts i' the state\\nTo what tune pleased his ear; that now he was\\nThe ivy which had hid my princely trunk,\\nAnd suck'd my verdure out on't. Thou attend'st not.\\n\\nMIRANDA:\\nO, good sir, I do.\\n\\nPROSPERO:\\nI pray thee, mark me.\\nI, thus neglecting worldly ends, all dedicated\\nTo closeness and the bettering of my mind\\nWith that which, but by being so retired,\\nO'er-prized all popular rate, in my false brother\\nAwaked an evil nature; and my trust,\\nLike a good parent, did beget of him\\nA falsehood in its contrary as great\\nAs my trust was; which had indeed no limit,\\nA confidence sans bound. He being thus lorded,\\nNot only with what my revenue yielded,\\nBut what my power might else exact, like one\\nWho having into truth, by telling of it,\\nMade such a sinner of his memory,\\nTo credit his own lie, he did believe\\nHe was indeed the duke; out o' the substitution\\nAnd executing the outward face of royalty,\\nWith all prerogative: hence his ambition growing--\\nDost thou hear?\\n\\nMIRANDA:\\nYour tale, sir, would cure deafness.\\n\\nPROSPERO:\\nTo have no screen between this part he play'd\\nAnd him he play'd it for, he needs will be\\nAbsolute Milan. Me, poor man, my library\\nWas dukedom large enough: of temporal royalties\\nHe thinks me now incapable; confederates--\\nSo dry he was for sway--wi' the King of Naples\\nTo give him annual tribute, do him homage,\\nSubject his coronet to his crown and bend\\nThe dukedom yet unbow'd--alas, poor Milan!--\\nTo most ignoble stooping.\\n\\nMIRANDA:\\nO the heavens!\\n\\nPROSPERO:\\nMark his condition and the event; then tell me\\nIf this might be a brother.\\n\\nMIRANDA:\\nI should sin\\nTo think but nobly of my grandmother:\\nGood wombs have borne bad sons.\\n\\nPROSPERO:\\nNow the condition.\\nThe King of Naples, being an enemy\\nTo me inveterate, hearkens my brother's suit;\\nWhich was, that he, in lieu o' the premises\\nOf homage and I know not how much tribute,\\nShould presently extirpate me and mine\\nOut of the dukedom and confer fair Milan\\nWith all the honours on my brother: whereon,\\nA treacherous army levied, one midnight\\nFated to the purpose did Antonio open\\nThe gates of Milan, and, i' the dead of darkness,\\nThe ministers for the purpose hurried thence\\nMe and thy crying self.\\n\\nMIRANDA:\\nAlack, for pity!\\nI, not remembering how I cried out then,\\nWill cry it o'er again: it is a hint\\nThat wrings mine eyes to't.\\n\\nPROSPERO:\\nHear a little further\\nAnd then I'll bring thee to the present business\\nWhich now's upon's; without the which this story\\nWere most impertinent.\\n\\nMIRANDA:\\nWherefore did they not\\nThat hour destroy us?\\n\\nPROSPERO:\\nWell demanded, wench:\\nMy tale provokes that question. Dear, they durst not,\\nSo dear the love my people bore me, nor set\\nA mark so bloody on the business, but\\nWith colours fairer painted their foul ends.\\nIn few, they hurried us aboard a bark,\\nBore us some leagues to sea; where they prepared\\nA rotten carcass of a boat, not rigg'd,\\nNor tackle, sail, nor mast; the very rats\\nInstinctively had quit it: there they hoist us,\\nTo cry to the sea that roar'd to us, to sigh\\nTo the winds whose pity, sighing back again,\\nDid us but loving wrong.\\n\\nMIRANDA:\\nAlack, what trouble\\nWas I then to you!\\n\\nPROSPERO:\\nO, a cherubim\\nThou wast that did preserve me. Thou didst smile.\\nInfused with a fortitude from heaven,\\nWhen I have deck'd the sea with drops full salt,\\nUnder my burthen groan'd; which raised in me\\nAn undergoing stomach, to bear up\\nAgainst what should ensue.\\n\\nMIRANDA:\\nHow came we ashore?\\n\\nPROSPERO:\\nBy Providence divine.\\nSome food we had and some fresh water that\\nA noble Neapolitan, Gonzalo,\\nOut of his charity, being then appointed\\nMaster of this design, did give us, with\\nRich garments, linens, stuffs and necessaries,\\nWhich since have steaded much; so, of his gentleness,\\nKnowing I loved my books, he furnish'd me\\nFrom mine own library with volumes that\\nI prize above my dukedom.\\n\\nMIRANDA:\\nWould I might\\nBut ever see that man!\\n\\nPROSPERO:\\nNow I arise:\\nSit still, and hear the last of our sea-sorrow.\\nHere in this island we arrived; and here\\nHave I, thy schoolmaster, made thee more profit\\nThan other princesses can that have more time\\nFor vainer hours and tutors not so careful.\\n\\nMIRANDA:\\nHeavens thank you for't! And now, I pray you, sir,\\nFor still 'tis beating in my mind, your reason\\nFor raising this sea-storm?\\n\\nPROSPERO:\\nKnow thus far forth.\\nBy accident most strange, bountiful Fortune,\\nNow my dear lady, hath mine enemies\\nBrought to this shore; and by my prescience\\nI find my zenith doth depend upon\\nA most auspicious star, whose influence\\nIf now I court not but omit, my fortunes\\nWill ever after droop. Here cease more questions:\\nThou art inclined to sleep; 'tis a good dulness,\\nAnd give it way: I know thou canst not choose.\\nCome away, servant, come. I am ready now.\\nApproach, my Ariel, come.\\n\\nARIEL:\\nAll hail, great master! grave sir, hail! I come\\nTo answer thy best pleasure; be't to fly,\\nTo swim, to dive into the fire, to ride\\nOn the curl'd clouds, to thy strong bidding task\\nAriel and all his quality.\\n\\nPROSPERO:\\nHast thou, spirit,\\nPerform'd to point the tempest that I bade thee?\\n\\nARIEL:\\nTo every article.\\nI boarded the king's ship; now on the beak,\\nNow in the waist, the deck, in every cabin,\\nI flamed amazement: sometime I'ld divide,\\nAnd burn in many places; on the topmast,\\nThe yards and bowsprit, would I flame distinctly,\\nThen meet and join. Jove's lightnings, the precursors\\nO' the dreadful thunder-claps, more momentary\\nAnd sight-outrunning were not; the fire and cracks\\nOf sulphurous roaring the most mighty Neptune\\nSeem to besiege and make his bold waves tremble,\\nYea, his dread trident shake.\\n\\nPROSPERO:\\nMy brave spirit!\\nWho was so firm, so constant, that this coil\\nWould not infect his reason?\\n\\nARIEL:\\nNot a soul\\nBut felt a fever of the mad and play'd\\nSome tricks of desperation. All but mariners\\nPlunged in the foaming brine and quit the vessel,\\nThen all afire with me: the king's son, Ferdinand,\\nWith hair up-staring,--then like reeds, not hair,--\\nWas the first man that leap'd; cried, 'Hell is empty\\nAnd all the devils are here.'\\n\\nPROSPERO:\\nWhy that's my spirit!\\nBut was not this nigh shore?\\n\\nARIEL:\\nClose by, my master.\\n\\nPROSPERO:\\nBut are they, Ariel, safe?\\n\\nARIEL:\\nNot a hair perish'd;\\nOn their sustaining garments not a blemish,\\nBut fresher than before: and, as thou badest me,\\nIn troops I have dispersed them 'bout the isle.\\nThe king's son have I landed by himself;\\nWhom I left cooling of the air with sighs\\nIn an odd angle of the isle and sitting,\\nHis arms in this sad knot.\\n\\nPROSPERO:\\nOf the king's ship\\nThe mariners say how thou hast disposed\\nAnd all the rest o' the fleet.\\n\\nARIEL:\\nSafely in harbour\\nIs the king's ship; in the deep nook, where once\\nThou call'dst me up at midnight to fetch dew\\nFrom the still-vex'd Bermoothes, there she's hid:\\nThe mariners all under hatches stow'd;\\nWho, with a charm join'd to their suffer'd labour,\\nI have left asleep; and for the rest o' the fleet\\nWhich I dispersed, they all have met again\\nAnd are upon the Mediterranean flote,\\nBound sadly home for Naples,\\nSupposing that they saw the king's ship wreck'd\\nAnd his great person perish.\\n\\nPROSPERO:\\nAriel, thy charge\\nExactly is perform'd: but there's more work.\\nWhat is the time o' the day?\\n\\nARIEL:\\nPast the mid season.\\n\\nPROSPERO:\\nAt least two glasses. The time 'twixt six and now\\nMust by us both be spent most preciously.\\n\\nARIEL:\\nIs there more toil? Since thou dost give me pains,\\nLet me remember thee what thou hast promised,\\nWhich is not yet perform'd me.\\n\\nPROSPERO:\\nHow now? moody?\\nWhat is't thou canst demand?\\n\\nARIEL:\\nMy liberty.\\n\\nPROSPERO:\\nBefore the time be out? no more!\\n\\nARIEL:\\nI prithee,\\nRemember I have done thee worthy service;\\nTold thee no lies, made thee no mistakings, served\\nWithout or grudge or grumblings: thou didst promise\\nTo bate me a full year.\\n\\nPROSPERO:\\nDost thou forget\\nFrom what a torment I did free thee?\\n\\nARIEL:\\nNo.\\n\\nPROSPERO:\\nThou dost, and think'st it much to tread the ooze\\nOf the salt deep,\\nTo run upon the sharp wind of the north,\\nTo do me business in the veins o' the earth\\nWhen it is baked with frost.\\n\\nARIEL:\\nI do not, sir.\\n\\nPROSPERO:\\nThou liest, malignant thing! Hast thou forgot\\nThe foul witch Sycorax, who with age and envy\\nWas grown into a hoop? hast thou forgot her?\\n\\nARIEL:\\nNo, sir.\\n\\nPROSPERO:\\nThou hast. Where was she born? speak; tell me.\\n\\nARIEL:\\nSir, in Argier.\\n\\nPROSPERO:\\nO, was she so? I must\\nOnce in a month recount what thou hast been,\\nWhich thou forget'st. This damn'd witch Sycorax,\\nFor mischiefs manifold and sorceries terrible\\nTo enter human hearing, from Argier,\\nThou know'st, was banish'd: for one thing she did\\nThey would not take her life. Is not this true?\\n\\nARIEL:\\nAy, sir.\\n\\nPROSPERO:\\nThis blue-eyed hag was hither brought with child\\nAnd here was left by the sailors. Thou, my slave,\\nAs thou report'st thyself, wast then her servant;\\nAnd, for thou wast a spirit too delicate\\nTo act her earthy and abhorr'd commands,\\nRefusing her grand hests, she did confine thee,\\nBy help of her more potent ministers\\nAnd in her most unmitigable rage,\\nInto a cloven pine; within which rift\\nImprison'd thou didst painfully remain\\nA dozen years; within which space she died\\nAnd left thee there; where thou didst vent thy groans\\nAs fast as mill-wheels strike. Then was this island--\\nSave for the son that she did litter here,\\nA freckled whelp hag-born--not honour'd with\\nA human shape.\\n\\nARIEL:\\nYes, Caliban her son.\\n\\nPROSPERO:\\nDull thing, I say so; he, that Caliban\\nWhom now I keep in service. Thou best know'st\\nWhat torment I did find thee in; thy groans\\nDid make wolves howl and penetrate the breasts\\nOf ever angry bears: it was a torment\\nTo lay upon the damn'd, which Sycorax\\nCould not again undo: it was mine art,\\nWhen I arrived and heard thee, that made gape\\nThe pine and let thee out.\\n\\nARIEL:\\nI thank thee, master.\\n\\nPROSPERO:\\nIf thou more murmur'st, I will rend an oak\\nAnd peg thee in his knotty entrails till\\nThou hast howl'd away twelve winters.\\n\\nARIEL:\\nPardon, master;\\nI will be correspondent to command\\nAnd do my spiriting gently.\\n\\nPROSPERO:\\nDo so, and after two days\\nI will discharge thee.\\n\\nARIEL:\\nThat's my noble master!\\nWhat shall I do? say what; what shall I do?\\n\\nPROSPERO:\\nGo make thyself like a nymph o' the sea: be subject\\nTo no sight but thine and mine, invisible\\nTo every eyeball else. Go take this shape\\nAnd hither come in't: go, hence with diligence!\\nAwake, dear heart, awake! thou hast slept well; Awake!\\n\\nMIRANDA:\\nThe strangeness of your story put\\nHeaviness in me.\\n\\nPROSPERO:\\nShake it off. Come on;\\nWe'll visit Caliban my slave, who never\\nYields us kind answer.\\n\\nMIRANDA:\\n'Tis a villain, sir,\\nI do not love to look on.\\n\\nPROSPERO:\\nBut, as 'tis,\\nWe cannot miss him: he does make our fire,\\nFetch in our wood and serves in offices\\nThat profit us. What, ho! slave! Caliban!\\nThou earth, thou! speak.\\n\\nCALIBAN:\\n\\nPROSPERO:\\nCome forth, I say! there's other business for thee:\\nCome, thou tortoise! when?\\nFine apparition! My quaint Ariel,\\nHark in thine ear.\\n\\nARIEL:\\nMy lord it shall be done.\\n\\nPROSPERO:\\nThou poisonous slave, got by the devil himself\\nUpon thy wicked dam, come forth!\\n\\nCALIBAN:\\nAs wicked dew as e'er my mother brush'd\\nWith raven's feather from unwholesome fen\\nDrop on you both! a south-west blow on ye\\nAnd blister you all o'er!\\n\\nPROSPERO:\\nFor this, be sure, to-night thou shalt have cramps,\\nSide-stitches that shall pen thy breath up; urchins\\nShall, for that vast of night that they may work,\\nAll exercise on thee; thou shalt be pinch'd\\nAs thick as honeycomb, each pinch more stinging\\nThan bees that made 'em.\\n\\nCALIBAN:\\nI must eat my dinner.\\nThis island's mine, by Sycorax my mother,\\nWhich thou takest from me. When thou camest first,\\nThou strokedst me and madest much of me, wouldst give me\\nWater with berries in't, and teach me how\\nTo name the bigger light, and how the less,\\nThat burn by day and night: and then I loved thee\\nAnd show'd thee all the qualities o' the isle,\\nThe fresh springs, brine-pits, barren place and fertile:\\nCursed be I that did so! All the charms\\nOf Sycorax, toads, beetles, bats, light on you!\\nFor I am all the subjects that you have,\\nWhich first was mine own king: and here you sty me\\nIn this hard rock, whiles you do keep from me\\nThe rest o' the island.\\n\\nPROSPERO:\\nThou most lying slave,\\nWhom stripes may move, not kindness! I have used thee,\\nFilth as thou art, with human care, and lodged thee\\nIn mine own cell, till thou didst seek to violate\\nThe honour of my child.\\n\\nCALIBAN:\\nO ho, O ho! would't had been done!\\nThou didst prevent me; I had peopled else\\nThis isle with Calibans.\\n\\nPROSPERO:\\nAbhorred slave,\\nWhich any print of goodness wilt not take,\\nBeing capable of all ill! I pitied thee,\\nTook pains to make thee speak, taught thee each hour\\nOne thing or other: when thou didst not, savage,\\nKnow thine own meaning, but wouldst gabble like\\nA thing most brutish, I endow'd thy purposes\\nWith words that made them known. But thy vile race,\\nThough thou didst learn, had that in't which\\ngood natures\\nCould not abide to be with; therefore wast thou\\nDeservedly confined into this rock,\\nWho hadst deserved more than a prison.\\n\\nCALIBAN:\\nYou taught me language; and my profit on't\\nIs, I know how to curse. The red plague rid you\\nFor learning me your language!\\n\\nPROSPERO:\\nHag-seed, hence!\\nFetch us in fuel; and be quick, thou'rt best,\\nTo answer other business. Shrug'st thou, malice?\\nIf thou neglect'st or dost unwillingly\\nWhat I command, I'll rack thee with old cramps,\\nFill all thy bones with aches, make thee roar\\nThat beasts shall tremble at thy din.\\n\\nCALIBAN:\\nNo, pray thee.\\nI must obey: his art is of such power,\\nIt would control my dam's god, Setebos,\\nand make a vassal of him.\\n\\nPROSPERO:\\nSo, slave; hence!\\nCome unto these yellow sands,\\nAnd then take hands:\\nCourtsied when you have and kiss'd\\nThe wild waves whist,\\nFoot it featly here and there;\\nAnd, sweet sprites, the burthen bear.\\nHark, hark!\\n\\nFERDINAND:\\nWhere should this music be? i' the air or the earth?\\nIt sounds no more: and sure, it waits upon\\nSome god o' the island. Sitting on a bank,\\nWeeping again the king my father's wreck,\\nThis music crept by me upon the waters,\\nAllaying both their fury and my passion\\nWith its sweet air: thence I have follow'd it,\\nOr it hath drawn me rather. But 'tis gone.\\nNo, it begins again.\\nFull fathom five thy father lies;\\nOf his bones are coral made;\\nThose are pearls that were his eyes:\\nNothing of him that doth fade\\nBut doth suffer a sea-change\\nInto something rich and strange.\\nSea-nymphs hourly ring his knell\\nHark! now I hear them,--Ding-dong, bell.\\n\\nFERDINAND:\\nThe ditty does remember my drown'd father.\\nThis is no mortal business, nor no sound\\nThat the earth owes. I hear it now above me.\\n\\nPROSPERO:\\nThe fringed curtains of thine eye advance\\nAnd say what thou seest yond.\\n\\nMIRANDA:\\nWhat is't? a spirit?\\nLord, how it looks about! Believe me, sir,\\nIt carries a brave form. But 'tis a spirit.\\n\\nPROSPERO:\\nNo, wench; it eats and sleeps and hath such senses\\nAs we have, such. This gallant which thou seest\\nWas in the wreck; and, but he's something stain'd\\nWith grief that's beauty's canker, thou mightst call him\\nA goodly person: he hath lost his fellows\\nAnd strays about to find 'em.\\n\\nMIRANDA:\\nI might call him\\nA thing divine, for nothing natural\\nI ever saw so noble.\\n\\nPROSPERO:\\n\\nFERDINAND:\\nMost sure, the goddess\\nOn whom these airs attend! Vouchsafe my prayer\\nMay know if you remain upon this island;\\nAnd that you will some good instruction give\\nHow I may bear me here: my prime request,\\nWhich I do last pronounce, is, O you wonder!\\nIf you be maid or no?\\n\\nMIRANDA:\\nNo wonder, sir;\\nBut certainly a maid.\\n\\nFERDINAND:\\nMy language! heavens!\\nI am the best of them that speak this speech,\\nWere I but where 'tis spoken.\\n\\nPROSPERO:\\nHow? the best?\\nWhat wert thou, if the King of Naples heard thee?\\n\\nFERDINAND:\\nA single thing, as I am now, that wonders\\nTo hear thee speak of Naples. He does hear me;\\nAnd that he does I weep: myself am Naples,\\nWho with mine eyes, never since at ebb, beheld\\nThe king my father wreck'd.\\n\\nMIRANDA:\\nAlack, for mercy!\\n\\nFERDINAND:\\nYes, faith, and all his lords; the Duke of Milan\\nAnd his brave son being twain.\\n\\nPROSPERO:\\n\\nMIRANDA:\\nWhy speaks my father so ungently? This\\nIs the third man that e'er I saw, the first\\nThat e'er I sigh'd for: pity move my father\\nTo be inclined my way!\\n\\nFERDINAND:\\nO, if a virgin,\\nAnd your affection not gone forth, I'll make you\\nThe queen of Naples.\\n\\nPROSPERO:\\nSoft, sir! one word more.\\nThey are both in either's powers; but this swift business\\nI must uneasy make, lest too light winning\\nMake the prize light.\\nOne word more; I charge thee\\nThat thou attend me: thou dost here usurp\\nThe name thou owest not; and hast put thyself\\nUpon this island as a spy, to win it\\nFrom me, the lord on't.\\n\\nFERDINAND:\\nNo, as I am a man.\\n\\nMIRANDA:\\nThere's nothing ill can dwell in such a temple:\\nIf the ill spirit have so fair a house,\\nGood things will strive to dwell with't.\\n\\nPROSPERO:\\nFollow me.\\nSpeak not you for him; he's a traitor. Come;\\nI'll manacle thy neck and feet together:\\nSea-water shalt thou drink; thy food shall be\\nThe fresh-brook muscles, wither'd roots and husks\\nWherein the acorn cradled. Follow.\\n\\nFERDINAND:\\nNo;\\nI will resist such entertainment till\\nMine enemy has more power.\\n\\nMIRANDA:\\nO dear father,\\nMake not too rash a trial of him, for\\nHe's gentle and not fearful.\\n\\nPROSPERO:\\nWhat? I say,\\nMy foot my tutor? Put thy sword up, traitor;\\nWho makest a show but darest not strike, thy conscience\\nIs so possess'd with guilt: come from thy ward,\\nFor I can here disarm thee with this stick\\nAnd make thy weapon drop.\\n\\nMIRANDA:\\nBeseech you, father.\\n\\nPROSPERO:\\nHence! hang not on my garments.\\n\\nMIRANDA:\\nSir, have pity;\\nI'll be his surety.\\n\\nPROSPERO:\\nSilence! one word more\\nShall make me chide thee, if not hate thee. What!\\nAn advocate for an imposter! hush!\\nThou think'st there is no more such shapes as he,\\nHaving seen but him and Caliban: foolish wench!\\nTo the most of men this is a Caliban\\nAnd they to him are angels.\\n\\nMIRANDA:\\nMy affections\\nAre then most humble; I have no ambition\\nTo see a goodlier man.\\n\\nPROSPERO:\\nCome on; obey:\\nThy nerves are in their infancy again\\nAnd have no vigour in them.\\n\\nFERDINAND:\\nSo they are;\\nMy spirits, as in a dream, are all bound up.\\nMy father's loss, the weakness which I feel,\\nThe wreck of all my friends, nor this man's threats,\\nTo whom I am subdued, are but light to me,\\nMight I but through my prison once a day\\nBehold this maid: all corners else o' the earth\\nLet liberty make use of; space enough\\nHave I in such a prison.\\n\\nPROSPERO:\\n\\nMIRANDA:\\nBe of comfort;\\nMy father's of a better nature, sir,\\nThan he appears by speech: this is unwonted\\nWhich now came from him.\\n\\nPROSPERO:\\nThou shalt be free\\nAs mountain winds: but then exactly do\\nAll points of my command.\\n\\nARIEL:\\nTo the syllable.\\n\\nPROSPERO:\\nCome, follow. Speak not for him.\\n\\nGONZALO:\\nBeseech you, sir, be merry; you have cause,\\nSo have we all, of joy; for our escape\\nIs much beyond our loss. Our hint of woe\\nIs common; every day some sailor's wife,\\nThe masters of some merchant and the merchant\\nHave just our theme of woe; but for the miracle,\\nI mean our preservation, few in millions\\nCan speak like us: then wisely, good sir, weigh\\nOur sorrow with our comfort.\\n\\nALONSO:\\nPrithee, peace.\\n\\nSEBASTIAN:\\nHe receives comfort like cold porridge.\\n\\nANTONIO:\\nThe visitor will not give him o'er so.\\n\\nSEBASTIAN:\\nLook he's winding up the watch of his wit;\\nby and by it will strike.\\n\\nGONZALO:\\nSir,--\\n\\nSEBASTIAN:\\nOne: tell.\\n\\nGONZALO:\\nWhen every grief is entertain'd that's offer'd,\\nComes to the entertainer--\\n\\nSEBASTIAN:\\nA dollar.\\n\\nGONZALO:\\nDolour comes to him, indeed: you\\nhave spoken truer than you purposed.\\n\\nSEBASTIAN:\\nYou have taken it wiselier than I meant you should.\\n\\nGONZALO:\\nTherefore, my lord,--\\n\\nANTONIO:\\nFie, what a spendthrift is he of his tongue!\\n\\nALONSO:\\nI prithee, spare.\\n\\nGONZALO:\\nWell, I have done: but yet,--\\n\\nSEBASTIAN:\\nHe will be talking.\\n\\nANTONIO:\\nWhich, of he or Adrian, for a good\\nwager, first begins to crow?\\n\\nSEBASTIAN:\\nThe old cock.\\n\\nANTONIO:\\nThe cockerel.\\n\\nSEBASTIAN:\\nDone. The wager?\\n\\nANTONIO:\\nA laughter.\\n\\nSEBASTIAN:\\nA match!\\n\\nADRIAN:\\nThough this island seem to be desert,--\\n\\nSEBASTIAN:\\nHa, ha, ha! So, you're paid.\\n\\nADRIAN:\\nUninhabitable and almost inaccessible,--\\n\\nSEBASTIAN:\\nYet,--\\n\\nADRIAN:\\nYet,--\\n\\nANTONIO:\\nHe could not miss't.\\n\\nADRIAN:\\nIt must needs be of subtle, tender and delicate\\ntemperance.\\n\\nANTONIO:\\nTemperance was a delicate wench.\\n\\nSEBASTIAN:\\nAy, and a subtle; as he most learnedly delivered.\\n\\nADRIAN:\\nThe air breathes upon us here most sweetly.\\n\\nSEBASTIAN:\\nAs if it had lungs and rotten ones.\\n\\nANTONIO:\\nOr as 'twere perfumed by a fen.\\n\\nGONZALO:\\nHere is everything advantageous to life.\\n\\nANTONIO:\\nTrue; save means to live.\\n\\nSEBASTIAN:\\nOf that there's none, or little.\\n\\nGONZALO:\\nHow lush and lusty the grass looks! how green!\\n\\nANTONIO:\\nThe ground indeed is tawny.\\n\\nSEBASTIAN:\\nWith an eye of green in't.\\n\\nANTONIO:\\nHe misses not much.\\n\\nSEBASTIAN:\\nNo; he doth but mistake the truth totally.\\n\\nGONZALO:\\nBut the rarity of it is,--which is indeed almost\\nbeyond credit,--\\n\\nSEBASTIAN:\\nAs many vouched rarities are.\\n\\nGONZALO:\\nThat our garments, being, as they were, drenched in\\nthe sea, hold notwithstanding their freshness and\\nglosses, being rather new-dyed than stained with\\nsalt water.\\n\\nANTONIO:\\nIf but one of his pockets could speak, would it not\\nsay he lies?\\n\\nSEBASTIAN:\\nAy, or very falsely pocket up his report\\n\\nGONZALO:\\nMethinks our garments are now as fresh as when we\\nput them on first in Afric, at the marriage of\\nthe king's fair daughter Claribel to the King of Tunis.\\n\\nSEBASTIAN:\\n'Twas a sweet marriage, and we prosper well in our return.\\n\\nADRIAN:\\nTunis was never graced before with such a paragon to\\ntheir queen.\\n\\nGONZALO:\\nNot since widow Dido's time.\\n\\nANTONIO:\\nWidow! a pox o' that! How came that widow in?\\nwidow Dido!\\n\\nSEBASTIAN:\\nWhat if he had said 'widower AEneas' too? Good Lord,\\nhow you take it!\\n\\nADRIAN:\\n'Widow Dido' said you? you make me study of that:\\nshe was of Carthage, not of Tunis.\\n\\nGONZALO:\\nThis Tunis, sir, was Carthage.\\n\\nADRIAN:\\nCarthage?\\n\\nGONZALO:\\nI assure you, Carthage.\\n\\nSEBASTIAN:\\nHis word is more than the miraculous harp; he hath\\nraised the wall and houses too.\\n\\nANTONIO:\\nWhat impossible matter will he make easy next?\\n\\nSEBASTIAN:\\nI think he will carry this island home in his pocket\\nand give it his son for an apple.\\n\\nANTONIO:\\nAnd, sowing the kernels of it in the sea, bring\\nforth more islands.\\n\\nGONZALO:\\nAy.\\n\\nANTONIO:\\nWhy, in good time.\\n\\nGONZALO:\\nSir, we were talking that our garments seem now\\nas fresh as when we were at Tunis at the marriage\\nof your daughter, who is now queen.\\n\\nANTONIO:\\nAnd the rarest that e'er came there.\\n\\nSEBASTIAN:\\nBate, I beseech you, widow Dido.\\n\\nANTONIO:\\nO, widow Dido! ay, widow Dido.\\n\\nGONZALO:\\nIs not, sir, my doublet as fresh as the first day I\\nwore it? I mean, in a sort.\\n\\nANTONIO:\\nThat sort was well fished for.\\n\\nGONZALO:\\nWhen I wore it at your daughter's marriage?\\n\\nALONSO:\\nYou cram these words into mine ears against\\nThe stomach of my sense. Would I had never\\nMarried my daughter there! for, coming thence,\\nMy son is lost and, in my rate, she too,\\nWho is so far from Italy removed\\nI ne'er again shall see her. O thou mine heir\\nOf Naples and of Milan, what strange fish\\nHath made his meal on thee?\\n\\nFRANCISCO:\\nSir, he may live:\\nI saw him beat the surges under him,\\nAnd ride upon their backs; he trod the water,\\nWhose enmity he flung aside, and breasted\\nThe surge most swoln that met him; his bold head\\n'Bove the contentious waves he kept, and oar'd\\nHimself with his good arms in lusty stroke\\nTo the shore, that o'er his wave-worn basis bow'd,\\nAs stooping to relieve him: I not doubt\\nHe came alive to land.\\n\\nALONSO:\\nNo, no, he's gone.\\n\\nSEBASTIAN:\\nSir, you may thank yourself for this great loss,\\nThat would not bless our Europe with your daughter,\\nBut rather lose her to an African;\\nWhere she at least is banish'd from your eye,\\nWho hath cause to wet the grief on't.\\n\\nALONSO:\\nPrithee, peace.\\n\\nSEBASTIAN:\\nYou were kneel'd to and importuned otherwise\\nBy all of us, and the fair soul herself\\nWeigh'd between loathness and obedience, at\\nWhich end o' the beam should bow. We have lost your\\nson,\\nI fear, for ever: Milan and Naples have\\nMore widows in them of this business' making\\nThan we bring men to comfort them:\\nThe fault's your own.\\n\\nALONSO:\\nSo is the dear'st o' the loss.\\n\\nGONZALO:\\nMy lord Sebastian,\\nThe truth you speak doth lack some gentleness\\nAnd time to speak it in: you rub the sore,\\nWhen you should bring the plaster.\\n\\nSEBASTIAN:\\nVery well.\\n\\nANTONIO:\\nAnd most chirurgeonly.\\n\\nGONZALO:\\nIt is foul weather in us all, good sir,\\nWhen you are cloudy.\\n\\nSEBASTIAN:\\nFoul weather?\\n\\nANTONIO:\\nVery foul.\\n\\nGONZALO:\\nHad I plantation of this isle, my lord,--\\n\\nANTONIO:\\nHe'ld sow't with nettle-seed.\\n\\nSEBASTIAN:\\nOr docks, or mallows.\\n\\nGONZALO:\\nAnd were the king on't, what would I do?\\n\\nSEBASTIAN:\\n'Scape being drunk for want of wine.\\n\\nGONZALO:\\nI' the commonwealth I would by contraries\\nExecute all things; for no kind of traffic\\nWould I admit; no name of magistrate;\\nLetters should not be known; riches, poverty,\\nAnd use of service, none; contract, succession,\\nBourn, bound of land, tilth, vineyard, none;\\nNo use of metal, corn, or wine, or oil;\\nNo occupation; all men idle, all;\\nAnd women too, but innocent and pure;\\nNo sovereignty;--\\n\\nSEBASTIAN:\\nYet he would be king on't.\\n\\nANTONIO:\\nThe latter end of his commonwealth forgets the\\nbeginning.\\n\\nGONZALO:\\nAll things in common nature should produce\\nWithout sweat or endeavour: treason, felony,\\nSword, pike, knife, gun, or need of any engine,\\nWould I not have; but nature should bring forth,\\nOf its own kind, all foison, all abundance,\\nTo feed my innocent people.\\n\\nSEBASTIAN:\\nNo marrying 'mong his subjects?\\n\\nANTONIO:\\nNone, man; all idle: whores and knaves.\\n\\nGONZALO:\\nI would with such perfection govern, sir,\\nTo excel the golden age.\\n\\nSEBASTIAN:\\nGod save his majesty!\\n\\nANTONIO:\\nLong live Gonzalo!\\n\\nGONZALO:\\nAnd,--do you mark me, sir?\\n\\nALONSO:\\nPrithee, no more: thou dost talk nothing to me.\\n\\nGONZALO:\\nI do well believe your highness; and\\ndid it to minister occasion to these gentlemen,\\nwho are of such sensible and nimble lungs that\\nthey always use to laugh at nothing.\\n\\nANTONIO:\\n'Twas you we laughed at.\\n\\nGONZALO:\\nWho in this kind of merry fooling am nothing\\nto you: so you may continue and laugh at\\nnothing still.\\n\\nANTONIO:\\nWhat a blow was there given!\\n\\nSEBASTIAN:\\nAn it had not fallen flat-long.\\n\\nGONZALO:\\nYou are gentlemen of brave metal; you would lift\\nthe moon out of her sphere, if she would continue\\nin it five weeks without changing.\\n\\nSEBASTIAN:\\nWe would so, and then go a bat-fowling.\\n\\nANTONIO:\\nNay, good my lord, be not angry.\\n\\nGONZALO:\\nNo, I warrant you; I will not adventure\\nmy discretion so weakly. Will you laugh\\nme asleep, for I am very heavy?\\n\\nANTONIO:\\nGo sleep, and hear us.\\n\\nALONSO:\\nWhat, all so soon asleep! I wish mine eyes\\nWould, with themselves, shut up my thoughts: I find\\nThey are inclined to do so.\\n\\nSEBASTIAN:\\nPlease you, sir,\\nDo not omit the heavy offer of it:\\nIt seldom visits sorrow; when it doth,\\nIt is a comforter.\\n\\nANTONIO:\\nWe two, my lord,\\nWill guard your person while you take your rest,\\nAnd watch your safety.\\n\\nALONSO:\\nThank you. Wondrous heavy.\\n\\nSEBASTIAN:\\nWhat a strange drowsiness possesses them!\\n\\nANTONIO:\\nIt is the quality o' the climate.\\n\\nSEBASTIAN:\\nWhy\\nDoth it not then our eyelids sink? I find not\\nMyself disposed to sleep.\\n\\nANTONIO:\\nNor I; my spirits are nimble.\\nThey fell together all, as by consent;\\nThey dropp'd, as by a thunder-stroke. What might,\\nWorthy Sebastian? O, what might?--No more:--\\nAnd yet me thinks I see it in thy face,\\nWhat thou shouldst be: the occasion speaks thee, and\\nMy strong imagination sees a crown\\nDropping upon thy head.\\n\\nSEBASTIAN:\\nWhat, art thou waking?\\n\\nANTONIO:\\nDo you not hear me speak?\\n\\nSEBASTIAN:\\nI do; and surely\\nIt is a sleepy language and thou speak'st\\nOut of thy sleep. What is it thou didst say?\\nThis is a strange repose, to be asleep\\nWith eyes wide open; standing, speaking, moving,\\nAnd yet so fast asleep.\\n\\nANTONIO:\\nNoble Sebastian,\\nThou let'st thy fortune sleep--die, rather; wink'st\\nWhiles thou art waking.\\n\"}"
      ]
     },
     "execution_count": 17,
     "metadata": {},
     "output_type": "execute_result"
    }
   ],
   "source": [
    "test[0]"
   ]
  },
  {
   "cell_type": "code",
   "execution_count": 9,
   "metadata": {},
   "outputs": [
    {
     "name": "stderr",
     "output_type": "stream",
     "text": [
      "/home/brian/anaconda3/envs/NLP/lib/python3.10/site-packages/huggingface_hub/file_download.py:1132: FutureWarning: `resume_download` is deprecated and will be removed in version 1.0.0. Downloads always resume when possible. If you want to force a new download, use `force_download=True`.\n",
      "  warnings.warn(\n"
     ]
    }
   ],
   "source": [
    "tokenizer = AutoTokenizer.from_pretrained('google-bert/bert-base-uncased')"
   ]
  },
  {
   "cell_type": "code",
   "execution_count": 10,
   "metadata": {},
   "outputs": [],
   "source": [
    "def remove_empty(examples):\n",
    "    ret = {}\n",
    "    ret['text'] = []\n",
    "    for ex in examples['text']:\n",
    "        if len(ex) > 2:\n",
    "            ret['text'].append(ex)\n",
    "\n",
    "    return ret\n"
   ]
  },
  {
   "cell_type": "code",
   "execution_count": 81,
   "metadata": {},
   "outputs": [],
   "source": [
    "def tokenize_func(examples):\n",
    "    return tokenizer(examples['text'], padding='max_length', truncation=True, max_length=seq_len)"
   ]
  },
  {
   "cell_type": "code",
   "execution_count": 82,
   "metadata": {},
   "outputs": [],
   "source": [
    "data_train_remove_empty = train.map(remove_empty, batched=True)"
   ]
  },
  {
   "cell_type": "code",
   "execution_count": 83,
   "metadata": {},
   "outputs": [],
   "source": [
    "data_valid = validation.map(remove_empty, batched=True)\n",
    "data_test = test.map(remove_empty, batched=True)"
   ]
  },
  {
   "cell_type": "code",
   "execution_count": 84,
   "metadata": {},
   "outputs": [
    {
     "data": {
      "text/plain": [
       "[' = Valkyria Chronicles III = \\n',\n",
       " ' Senjō no Valkyria 3 : <unk> Chronicles ( Japanese : 戦場のヴァルキュリア3 , lit . Valkyria of the Battlefield 3 ) , commonly referred to as Valkyria Chronicles III outside Japan , is a tactical role @-@ playing video game developed by Sega and Media.Vision for the PlayStation Portable . Released in January 2011 in Japan , it is the third game in the Valkyria series . Employing the same fusion of tactical and real @-@ time gameplay as its predecessors , the story runs parallel to the first game and follows the \" Nameless \" , a penal military unit serving the nation of Gallia during the Second Europan War who perform secret black operations and are pitted against the Imperial unit \" <unk> Raven \" . \\n',\n",
       " \" The game began development in 2010 , carrying over a large portion of the work done on Valkyria Chronicles II . While it retained the standard features of the series , it also underwent multiple adjustments , such as making the game more forgiving for series newcomers . Character designer <unk> Honjou and composer Hitoshi Sakimoto both returned from previous entries , along with Valkyria Chronicles II director Takeshi Ozawa . A large team of writers handled the script . The game 's opening theme was sung by May 'n . \\n\",\n",
       " \" It met with positive sales in Japan , and was praised by both Japanese and western critics . After release , it received downloadable content , along with an expanded edition in November of that year . It was also adapted into manga and an original video animation series . Due to low sales of Valkyria Chronicles II , Valkyria Chronicles III was not localized , but a fan translation compatible with the game 's expanded edition was released in 2014 . Media.Vision would return to the franchise with the development of Valkyria : Azure Revolution for the PlayStation 4 . \\n\",\n",
       " ' = = Gameplay = = \\n',\n",
       " \" As with previous <unk> Chronicles games , Valkyria Chronicles III is a tactical role @-@ playing game where players take control of a military unit and take part in missions against enemy forces . Stories are told through comic book @-@ like panels with animated character portraits , with characters speaking partially through voiced speech bubbles and partially through unvoiced text . The player progresses through a series of linear missions , gradually unlocked as maps that can be freely scanned through and replayed as they are unlocked . The route to each story location on the map varies depending on an individual player 's approach : when one option is selected , the other is sealed off to the player . Outside missions , the player characters rest in a camp , where units can be customized and character growth occurs . Alongside the main story missions are character @-@ specific sub missions relating to different squad members . After the game 's completion , additional episodes are unlocked , some of them having a higher difficulty than those found in the rest of the game . There are also love simulation elements related to the game 's two main heroines , although they take a very minor role . \\n\",\n",
       " ' The game \\'s battle system , the <unk> system , is carried over directly from <unk> Chronicles . During missions , players select each unit using a top @-@ down perspective of the battlefield map : once a character is selected , the player moves the character around the battlefield in third @-@ person . A character can only act once per @-@ turn , but characters can be granted multiple turns at the expense of other characters \\' turns . Each character has a field and distance of movement limited by their Action Gauge . Up to nine characters can be assigned to a single mission . During gameplay , characters will call out if something happens to them , such as their health points ( HP ) getting low or being knocked out by enemy attacks . Each character has specific \" Potentials \" , skills unique to each character . They are divided into \" Personal Potential \" , which are innate skills that remain unaltered unless otherwise dictated by the story and can either help or impede a character , and \" Battle Potentials \" , which are grown throughout the game and always grant boons to a character . To learn Battle Potentials , each character has a unique \" Masters Table \" , a grid @-@ based skill table that can be used to acquire and link different skills . Characters also have Special Abilities that grant them temporary boosts on the battlefield : Kurt can activate \" Direct Command \" and move around the battlefield without depleting his Action Point gauge , the character <unk> can shift into her \" Valkyria Form \" and become invincible , while Imca can target multiple enemy units with her heavy weapon . \\n',\n",
       " \" Troops are divided into five classes : Scouts , <unk> , Engineers , Lancers and Armored Soldier . Troopers can switch classes by changing their assigned weapon . Changing class does not greatly affect the stats gained while in a previous class . With victory in battle , experience points are awarded to the squad , which are distributed into five different attributes shared by the entire squad , a feature differing from early games ' method of distributing to different unit types . \\n\",\n",
       " ' = = Plot = = \\n',\n",
       " ' The game takes place during the Second Europan War . Gallian Army Squad 422 , also known as \" The Nameless \" , are a penal military unit composed of criminals , foreign deserters , and military offenders whose real names are erased from the records and thereon officially referred to by numbers . Ordered by the Gallian military to perform the most dangerous missions that the Regular Army and Militia will not do , they are nevertheless up to the task , exemplified by their motto , <unk> <unk> , meaning \" Always Ready . \" The three main characters are No.7 Kurt Irving , an army officer falsely accused of treason who wishes to redeem himself ; Ace No.1 Imca , a female Darcsen heavy weapons specialist who seeks revenge against the Valkyria who destroyed her home ; and No.13 Riela <unk> , a seemingly jinxed young woman who is unknowingly a descendant of the Valkyria . Together with their fellow squad members , these three are tasked to fight against a mysterious Imperial unit known as Calamity Raven , consisting of mostly Darcsen soldiers . \\n']"
      ]
     },
     "execution_count": 84,
     "metadata": {},
     "output_type": "execute_result"
    }
   ],
   "source": [
    "data_train_remove_empty['text'][0:10]"
   ]
  },
  {
   "cell_type": "code",
   "execution_count": 85,
   "metadata": {},
   "outputs": [
    {
     "data": {
      "application/vnd.jupyter.widget-view+json": {
       "model_id": "8a437186ac0a44e7b26b00233bd4d70f",
       "version_major": 2,
       "version_minor": 0
      },
      "text/plain": [
       "Map:   0%|          | 0/1165029 [00:00<?, ? examples/s]"
      ]
     },
     "metadata": {},
     "output_type": "display_data"
    }
   ],
   "source": [
    "tk_train = data_train_remove_empty.map(tokenize_func, batched=True)"
   ]
  },
  {
   "cell_type": "code",
   "execution_count": 86,
   "metadata": {},
   "outputs": [
    {
     "data": {
      "application/vnd.jupyter.widget-view+json": {
       "model_id": "1e2f5287696842e4b0840fa9f9316aec",
       "version_major": 2,
       "version_minor": 0
      },
      "text/plain": [
       "Map:   0%|          | 0/2461 [00:00<?, ? examples/s]"
      ]
     },
     "metadata": {},
     "output_type": "display_data"
    }
   ],
   "source": [
    "tk_valid = data_valid.map(tokenize_func, batched=True)"
   ]
  },
  {
   "cell_type": "code",
   "execution_count": 87,
   "metadata": {},
   "outputs": [
    {
     "data": {
      "application/vnd.jupyter.widget-view+json": {
       "model_id": "fb0fc14d513c4d018635c1ec7b8f80b6",
       "version_major": 2,
       "version_minor": 0
      },
      "text/plain": [
       "Map:   0%|          | 0/2891 [00:00<?, ? examples/s]"
      ]
     },
     "metadata": {},
     "output_type": "display_data"
    }
   ],
   "source": [
    "tk_test = data_test.map(tokenize_func, batched=True)"
   ]
  },
  {
   "cell_type": "code",
   "execution_count": 88,
   "metadata": {},
   "outputs": [
    {
     "data": {
      "text/plain": [
       "Dataset({\n",
       "    features: ['text', 'input_ids', 'token_type_ids', 'attention_mask'],\n",
       "    num_rows: 1165029\n",
       "})"
      ]
     },
     "execution_count": 88,
     "metadata": {},
     "output_type": "execute_result"
    }
   ],
   "source": [
    "tk_train"
   ]
  },
  {
   "cell_type": "code",
   "execution_count": 19,
   "metadata": {},
   "outputs": [
    {
     "ename": "RuntimeError",
     "evalue": "tril: input tensor must have at least 2 dimensions",
     "output_type": "error",
     "traceback": [
      "\u001b[0;31m---------------------------------------------------------------------------\u001b[0m",
      "\u001b[0;31mRuntimeError\u001b[0m                              Traceback (most recent call last)",
      "Cell \u001b[0;32mIn[19], line 1\u001b[0m\n\u001b[0;32m----> 1\u001b[0m model \u001b[38;5;241m=\u001b[39m \u001b[43mDecoder\u001b[49m\u001b[43m(\u001b[49m\u001b[43mnum_blocks\u001b[49m\u001b[38;5;241;43m=\u001b[39;49m\u001b[38;5;241;43m3\u001b[39;49m\u001b[43m,\u001b[49m\u001b[43m \u001b[49m\u001b[43md_model\u001b[49m\u001b[38;5;241;43m=\u001b[39;49m\u001b[38;5;241;43m128\u001b[39;49m\u001b[43m,\u001b[49m\u001b[43m \u001b[49m\u001b[43md_internal\u001b[49m\u001b[38;5;241;43m=\u001b[39;49m\u001b[38;5;241;43m64\u001b[39;49m\u001b[43m,\u001b[49m\u001b[43m \u001b[49m\u001b[43mvocab_size\u001b[49m\u001b[38;5;241;43m=\u001b[39;49m\u001b[38;5;241;43m30522\u001b[39;49m\u001b[43m,\u001b[49m\u001b[43m \u001b[49m\u001b[43mnum_heads\u001b[49m\u001b[38;5;241;43m=\u001b[39;49m\u001b[38;5;241;43m3\u001b[39;49m\u001b[43m,\u001b[49m\u001b[43m \u001b[49m\u001b[43md_hidden\u001b[49m\u001b[38;5;241;43m=\u001b[39;49m\u001b[38;5;241;43m2048\u001b[39;49m\u001b[43m,\u001b[49m\u001b[43m \u001b[49m\u001b[43mfinal_dmodel\u001b[49m\u001b[38;5;241;43m=\u001b[39;49m\u001b[38;5;241;43m128\u001b[39;49m\u001b[43m)\u001b[49m\n",
      "File \u001b[0;32m~/Desktop/school/extra/transformer_pretrain/transfer_transformers/bus_transformer.py:52\u001b[0m, in \u001b[0;36mDecoder.__init__\u001b[0;34m(self, num_blocks, d_model, d_internal, d_hidden, vocab_size, num_heads, final_dmodel)\u001b[0m\n\u001b[1;32m     50\u001b[0m \u001b[38;5;28mself\u001b[39m\u001b[38;5;241m.\u001b[39mSoftMax \u001b[38;5;241m=\u001b[39m torch\u001b[38;5;241m.\u001b[39mnn\u001b[38;5;241m.\u001b[39mLogSoftmax(dim\u001b[38;5;241m=\u001b[39m\u001b[38;5;241m-\u001b[39m\u001b[38;5;241m1\u001b[39m)\n\u001b[1;32m     51\u001b[0m \u001b[38;5;66;03m# self.blocks = [Transformer(d_model, d_internal, num_heads) for _ in range(num_blocks)]\u001b[39;00m\n\u001b[0;32m---> 52\u001b[0m \u001b[38;5;28mself\u001b[39m\u001b[38;5;241m.\u001b[39mblocks \u001b[38;5;241m=\u001b[39m torch\u001b[38;5;241m.\u001b[39mnn\u001b[38;5;241m.\u001b[39mModuleList([Transformer(d_model, vocab_size, num_heads) \u001b[38;5;28;01mfor\u001b[39;00m _ \u001b[38;5;129;01min\u001b[39;00m \u001b[38;5;28mrange\u001b[39m(num_blocks)])\n\u001b[1;32m     53\u001b[0m \u001b[38;5;28mself\u001b[39m\u001b[38;5;241m.\u001b[39md_hidden \u001b[38;5;241m=\u001b[39m d_hidden\n\u001b[1;32m     55\u001b[0m \u001b[38;5;28mself\u001b[39m\u001b[38;5;241m.\u001b[39mconnection \u001b[38;5;241m=\u001b[39m torch\u001b[38;5;241m.\u001b[39mnn\u001b[38;5;241m.\u001b[39mLinear(d_model, d_hidden)\n",
      "File \u001b[0;32m~/Desktop/school/extra/transformer_pretrain/transfer_transformers/bus_transformer.py:52\u001b[0m, in \u001b[0;36m<listcomp>\u001b[0;34m(.0)\u001b[0m\n\u001b[1;32m     50\u001b[0m \u001b[38;5;28mself\u001b[39m\u001b[38;5;241m.\u001b[39mSoftMax \u001b[38;5;241m=\u001b[39m torch\u001b[38;5;241m.\u001b[39mnn\u001b[38;5;241m.\u001b[39mLogSoftmax(dim\u001b[38;5;241m=\u001b[39m\u001b[38;5;241m-\u001b[39m\u001b[38;5;241m1\u001b[39m)\n\u001b[1;32m     51\u001b[0m \u001b[38;5;66;03m# self.blocks = [Transformer(d_model, d_internal, num_heads) for _ in range(num_blocks)]\u001b[39;00m\n\u001b[0;32m---> 52\u001b[0m \u001b[38;5;28mself\u001b[39m\u001b[38;5;241m.\u001b[39mblocks \u001b[38;5;241m=\u001b[39m torch\u001b[38;5;241m.\u001b[39mnn\u001b[38;5;241m.\u001b[39mModuleList([Transformer(d_model, vocab_size, num_heads) \u001b[38;5;28;01mfor\u001b[39;00m _ \u001b[38;5;129;01min\u001b[39;00m \u001b[38;5;28mrange\u001b[39m(num_blocks)])\n\u001b[1;32m     53\u001b[0m \u001b[38;5;28mself\u001b[39m\u001b[38;5;241m.\u001b[39md_hidden \u001b[38;5;241m=\u001b[39m d_hidden\n\u001b[1;32m     55\u001b[0m \u001b[38;5;28mself\u001b[39m\u001b[38;5;241m.\u001b[39mconnection \u001b[38;5;241m=\u001b[39m torch\u001b[38;5;241m.\u001b[39mnn\u001b[38;5;241m.\u001b[39mLinear(d_model, d_hidden)\n",
      "File \u001b[0;32m~/Desktop/school/extra/transformer_pretrain/transfer_transformers/bus_transformer.py:163\u001b[0m, in \u001b[0;36mTransformer.__init__\u001b[0;34m(self, d_model, vocab_size, num_heads)\u001b[0m\n\u001b[1;32m    160\u001b[0m \u001b[38;5;28mself\u001b[39m\u001b[38;5;241m.\u001b[39mnum_heads \u001b[38;5;241m=\u001b[39m num_heads\n\u001b[1;32m    161\u001b[0m \u001b[38;5;28mself\u001b[39m\u001b[38;5;241m.\u001b[39mvocab_size \u001b[38;5;241m=\u001b[39m vocab_size \n\u001b[0;32m--> 163\u001b[0m \u001b[38;5;28mself\u001b[39m\u001b[38;5;241m.\u001b[39mheads \u001b[38;5;241m=\u001b[39m nn\u001b[38;5;241m.\u001b[39mModuleList([AttentionHead(d_model, \u001b[38;5;28mself\u001b[39m\u001b[38;5;241m.\u001b[39md_internal) \u001b[38;5;28;01mfor\u001b[39;00m _ \u001b[38;5;129;01min\u001b[39;00m \u001b[38;5;28mrange\u001b[39m(num_heads)])\n\u001b[1;32m    164\u001b[0m \u001b[38;5;28mself\u001b[39m\u001b[38;5;241m.\u001b[39mSoftmax \u001b[38;5;241m=\u001b[39m torch\u001b[38;5;241m.\u001b[39mnn\u001b[38;5;241m.\u001b[39mLogSoftmax(dim\u001b[38;5;241m=\u001b[39m\u001b[38;5;241m-\u001b[39m\u001b[38;5;241m1\u001b[39m)\n\u001b[1;32m    165\u001b[0m \u001b[38;5;28mself\u001b[39m\u001b[38;5;241m.\u001b[39mFFN \u001b[38;5;241m=\u001b[39m torch\u001b[38;5;241m.\u001b[39mnn\u001b[38;5;241m.\u001b[39mSequential(\n\u001b[1;32m    166\u001b[0m     torch\u001b[38;5;241m.\u001b[39mnn\u001b[38;5;241m.\u001b[39mLinear(d_model, d_model),\n\u001b[1;32m    167\u001b[0m     torch\u001b[38;5;241m.\u001b[39mnn\u001b[38;5;241m.\u001b[39mReLU(),\n\u001b[0;32m   (...)\u001b[0m\n\u001b[1;32m    172\u001b[0m     torch\u001b[38;5;241m.\u001b[39mnn\u001b[38;5;241m.\u001b[39mLinear(d_model, d_model)\n\u001b[1;32m    173\u001b[0m )\n",
      "File \u001b[0;32m~/Desktop/school/extra/transformer_pretrain/transfer_transformers/bus_transformer.py:163\u001b[0m, in \u001b[0;36m<listcomp>\u001b[0;34m(.0)\u001b[0m\n\u001b[1;32m    160\u001b[0m \u001b[38;5;28mself\u001b[39m\u001b[38;5;241m.\u001b[39mnum_heads \u001b[38;5;241m=\u001b[39m num_heads\n\u001b[1;32m    161\u001b[0m \u001b[38;5;28mself\u001b[39m\u001b[38;5;241m.\u001b[39mvocab_size \u001b[38;5;241m=\u001b[39m vocab_size \n\u001b[0;32m--> 163\u001b[0m \u001b[38;5;28mself\u001b[39m\u001b[38;5;241m.\u001b[39mheads \u001b[38;5;241m=\u001b[39m nn\u001b[38;5;241m.\u001b[39mModuleList([\u001b[43mAttentionHead\u001b[49m\u001b[43m(\u001b[49m\u001b[43md_model\u001b[49m\u001b[43m,\u001b[49m\u001b[43m \u001b[49m\u001b[38;5;28;43mself\u001b[39;49m\u001b[38;5;241;43m.\u001b[39;49m\u001b[43md_internal\u001b[49m\u001b[43m)\u001b[49m \u001b[38;5;28;01mfor\u001b[39;00m _ \u001b[38;5;129;01min\u001b[39;00m \u001b[38;5;28mrange\u001b[39m(num_heads)])\n\u001b[1;32m    164\u001b[0m \u001b[38;5;28mself\u001b[39m\u001b[38;5;241m.\u001b[39mSoftmax \u001b[38;5;241m=\u001b[39m torch\u001b[38;5;241m.\u001b[39mnn\u001b[38;5;241m.\u001b[39mLogSoftmax(dim\u001b[38;5;241m=\u001b[39m\u001b[38;5;241m-\u001b[39m\u001b[38;5;241m1\u001b[39m)\n\u001b[1;32m    165\u001b[0m \u001b[38;5;28mself\u001b[39m\u001b[38;5;241m.\u001b[39mFFN \u001b[38;5;241m=\u001b[39m torch\u001b[38;5;241m.\u001b[39mnn\u001b[38;5;241m.\u001b[39mSequential(\n\u001b[1;32m    166\u001b[0m     torch\u001b[38;5;241m.\u001b[39mnn\u001b[38;5;241m.\u001b[39mLinear(d_model, d_model),\n\u001b[1;32m    167\u001b[0m     torch\u001b[38;5;241m.\u001b[39mnn\u001b[38;5;241m.\u001b[39mReLU(),\n\u001b[0;32m   (...)\u001b[0m\n\u001b[1;32m    172\u001b[0m     torch\u001b[38;5;241m.\u001b[39mnn\u001b[38;5;241m.\u001b[39mLinear(d_model, d_model)\n\u001b[1;32m    173\u001b[0m )\n",
      "File \u001b[0;32m~/Desktop/school/extra/transformer_pretrain/transfer_transformers/bus_transformer.py:112\u001b[0m, in \u001b[0;36mAttentionHead.__init__\u001b[0;34m(self, d_model, d_internal)\u001b[0m\n\u001b[1;32m    110\u001b[0m \u001b[38;5;28mself\u001b[39m\u001b[38;5;241m.\u001b[39md_internal \u001b[38;5;241m=\u001b[39m d_internal\n\u001b[1;32m    111\u001b[0m \u001b[38;5;28mself\u001b[39m\u001b[38;5;241m.\u001b[39mnorm \u001b[38;5;241m=\u001b[39m \u001b[38;5;241m1\u001b[39m\u001b[38;5;241m/\u001b[39mtorch\u001b[38;5;241m.\u001b[39msqrt(torch\u001b[38;5;241m.\u001b[39mtensor(d_model))\n\u001b[0;32m--> 112\u001b[0m \u001b[38;5;28mself\u001b[39m\u001b[38;5;241m.\u001b[39mtril \u001b[38;5;241m=\u001b[39m \u001b[43mtorch\u001b[49m\u001b[38;5;241;43m.\u001b[39;49m\u001b[43mtril\u001b[49m\u001b[43m(\u001b[49m\u001b[43mtorch\u001b[49m\u001b[38;5;241;43m.\u001b[39;49m\u001b[43mones\u001b[49m\u001b[43m(\u001b[49m\u001b[43md_model\u001b[49m\u001b[43m)\u001b[49m\u001b[43m)\u001b[49m\n\u001b[1;32m    114\u001b[0m \u001b[38;5;28mself\u001b[39m\u001b[38;5;241m.\u001b[39mdouble()\n",
      "\u001b[0;31mRuntimeError\u001b[0m: tril: input tensor must have at least 2 dimensions"
     ]
    }
   ],
   "source": [
    "model = Decoder(num_blocks=3, d_model=128, d_internal=64, vocab_size=30522, num_heads=3, d_hidden=2048, final_dmodel=128)"
   ]
  },
  {
   "cell_type": "code",
   "execution_count": null,
   "metadata": {},
   "outputs": [],
   "source": [
    "sum(p.numel() for p in model.parameters())/1e6"
   ]
  },
  {
   "cell_type": "code",
   "execution_count": 90,
   "metadata": {},
   "outputs": [
    {
     "data": {
      "text/plain": [
       "torch.Size([512])"
      ]
     },
     "execution_count": 90,
     "metadata": {},
     "output_type": "execute_result"
    }
   ],
   "source": [
    "torch.tensor(tk_train[100]['input_ids']).shape"
   ]
  },
  {
   "cell_type": "code",
   "execution_count": 21,
   "metadata": {},
   "outputs": [],
   "source": [
    "from importlib import reload\n",
    "import bus_transformer as bus"
   ]
  },
  {
   "cell_type": "code",
   "execution_count": 24,
   "metadata": {},
   "outputs": [
    {
     "name": "stdout",
     "output_type": "stream",
     "text": [
      "271.368762 M parameters\n"
     ]
    }
   ],
   "source": [
    "reload(bus)\n",
    "import bus_transformer as bus\n",
    "model = bus.Decoder(num_blocks=2, d_model=128, d_internal=32, vocab_size=30522, num_heads=4, d_hidden=2048, final_dmodel=128)\n",
    "print( sum(p.numel() for p in model.parameters())/1e6, \"M parameters\")"
   ]
  },
  {
   "cell_type": "code",
   "execution_count": 94,
   "metadata": {},
   "outputs": [
    {
     "ename": "RuntimeError",
     "evalue": "The size of tensor a (512) must match the size of tensor b (128) at non-singleton dimension 2",
     "output_type": "error",
     "traceback": [
      "\u001b[0;31m---------------------------------------------------------------------------\u001b[0m",
      "\u001b[0;31mRuntimeError\u001b[0m                              Traceback (most recent call last)",
      "Cell \u001b[0;32mIn[94], line 1\u001b[0m\n\u001b[0;32m----> 1\u001b[0m py \u001b[38;5;241m=\u001b[39m \u001b[43mmodel\u001b[49m\u001b[43m(\u001b[49m\u001b[43mtorch\u001b[49m\u001b[38;5;241;43m.\u001b[39;49m\u001b[43mtensor\u001b[49m\u001b[43m(\u001b[49m\u001b[43mtk_train\u001b[49m\u001b[43m[\u001b[49m\u001b[38;5;241;43m101\u001b[39;49m\u001b[43m]\u001b[49m\u001b[43m[\u001b[49m\u001b[38;5;124;43m'\u001b[39;49m\u001b[38;5;124;43minput_ids\u001b[39;49m\u001b[38;5;124;43m'\u001b[39;49m\u001b[43m]\u001b[49m\u001b[43m)\u001b[49m\u001b[43m)\u001b[49m\n",
      "File \u001b[0;32m~/anaconda3/envs/NLP/lib/python3.10/site-packages/torch/nn/modules/module.py:1532\u001b[0m, in \u001b[0;36mModule._wrapped_call_impl\u001b[0;34m(self, *args, **kwargs)\u001b[0m\n\u001b[1;32m   1530\u001b[0m     \u001b[38;5;28;01mreturn\u001b[39;00m \u001b[38;5;28mself\u001b[39m\u001b[38;5;241m.\u001b[39m_compiled_call_impl(\u001b[38;5;241m*\u001b[39margs, \u001b[38;5;241m*\u001b[39m\u001b[38;5;241m*\u001b[39mkwargs)  \u001b[38;5;66;03m# type: ignore[misc]\u001b[39;00m\n\u001b[1;32m   1531\u001b[0m \u001b[38;5;28;01melse\u001b[39;00m:\n\u001b[0;32m-> 1532\u001b[0m     \u001b[38;5;28;01mreturn\u001b[39;00m \u001b[38;5;28;43mself\u001b[39;49m\u001b[38;5;241;43m.\u001b[39;49m\u001b[43m_call_impl\u001b[49m\u001b[43m(\u001b[49m\u001b[38;5;241;43m*\u001b[39;49m\u001b[43margs\u001b[49m\u001b[43m,\u001b[49m\u001b[43m \u001b[49m\u001b[38;5;241;43m*\u001b[39;49m\u001b[38;5;241;43m*\u001b[39;49m\u001b[43mkwargs\u001b[49m\u001b[43m)\u001b[49m\n",
      "File \u001b[0;32m~/anaconda3/envs/NLP/lib/python3.10/site-packages/torch/nn/modules/module.py:1541\u001b[0m, in \u001b[0;36mModule._call_impl\u001b[0;34m(self, *args, **kwargs)\u001b[0m\n\u001b[1;32m   1536\u001b[0m \u001b[38;5;66;03m# If we don't have any hooks, we want to skip the rest of the logic in\u001b[39;00m\n\u001b[1;32m   1537\u001b[0m \u001b[38;5;66;03m# this function, and just call forward.\u001b[39;00m\n\u001b[1;32m   1538\u001b[0m \u001b[38;5;28;01mif\u001b[39;00m \u001b[38;5;129;01mnot\u001b[39;00m (\u001b[38;5;28mself\u001b[39m\u001b[38;5;241m.\u001b[39m_backward_hooks \u001b[38;5;129;01mor\u001b[39;00m \u001b[38;5;28mself\u001b[39m\u001b[38;5;241m.\u001b[39m_backward_pre_hooks \u001b[38;5;129;01mor\u001b[39;00m \u001b[38;5;28mself\u001b[39m\u001b[38;5;241m.\u001b[39m_forward_hooks \u001b[38;5;129;01mor\u001b[39;00m \u001b[38;5;28mself\u001b[39m\u001b[38;5;241m.\u001b[39m_forward_pre_hooks\n\u001b[1;32m   1539\u001b[0m         \u001b[38;5;129;01mor\u001b[39;00m _global_backward_pre_hooks \u001b[38;5;129;01mor\u001b[39;00m _global_backward_hooks\n\u001b[1;32m   1540\u001b[0m         \u001b[38;5;129;01mor\u001b[39;00m _global_forward_hooks \u001b[38;5;129;01mor\u001b[39;00m _global_forward_pre_hooks):\n\u001b[0;32m-> 1541\u001b[0m     \u001b[38;5;28;01mreturn\u001b[39;00m \u001b[43mforward_call\u001b[49m\u001b[43m(\u001b[49m\u001b[38;5;241;43m*\u001b[39;49m\u001b[43margs\u001b[49m\u001b[43m,\u001b[49m\u001b[43m \u001b[49m\u001b[38;5;241;43m*\u001b[39;49m\u001b[38;5;241;43m*\u001b[39;49m\u001b[43mkwargs\u001b[49m\u001b[43m)\u001b[49m\n\u001b[1;32m   1543\u001b[0m \u001b[38;5;28;01mtry\u001b[39;00m:\n\u001b[1;32m   1544\u001b[0m     result \u001b[38;5;241m=\u001b[39m \u001b[38;5;28;01mNone\u001b[39;00m\n",
      "File \u001b[0;32m~/Desktop/school/extra/transformer_pretrain/transfer_transformers/bus_transformer.py:74\u001b[0m, in \u001b[0;36mDecoder.forward\u001b[0;34m(self, x)\u001b[0m\n\u001b[1;32m     72\u001b[0m \u001b[38;5;28;01mdef\u001b[39;00m \u001b[38;5;21mforward\u001b[39m(\u001b[38;5;28mself\u001b[39m, x):\n\u001b[1;32m     73\u001b[0m     \u001b[38;5;66;03m# x = self.embeddings(x) \u001b[39;00m\n\u001b[0;32m---> 74\u001b[0m     t \u001b[38;5;241m=\u001b[39m \u001b[38;5;28;43mself\u001b[39;49m\u001b[38;5;241;43m.\u001b[39;49m\u001b[43mpos_embedding\u001b[49m\u001b[43m(\u001b[49m\u001b[43mx\u001b[49m\u001b[43m)\u001b[49m \n\u001b[1;32m     75\u001b[0m     t \u001b[38;5;241m=\u001b[39m \u001b[38;5;28mself\u001b[39m\u001b[38;5;241m.\u001b[39mdropout(t)\n\u001b[1;32m     76\u001b[0m     \u001b[38;5;28;01mfor\u001b[39;00m head \u001b[38;5;129;01min\u001b[39;00m \u001b[38;5;28mself\u001b[39m\u001b[38;5;241m.\u001b[39mblocks:\n",
      "File \u001b[0;32m~/anaconda3/envs/NLP/lib/python3.10/site-packages/torch/nn/modules/module.py:1532\u001b[0m, in \u001b[0;36mModule._wrapped_call_impl\u001b[0;34m(self, *args, **kwargs)\u001b[0m\n\u001b[1;32m   1530\u001b[0m     \u001b[38;5;28;01mreturn\u001b[39;00m \u001b[38;5;28mself\u001b[39m\u001b[38;5;241m.\u001b[39m_compiled_call_impl(\u001b[38;5;241m*\u001b[39margs, \u001b[38;5;241m*\u001b[39m\u001b[38;5;241m*\u001b[39mkwargs)  \u001b[38;5;66;03m# type: ignore[misc]\u001b[39;00m\n\u001b[1;32m   1531\u001b[0m \u001b[38;5;28;01melse\u001b[39;00m:\n\u001b[0;32m-> 1532\u001b[0m     \u001b[38;5;28;01mreturn\u001b[39;00m \u001b[38;5;28;43mself\u001b[39;49m\u001b[38;5;241;43m.\u001b[39;49m\u001b[43m_call_impl\u001b[49m\u001b[43m(\u001b[49m\u001b[38;5;241;43m*\u001b[39;49m\u001b[43margs\u001b[49m\u001b[43m,\u001b[49m\u001b[43m \u001b[49m\u001b[38;5;241;43m*\u001b[39;49m\u001b[38;5;241;43m*\u001b[39;49m\u001b[43mkwargs\u001b[49m\u001b[43m)\u001b[49m\n",
      "File \u001b[0;32m~/anaconda3/envs/NLP/lib/python3.10/site-packages/torch/nn/modules/module.py:1541\u001b[0m, in \u001b[0;36mModule._call_impl\u001b[0;34m(self, *args, **kwargs)\u001b[0m\n\u001b[1;32m   1536\u001b[0m \u001b[38;5;66;03m# If we don't have any hooks, we want to skip the rest of the logic in\u001b[39;00m\n\u001b[1;32m   1537\u001b[0m \u001b[38;5;66;03m# this function, and just call forward.\u001b[39;00m\n\u001b[1;32m   1538\u001b[0m \u001b[38;5;28;01mif\u001b[39;00m \u001b[38;5;129;01mnot\u001b[39;00m (\u001b[38;5;28mself\u001b[39m\u001b[38;5;241m.\u001b[39m_backward_hooks \u001b[38;5;129;01mor\u001b[39;00m \u001b[38;5;28mself\u001b[39m\u001b[38;5;241m.\u001b[39m_backward_pre_hooks \u001b[38;5;129;01mor\u001b[39;00m \u001b[38;5;28mself\u001b[39m\u001b[38;5;241m.\u001b[39m_forward_hooks \u001b[38;5;129;01mor\u001b[39;00m \u001b[38;5;28mself\u001b[39m\u001b[38;5;241m.\u001b[39m_forward_pre_hooks\n\u001b[1;32m   1539\u001b[0m         \u001b[38;5;129;01mor\u001b[39;00m _global_backward_pre_hooks \u001b[38;5;129;01mor\u001b[39;00m _global_backward_hooks\n\u001b[1;32m   1540\u001b[0m         \u001b[38;5;129;01mor\u001b[39;00m _global_forward_hooks \u001b[38;5;129;01mor\u001b[39;00m _global_forward_pre_hooks):\n\u001b[0;32m-> 1541\u001b[0m     \u001b[38;5;28;01mreturn\u001b[39;00m \u001b[43mforward_call\u001b[49m\u001b[43m(\u001b[49m\u001b[38;5;241;43m*\u001b[39;49m\u001b[43margs\u001b[49m\u001b[43m,\u001b[49m\u001b[43m \u001b[49m\u001b[38;5;241;43m*\u001b[39;49m\u001b[38;5;241;43m*\u001b[39;49m\u001b[43mkwargs\u001b[49m\u001b[43m)\u001b[49m\n\u001b[1;32m   1543\u001b[0m \u001b[38;5;28;01mtry\u001b[39;00m:\n\u001b[1;32m   1544\u001b[0m     result \u001b[38;5;241m=\u001b[39m \u001b[38;5;28;01mNone\u001b[39;00m\n",
      "File \u001b[0;32m~/Desktop/school/extra/transformer_pretrain/transfer_transformers/bus_transformer.py:39\u001b[0m, in \u001b[0;36mPositionalEncoding.forward\u001b[0;34m(self, x)\u001b[0m\n\u001b[1;32m     35\u001b[0m \u001b[38;5;28;01mif\u001b[39;00m \u001b[38;5;28mself\u001b[39m\u001b[38;5;241m.\u001b[39mbatched:\n\u001b[1;32m     36\u001b[0m     \u001b[38;5;66;03m# Use unsqueeze to form a [1, seq len, embedding dim] tensor -- broadcasting will ensure that this\u001b[39;00m\n\u001b[1;32m     37\u001b[0m     \u001b[38;5;66;03m# gets added correctly across the batch\u001b[39;00m\n\u001b[1;32m     38\u001b[0m     emb_unsq \u001b[38;5;241m=\u001b[39m \u001b[38;5;28mself\u001b[39m\u001b[38;5;241m.\u001b[39memb(indices_to_embed)\u001b[38;5;241m.\u001b[39munsqueeze(\u001b[38;5;241m0\u001b[39m)\n\u001b[0;32m---> 39\u001b[0m     \u001b[38;5;28;01mreturn\u001b[39;00m \u001b[43mx\u001b[49m\u001b[43m \u001b[49m\u001b[38;5;241;43m+\u001b[39;49m\u001b[43m \u001b[49m\u001b[43memb_unsq\u001b[49m\n\u001b[1;32m     40\u001b[0m \u001b[38;5;28;01melse\u001b[39;00m:\n\u001b[1;32m     41\u001b[0m     \u001b[38;5;28;01mreturn\u001b[39;00m x \u001b[38;5;241m+\u001b[39m \u001b[38;5;28mself\u001b[39m\u001b[38;5;241m.\u001b[39memb(indices_to_embed)\n",
      "\u001b[0;31mRuntimeError\u001b[0m: The size of tensor a (512) must match the size of tensor b (128) at non-singleton dimension 2"
     ]
    }
   ],
   "source": [
    "py = model(torch.tensor(tk_train[101]['input_ids']))"
   ]
  },
  {
   "cell_type": "code",
   "execution_count": 95,
   "metadata": {},
   "outputs": [
    {
     "data": {
      "text/plain": [
       "tensor([[[-10.3454, -10.2528, -10.2302,  ..., -10.3016, -10.3840, -10.3746],\n",
       "         [-10.3590, -10.2977, -10.1660,  ..., -10.2718, -10.2631, -10.3737],\n",
       "         [-10.3859, -10.2205, -10.2553,  ..., -10.3384, -10.2847, -10.3746],\n",
       "         ...,\n",
       "         [-10.2514, -10.2752, -10.0849,  ..., -10.2709, -10.3464, -10.3206],\n",
       "         [-10.3631, -10.3129, -10.2613,  ..., -10.2773, -10.3564, -10.3092],\n",
       "         [-10.3206, -10.2236, -10.2303,  ..., -10.3268, -10.3192, -10.3410]]],\n",
       "       dtype=torch.float64, grad_fn=<LogSoftmaxBackward0>)"
      ]
     },
     "execution_count": 95,
     "metadata": {},
     "output_type": "execute_result"
    }
   ],
   "source": [
    "py"
   ]
  },
  {
   "cell_type": "code",
   "execution_count": 96,
   "metadata": {},
   "outputs": [],
   "source": [
    "import tensorboard_data_server"
   ]
  },
  {
   "cell_type": "code",
   "execution_count": 97,
   "metadata": {},
   "outputs": [
    {
     "data": {
      "text/plain": [
       "[' In its original American broadcast on October 31 , 1999 , \" Treehouse of Horror X \" received an 8 @.@ 6 rating , according to Nielsen Media Research , translating to approximately 8 @.@ 7 million viewers . The episode finished in 34th place in the ratings for the week of October 25 @-@ 31 , 1999 . Following the episode was a rerun of \" Treehouse of Horror IX \" , which was originally broadcast the previous year . In 2000 , \" Treehouse of Horror X \" was nominated for a <unk> Golden Eagle Award , which it ultimately won . It was also nominated for a Golden Reel Award in the category of \" Best Sound Editing - Television Animation \" , which it lost to the SpongeBob SquarePants episode \" Mermaid Man & Barnacle Boy \" . On October 7 , 2008 , \" Treehouse of Horror X \" was released as part of The Simpsons : The Complete Eleventh Season DVD set . Mike Scully , George Meyer , Ian Maxtone @-@ Graham , Ron Hauge , Donick Cary , Tim Long , Matt Selman and Pete Michels participated in the audio commentary of the episode . \\n',\n",
       " ' Following its broadcast , \" Treehouse of Horror X \" received positive reviews from critics . In his review of The Simpsons : The Complete Eleventh Season , Colin Jacobson of DVD Movie Guide wrote \" Even in the series ’ <unk> seasons , the staff always seems to come up with a good Halloween episode \" , and that \" Treehouse of Horror X \" \" continues that trend \" . Of the three segments , Jacobson found \" Life \\'s a Glitch , Then You Die \" to be the weakest . He wrote \" [ ... ] other than a good ending , it simply doesn ’ t have a lot going for it \" and added that it is the most dated of the three . He continued , \" \\' Diddily \\' offers a fun horror spoof , and \\' Xena \\' is a terrific superhero bit with plenty of cleverness . \" DVD Talk \\'s Ian Jane gave the episode a positive review as well . Considering it to be one of the season \\'s best episodes , Jane wrote \" This one , like so many that have come before and since , is a great blend of horror movie parody and Halloween themed fun in Springfield . \" In 2007 , Seb Patrick of Noise to Signal included \" Desperately Xeeking Xena \" in a list called \" The Ten Best Treehouse of Horror Vignettes \" . Although he disliked Bart and Lisa \\'s part in the segment , Patrick wrote that it \" earns its stripes by being perhaps Comic Book Guy \\'s finest hour \" . He also praised the segment \\'s references , as well as Lawless \\' line \" A wizard did it \" , a phrase used to explain continuity errors . In 2009 , The Collector \\'s marriage proposal to Lawless was included in \" Line @-@ O @-@ Rama : Comic Book Guy \" , a compilation of what IGN considers to be The Comic Book Guy \\'s best lines . \\n',\n",
       " ' = Medal of Honor = \\n',\n",
       " \" The Medal of Honor is the United States of America 's highest military honor , awarded for personal acts of valor above and beyond the call of duty . The medal is awarded by the President of the United States in the name of the U.S. Congress to U.S. military personnel only . There are three versions of the medal , one for the Army , one for the Navy , and one for the Air Force . Personnel of the Marine Corps and Coast Guard receive the Navy version . \\n\",\n",
       " ' The Medal of Honor was created as a Navy version in 1861 named the \" Medal of Valor \" , and an Army version of the medal named the \" Medal of Honor \" was established in 1862 to give recognition to men who distinguished themselves \" conspicuously by gallantry and intrepidity \" in combat with an enemy of the United States . Because the medal is presented \" in the name of Congress \" , it is often referred to as the \" Congressional Medal of Honor \" . However , the official name is the \" Medal of Honor \" , which began with the U.S. Army \\'s version . Within United States Code the medal is referred to as the \" Medal of Honor \" , and less frequently as \" Congressional Medal of Honor \" . \\n',\n",
       " \" The Medal of Honor is usually presented by the President in a formal ceremony at the White House , intended to represent the gratitude of the American people , with posthumous presentations made to the primary next of kin . According to the Medal of Honor Historical Society of the United States , there have been 3 @,@ 515 Medals of Honor awarded to the nation 's soldiers , sailors , airmen , Marines , and Coast Guardsmen since the decoration 's creation , with just less than half of them awarded for actions during the four years of the American Civil War . \\n\",\n",
       " ' In 1990 , Congress designated March 25 annually as \" National Medal of Honor Day \" . Due to its prestige and status , the Medal of Honor is afforded special protection under U.S. law against any unauthorized adornment , sale , or manufacture , which includes any associated ribbon or badge . \\n',\n",
       " ' = = History = = \\n',\n",
       " ' 1780 : The Fidelity Medallion was a small medal worn on a chain around the neck , similar to a religious medal , that was awarded only to three militiamen from New York state , for the capture of John André , a British officer and spy connected directly to General Benedict Arnold ( American and British general @-@ 1780 ) during the American Revolutionary War ( 1775 – 1783 ) . The capture saved the fort of West Point from the British Army . \\n',\n",
       " ' 1782 : Badge of Military Merit : The first formal system for rewarding acts of individual gallantry by American soldiers was established by George Washington when he issued a field order on August 7 , 1782 , for a Badge of Military Merit to recognize those members of the Continental Army who performed \" any singular meritorious action \" . This decoration is America \\'s first combat decoration and was preceded only by the Fidelity Medallion , the Congressional medal for Henry Lee awarded in September 1779 in recognition of his attack on the British at Paulus Hook , the Congressional medal for General Horatio Gates awarded in November 1777 in recognition of his victory over the British at Saratoga , and the Congressional medal for George Washington awarded in March 1776 . Although the Badge of Military Merit fell into disuse after the American Revolutionary War , the concept of a military award for individual gallantry by members of the U.S. Armed Forces had been established . \\n',\n",
       " ' 1847 : Certificate of Merit : After the outbreak of the Mexican @-@ American War ( 1846 – 1848 ) a Certificate of Merit ( Meritorious Service Citation Certificate ) was established by Act of Congress on March 3 , 1847 \" to any private soldier who had distinguished himself by gallantry performed in the presence of the enemy \" . 539 Certificates were approved for this period . The certificate was discontinued and reintroduced in 1876 effective from June 22 , 1874 to February 10 , 1892 when it was awarded for extraordinary gallantry by private soldiers in the presence of the enemy . From February 11 , 1892 through July 9 , 1918 ( Certificate of Merit disestablished ) it could be awarded to members of the Army for distinguished service in combat or noncombat ; from January 11 , 1905 through July 9 , 1918 the certificate was granted medal status as the Certificate of Merit Medal ( first awarded to a soldier who was awarded the Certificate of Merit for combat action on August 13 , 1898 ) . This medal was later replaced by the Army Distinguished Service Medal which was established on January 2 , 1918 ( the Navy Distinguished Service Medal was established in 1919 ) . Those Army members who held the Distinguished Service Medal in place of the Certificate of Merit could apply for the Army Distinguished Service Cross ( established 1918 ) effective March 5 , 1934 . \\n',\n",
       " ' = = = Medal of Valor = = = \\n',\n",
       " ' There were no military awards or medals at the beginning of the Civil War ( 1861 – 1865 ) except for the Certificate of Merit which was awarded for the Mexican @-@ American War . In the fall of 1861 , a proposal for a battlefield decoration for valor was submitted to Winfield Scott , the general @-@ in @-@ chief of the army , by Lt. Colonel Edward D. Townsend , an assistant adjutant at the War Department and Scott \\'s chief of staff . Scott however , was strictly against medals being awarded which was the European tradition . After Scott retired in October 1861 , the Secretary of the Navy , Gideon Welles , adopted the idea of a decoration to recognize and honor distinguished naval service . On December 9 , U.S. Senator ( Iowa ) James W. Grimes , Chairman on the Committee on Naval Affairs , proposed Public Resolution Number 82 ( Bill 82 : 37th Congress , Second Session , 12 Stat . 329 ) \" to promote the efficiency of the Navy \" which included a provision for a Navy Medal of Valor which was signed into law by President Abraham Lincoln on December 21 , 1861 ( Medal of Honor had been established for the Navy ) , \" to be bestowed upon such petty officers , seamen , <unk> , and marines as shall most distinguish themselves by their gallantry and other seamen @-@ like qualities during the present war . \" Secretary Wells directed the Philadelphia Mint to design the new military decoration . On May 15 , 1862 , the United States Navy Department ordered 175 medals ( $ 1 @.@ 85 each ) with the words \" Personal Valor \" on the back from the U.S. Mint in Philadelphia . \\n',\n",
       " ' = = = Medal of Honor = = = \\n']"
      ]
     },
     "execution_count": 97,
     "metadata": {},
     "output_type": "execute_result"
    }
   ],
   "source": [
    "tk_train['text'][24986:25000]"
   ]
  },
  {
   "cell_type": "code",
   "execution_count": 98,
   "metadata": {},
   "outputs": [],
   "source": [
    "def generate_samples(input:List[int]):\n",
    "    stop = torch.nonzero(input, as_tuple=True)\n",
    "    print(stop)\n"
   ]
  },
  {
   "cell_type": "code",
   "execution_count": 99,
   "metadata": {},
   "outputs": [],
   "source": [
    "def training_loop(model, data, dev, epochs):\n",
    "    optimizer = optim.AdamW(model.parameters(), lr=1e-5)\n",
    "    lr_sched = optim.lr_scheduler.CosineAnnealingLR(optimizer, 1e10)\n",
    "    loss = torch.nn.CrossEntropyLoss()\n",
    "    for t in range(epochs):\n",
    "        for i, d in enumerate(data):\n",
    "            print(d['text'])\n",
    "            print(d['input_ids'])\n",
    "            print(d)\n",
    "            generate_samples(torch.tensor(d['input_ids']))\n",
    "            if i == 5:\n",
    "                return\n",
    "            continue\n",
    "            y = d\n",
    "            py = model(d)\n",
    "            l = loss(py, d)\n",
    "            model.zero_grad()\n",
    "            loss.backward()\n",
    "            # optimizer.step()\n",
    "            lr_sched.step()\n",
    "\n",
    "    return model\n"
   ]
  },
  {
   "cell_type": "code",
   "execution_count": 100,
   "metadata": {},
   "outputs": [
    {
     "name": "stdout",
     "output_type": "stream",
     "text": [
      " = Valkyria Chronicles III = \n",
      "\n",
      "[101, 1027, 11748, 4801, 4360, 11906, 3523, 1027, 102, 0, 0, 0, 0, 0, 0, 0, 0, 0, 0, 0, 0, 0, 0, 0, 0, 0, 0, 0, 0, 0, 0, 0, 0, 0, 0, 0, 0, 0, 0, 0, 0, 0, 0, 0, 0, 0, 0, 0, 0, 0, 0, 0, 0, 0, 0, 0, 0, 0, 0, 0, 0, 0, 0, 0, 0, 0, 0, 0, 0, 0, 0, 0, 0, 0, 0, 0, 0, 0, 0, 0, 0, 0, 0, 0, 0, 0, 0, 0, 0, 0, 0, 0, 0, 0, 0, 0, 0, 0, 0, 0, 0, 0, 0, 0, 0, 0, 0, 0, 0, 0, 0, 0, 0, 0, 0, 0, 0, 0, 0, 0, 0, 0, 0, 0, 0, 0, 0, 0, 0, 0, 0, 0, 0, 0, 0, 0, 0, 0, 0, 0, 0, 0, 0, 0, 0, 0, 0, 0, 0, 0, 0, 0, 0, 0, 0, 0, 0, 0, 0, 0, 0, 0, 0, 0, 0, 0, 0, 0, 0, 0, 0, 0, 0, 0, 0, 0, 0, 0, 0, 0, 0, 0, 0, 0, 0, 0, 0, 0, 0, 0, 0, 0, 0, 0, 0, 0, 0, 0, 0, 0, 0, 0, 0, 0, 0, 0, 0, 0, 0, 0, 0, 0, 0, 0, 0, 0, 0, 0, 0, 0, 0, 0, 0, 0, 0, 0, 0, 0, 0, 0, 0, 0, 0, 0, 0, 0, 0, 0, 0, 0, 0, 0, 0, 0, 0, 0, 0, 0, 0, 0, 0, 0, 0, 0, 0, 0, 0, 0, 0, 0, 0, 0, 0, 0, 0, 0, 0, 0, 0, 0, 0, 0, 0, 0, 0, 0, 0, 0, 0, 0, 0, 0, 0, 0, 0, 0, 0, 0, 0, 0, 0, 0, 0, 0, 0, 0, 0, 0, 0, 0, 0, 0, 0, 0, 0, 0, 0, 0, 0, 0, 0, 0, 0, 0, 0, 0, 0, 0, 0, 0, 0, 0, 0, 0, 0, 0, 0, 0, 0, 0, 0, 0, 0, 0, 0, 0, 0, 0, 0, 0, 0, 0, 0, 0, 0, 0, 0, 0, 0, 0, 0, 0, 0, 0, 0, 0, 0, 0, 0, 0, 0, 0, 0, 0, 0, 0, 0, 0, 0, 0, 0, 0, 0, 0, 0, 0, 0, 0, 0, 0, 0, 0, 0, 0, 0, 0, 0, 0, 0, 0, 0, 0, 0, 0, 0, 0, 0, 0, 0, 0, 0, 0, 0, 0, 0, 0, 0, 0, 0, 0, 0, 0, 0, 0, 0, 0, 0, 0, 0, 0, 0, 0, 0, 0, 0, 0, 0, 0, 0, 0, 0, 0, 0, 0, 0, 0, 0, 0, 0, 0, 0, 0, 0, 0, 0, 0, 0, 0, 0, 0, 0, 0, 0, 0, 0, 0, 0, 0, 0, 0, 0, 0, 0, 0, 0, 0, 0, 0, 0, 0, 0, 0, 0, 0, 0, 0, 0, 0, 0, 0, 0, 0, 0, 0, 0, 0, 0, 0, 0, 0, 0, 0, 0, 0, 0, 0, 0, 0, 0, 0, 0, 0, 0, 0, 0, 0, 0, 0, 0, 0, 0, 0]\n",
      "{'text': ' = Valkyria Chronicles III = \\n', 'input_ids': [101, 1027, 11748, 4801, 4360, 11906, 3523, 1027, 102, 0, 0, 0, 0, 0, 0, 0, 0, 0, 0, 0, 0, 0, 0, 0, 0, 0, 0, 0, 0, 0, 0, 0, 0, 0, 0, 0, 0, 0, 0, 0, 0, 0, 0, 0, 0, 0, 0, 0, 0, 0, 0, 0, 0, 0, 0, 0, 0, 0, 0, 0, 0, 0, 0, 0, 0, 0, 0, 0, 0, 0, 0, 0, 0, 0, 0, 0, 0, 0, 0, 0, 0, 0, 0, 0, 0, 0, 0, 0, 0, 0, 0, 0, 0, 0, 0, 0, 0, 0, 0, 0, 0, 0, 0, 0, 0, 0, 0, 0, 0, 0, 0, 0, 0, 0, 0, 0, 0, 0, 0, 0, 0, 0, 0, 0, 0, 0, 0, 0, 0, 0, 0, 0, 0, 0, 0, 0, 0, 0, 0, 0, 0, 0, 0, 0, 0, 0, 0, 0, 0, 0, 0, 0, 0, 0, 0, 0, 0, 0, 0, 0, 0, 0, 0, 0, 0, 0, 0, 0, 0, 0, 0, 0, 0, 0, 0, 0, 0, 0, 0, 0, 0, 0, 0, 0, 0, 0, 0, 0, 0, 0, 0, 0, 0, 0, 0, 0, 0, 0, 0, 0, 0, 0, 0, 0, 0, 0, 0, 0, 0, 0, 0, 0, 0, 0, 0, 0, 0, 0, 0, 0, 0, 0, 0, 0, 0, 0, 0, 0, 0, 0, 0, 0, 0, 0, 0, 0, 0, 0, 0, 0, 0, 0, 0, 0, 0, 0, 0, 0, 0, 0, 0, 0, 0, 0, 0, 0, 0, 0, 0, 0, 0, 0, 0, 0, 0, 0, 0, 0, 0, 0, 0, 0, 0, 0, 0, 0, 0, 0, 0, 0, 0, 0, 0, 0, 0, 0, 0, 0, 0, 0, 0, 0, 0, 0, 0, 0, 0, 0, 0, 0, 0, 0, 0, 0, 0, 0, 0, 0, 0, 0, 0, 0, 0, 0, 0, 0, 0, 0, 0, 0, 0, 0, 0, 0, 0, 0, 0, 0, 0, 0, 0, 0, 0, 0, 0, 0, 0, 0, 0, 0, 0, 0, 0, 0, 0, 0, 0, 0, 0, 0, 0, 0, 0, 0, 0, 0, 0, 0, 0, 0, 0, 0, 0, 0, 0, 0, 0, 0, 0, 0, 0, 0, 0, 0, 0, 0, 0, 0, 0, 0, 0, 0, 0, 0, 0, 0, 0, 0, 0, 0, 0, 0, 0, 0, 0, 0, 0, 0, 0, 0, 0, 0, 0, 0, 0, 0, 0, 0, 0, 0, 0, 0, 0, 0, 0, 0, 0, 0, 0, 0, 0, 0, 0, 0, 0, 0, 0, 0, 0, 0, 0, 0, 0, 0, 0, 0, 0, 0, 0, 0, 0, 0, 0, 0, 0, 0, 0, 0, 0, 0, 0, 0, 0, 0, 0, 0, 0, 0, 0, 0, 0, 0, 0, 0, 0, 0, 0, 0, 0, 0, 0, 0, 0, 0, 0, 0, 0, 0, 0, 0, 0, 0, 0, 0, 0, 0, 0, 0, 0, 0, 0, 0, 0, 0, 0, 0, 0, 0, 0, 0, 0, 0, 0, 0, 0, 0, 0, 0, 0, 0, 0, 0], 'token_type_ids': [0, 0, 0, 0, 0, 0, 0, 0, 0, 0, 0, 0, 0, 0, 0, 0, 0, 0, 0, 0, 0, 0, 0, 0, 0, 0, 0, 0, 0, 0, 0, 0, 0, 0, 0, 0, 0, 0, 0, 0, 0, 0, 0, 0, 0, 0, 0, 0, 0, 0, 0, 0, 0, 0, 0, 0, 0, 0, 0, 0, 0, 0, 0, 0, 0, 0, 0, 0, 0, 0, 0, 0, 0, 0, 0, 0, 0, 0, 0, 0, 0, 0, 0, 0, 0, 0, 0, 0, 0, 0, 0, 0, 0, 0, 0, 0, 0, 0, 0, 0, 0, 0, 0, 0, 0, 0, 0, 0, 0, 0, 0, 0, 0, 0, 0, 0, 0, 0, 0, 0, 0, 0, 0, 0, 0, 0, 0, 0, 0, 0, 0, 0, 0, 0, 0, 0, 0, 0, 0, 0, 0, 0, 0, 0, 0, 0, 0, 0, 0, 0, 0, 0, 0, 0, 0, 0, 0, 0, 0, 0, 0, 0, 0, 0, 0, 0, 0, 0, 0, 0, 0, 0, 0, 0, 0, 0, 0, 0, 0, 0, 0, 0, 0, 0, 0, 0, 0, 0, 0, 0, 0, 0, 0, 0, 0, 0, 0, 0, 0, 0, 0, 0, 0, 0, 0, 0, 0, 0, 0, 0, 0, 0, 0, 0, 0, 0, 0, 0, 0, 0, 0, 0, 0, 0, 0, 0, 0, 0, 0, 0, 0, 0, 0, 0, 0, 0, 0, 0, 0, 0, 0, 0, 0, 0, 0, 0, 0, 0, 0, 0, 0, 0, 0, 0, 0, 0, 0, 0, 0, 0, 0, 0, 0, 0, 0, 0, 0, 0, 0, 0, 0, 0, 0, 0, 0, 0, 0, 0, 0, 0, 0, 0, 0, 0, 0, 0, 0, 0, 0, 0, 0, 0, 0, 0, 0, 0, 0, 0, 0, 0, 0, 0, 0, 0, 0, 0, 0, 0, 0, 0, 0, 0, 0, 0, 0, 0, 0, 0, 0, 0, 0, 0, 0, 0, 0, 0, 0, 0, 0, 0, 0, 0, 0, 0, 0, 0, 0, 0, 0, 0, 0, 0, 0, 0, 0, 0, 0, 0, 0, 0, 0, 0, 0, 0, 0, 0, 0, 0, 0, 0, 0, 0, 0, 0, 0, 0, 0, 0, 0, 0, 0, 0, 0, 0, 0, 0, 0, 0, 0, 0, 0, 0, 0, 0, 0, 0, 0, 0, 0, 0, 0, 0, 0, 0, 0, 0, 0, 0, 0, 0, 0, 0, 0, 0, 0, 0, 0, 0, 0, 0, 0, 0, 0, 0, 0, 0, 0, 0, 0, 0, 0, 0, 0, 0, 0, 0, 0, 0, 0, 0, 0, 0, 0, 0, 0, 0, 0, 0, 0, 0, 0, 0, 0, 0, 0, 0, 0, 0, 0, 0, 0, 0, 0, 0, 0, 0, 0, 0, 0, 0, 0, 0, 0, 0, 0, 0, 0, 0, 0, 0, 0, 0, 0, 0, 0, 0, 0, 0, 0, 0, 0, 0, 0, 0, 0, 0, 0, 0, 0, 0, 0, 0, 0, 0, 0, 0, 0, 0, 0, 0, 0, 0, 0, 0, 0, 0, 0, 0, 0, 0, 0, 0], 'attention_mask': [1, 1, 1, 1, 1, 1, 1, 1, 1, 0, 0, 0, 0, 0, 0, 0, 0, 0, 0, 0, 0, 0, 0, 0, 0, 0, 0, 0, 0, 0, 0, 0, 0, 0, 0, 0, 0, 0, 0, 0, 0, 0, 0, 0, 0, 0, 0, 0, 0, 0, 0, 0, 0, 0, 0, 0, 0, 0, 0, 0, 0, 0, 0, 0, 0, 0, 0, 0, 0, 0, 0, 0, 0, 0, 0, 0, 0, 0, 0, 0, 0, 0, 0, 0, 0, 0, 0, 0, 0, 0, 0, 0, 0, 0, 0, 0, 0, 0, 0, 0, 0, 0, 0, 0, 0, 0, 0, 0, 0, 0, 0, 0, 0, 0, 0, 0, 0, 0, 0, 0, 0, 0, 0, 0, 0, 0, 0, 0, 0, 0, 0, 0, 0, 0, 0, 0, 0, 0, 0, 0, 0, 0, 0, 0, 0, 0, 0, 0, 0, 0, 0, 0, 0, 0, 0, 0, 0, 0, 0, 0, 0, 0, 0, 0, 0, 0, 0, 0, 0, 0, 0, 0, 0, 0, 0, 0, 0, 0, 0, 0, 0, 0, 0, 0, 0, 0, 0, 0, 0, 0, 0, 0, 0, 0, 0, 0, 0, 0, 0, 0, 0, 0, 0, 0, 0, 0, 0, 0, 0, 0, 0, 0, 0, 0, 0, 0, 0, 0, 0, 0, 0, 0, 0, 0, 0, 0, 0, 0, 0, 0, 0, 0, 0, 0, 0, 0, 0, 0, 0, 0, 0, 0, 0, 0, 0, 0, 0, 0, 0, 0, 0, 0, 0, 0, 0, 0, 0, 0, 0, 0, 0, 0, 0, 0, 0, 0, 0, 0, 0, 0, 0, 0, 0, 0, 0, 0, 0, 0, 0, 0, 0, 0, 0, 0, 0, 0, 0, 0, 0, 0, 0, 0, 0, 0, 0, 0, 0, 0, 0, 0, 0, 0, 0, 0, 0, 0, 0, 0, 0, 0, 0, 0, 0, 0, 0, 0, 0, 0, 0, 0, 0, 0, 0, 0, 0, 0, 0, 0, 0, 0, 0, 0, 0, 0, 0, 0, 0, 0, 0, 0, 0, 0, 0, 0, 0, 0, 0, 0, 0, 0, 0, 0, 0, 0, 0, 0, 0, 0, 0, 0, 0, 0, 0, 0, 0, 0, 0, 0, 0, 0, 0, 0, 0, 0, 0, 0, 0, 0, 0, 0, 0, 0, 0, 0, 0, 0, 0, 0, 0, 0, 0, 0, 0, 0, 0, 0, 0, 0, 0, 0, 0, 0, 0, 0, 0, 0, 0, 0, 0, 0, 0, 0, 0, 0, 0, 0, 0, 0, 0, 0, 0, 0, 0, 0, 0, 0, 0, 0, 0, 0, 0, 0, 0, 0, 0, 0, 0, 0, 0, 0, 0, 0, 0, 0, 0, 0, 0, 0, 0, 0, 0, 0, 0, 0, 0, 0, 0, 0, 0, 0, 0, 0, 0, 0, 0, 0, 0, 0, 0, 0, 0, 0, 0, 0, 0, 0, 0, 0, 0, 0, 0, 0, 0, 0, 0, 0, 0, 0, 0, 0, 0, 0, 0, 0, 0, 0, 0, 0, 0, 0, 0, 0, 0, 0, 0, 0, 0, 0, 0, 0, 0, 0]}\n",
      "(tensor([0, 1, 2, 3, 4, 5, 6, 7, 8]),)\n",
      " Senjō no Valkyria 3 : <unk> Chronicles ( Japanese : 戦場のヴァルキュリア3 , lit . Valkyria of the Battlefield 3 ) , commonly referred to as Valkyria Chronicles III outside Japan , is a tactical role @-@ playing video game developed by Sega and Media.Vision for the PlayStation Portable . Released in January 2011 in Japan , it is the third game in the Valkyria series . Employing the same fusion of tactical and real @-@ time gameplay as its predecessors , the story runs parallel to the first game and follows the \" Nameless \" , a penal military unit serving the nation of Gallia during the Second Europan War who perform secret black operations and are pitted against the Imperial unit \" <unk> Raven \" . \n",
      "\n",
      "[101, 12411, 5558, 2053, 11748, 4801, 4360, 1017, 1024, 1026, 4895, 2243, 1028, 11906, 1006, 2887, 1024, 1856, 1806, 1671, 30222, 30218, 30259, 30227, 30255, 30258, 30219, 2509, 1010, 5507, 1012, 11748, 4801, 4360, 1997, 1996, 11686, 1017, 1007, 1010, 4141, 3615, 2000, 2004, 11748, 4801, 4360, 11906, 3523, 2648, 2900, 1010, 2003, 1037, 8608, 2535, 1030, 1011, 1030, 2652, 2678, 2208, 2764, 2011, 16562, 1998, 2865, 1012, 4432, 2005, 1996, 9160, 12109, 1012, 2207, 1999, 2254, 2249, 1999, 2900, 1010, 2009, 2003, 1996, 2353, 2208, 1999, 1996, 11748, 4801, 4360, 2186, 1012, 15440, 1996, 2168, 10077, 1997, 8608, 1998, 2613, 1030, 1011, 1030, 2051, 11247, 2004, 2049, 16372, 1010, 1996, 2466, 3216, 5903, 2000, 1996, 2034, 2208, 1998, 4076, 1996, 1000, 2171, 3238, 1000, 1010, 1037, 18476, 2510, 3131, 3529, 1996, 3842, 1997, 26033, 2401, 2076, 1996, 2117, 12124, 2078, 2162, 2040, 4685, 3595, 2304, 3136, 1998, 2024, 25895, 2114, 1996, 4461, 3131, 1000, 1026, 4895, 2243, 1028, 10000, 1000, 1012, 102, 0, 0, 0, 0, 0, 0, 0, 0, 0, 0, 0, 0, 0, 0, 0, 0, 0, 0, 0, 0, 0, 0, 0, 0, 0, 0, 0, 0, 0, 0, 0, 0, 0, 0, 0, 0, 0, 0, 0, 0, 0, 0, 0, 0, 0, 0, 0, 0, 0, 0, 0, 0, 0, 0, 0, 0, 0, 0, 0, 0, 0, 0, 0, 0, 0, 0, 0, 0, 0, 0, 0, 0, 0, 0, 0, 0, 0, 0, 0, 0, 0, 0, 0, 0, 0, 0, 0, 0, 0, 0, 0, 0, 0, 0, 0, 0, 0, 0, 0, 0, 0, 0, 0, 0, 0, 0, 0, 0, 0, 0, 0, 0, 0, 0, 0, 0, 0, 0, 0, 0, 0, 0, 0, 0, 0, 0, 0, 0, 0, 0, 0, 0, 0, 0, 0, 0, 0, 0, 0, 0, 0, 0, 0, 0, 0, 0, 0, 0, 0, 0, 0, 0, 0, 0, 0, 0, 0, 0, 0, 0, 0, 0, 0, 0, 0, 0, 0, 0, 0, 0, 0, 0, 0, 0, 0, 0, 0, 0, 0, 0, 0, 0, 0, 0, 0, 0, 0, 0, 0, 0, 0, 0, 0, 0, 0, 0, 0, 0, 0, 0, 0, 0, 0, 0, 0, 0, 0, 0, 0, 0, 0, 0, 0, 0, 0, 0, 0, 0, 0, 0, 0, 0, 0, 0, 0, 0, 0, 0, 0, 0, 0, 0, 0, 0, 0, 0, 0, 0, 0, 0, 0, 0, 0, 0, 0, 0, 0, 0, 0, 0, 0, 0, 0, 0, 0, 0, 0, 0, 0, 0, 0, 0, 0, 0, 0, 0, 0, 0, 0, 0, 0, 0, 0, 0, 0, 0, 0, 0, 0, 0, 0, 0, 0, 0, 0, 0, 0, 0, 0, 0, 0, 0, 0, 0, 0, 0, 0, 0, 0, 0, 0, 0, 0, 0, 0, 0, 0, 0, 0, 0, 0, 0, 0, 0, 0, 0, 0, 0, 0, 0, 0, 0, 0, 0, 0, 0, 0, 0, 0, 0, 0, 0, 0, 0, 0, 0, 0, 0, 0, 0, 0, 0, 0, 0, 0, 0, 0, 0, 0]\n",
      "{'text': ' Senjō no Valkyria 3 : <unk> Chronicles ( Japanese : 戦場のヴァルキュリア3 , lit . Valkyria of the Battlefield 3 ) , commonly referred to as Valkyria Chronicles III outside Japan , is a tactical role @-@ playing video game developed by Sega and Media.Vision for the PlayStation Portable . Released in January 2011 in Japan , it is the third game in the Valkyria series . Employing the same fusion of tactical and real @-@ time gameplay as its predecessors , the story runs parallel to the first game and follows the \" Nameless \" , a penal military unit serving the nation of Gallia during the Second Europan War who perform secret black operations and are pitted against the Imperial unit \" <unk> Raven \" . \\n', 'input_ids': [101, 12411, 5558, 2053, 11748, 4801, 4360, 1017, 1024, 1026, 4895, 2243, 1028, 11906, 1006, 2887, 1024, 1856, 1806, 1671, 30222, 30218, 30259, 30227, 30255, 30258, 30219, 2509, 1010, 5507, 1012, 11748, 4801, 4360, 1997, 1996, 11686, 1017, 1007, 1010, 4141, 3615, 2000, 2004, 11748, 4801, 4360, 11906, 3523, 2648, 2900, 1010, 2003, 1037, 8608, 2535, 1030, 1011, 1030, 2652, 2678, 2208, 2764, 2011, 16562, 1998, 2865, 1012, 4432, 2005, 1996, 9160, 12109, 1012, 2207, 1999, 2254, 2249, 1999, 2900, 1010, 2009, 2003, 1996, 2353, 2208, 1999, 1996, 11748, 4801, 4360, 2186, 1012, 15440, 1996, 2168, 10077, 1997, 8608, 1998, 2613, 1030, 1011, 1030, 2051, 11247, 2004, 2049, 16372, 1010, 1996, 2466, 3216, 5903, 2000, 1996, 2034, 2208, 1998, 4076, 1996, 1000, 2171, 3238, 1000, 1010, 1037, 18476, 2510, 3131, 3529, 1996, 3842, 1997, 26033, 2401, 2076, 1996, 2117, 12124, 2078, 2162, 2040, 4685, 3595, 2304, 3136, 1998, 2024, 25895, 2114, 1996, 4461, 3131, 1000, 1026, 4895, 2243, 1028, 10000, 1000, 1012, 102, 0, 0, 0, 0, 0, 0, 0, 0, 0, 0, 0, 0, 0, 0, 0, 0, 0, 0, 0, 0, 0, 0, 0, 0, 0, 0, 0, 0, 0, 0, 0, 0, 0, 0, 0, 0, 0, 0, 0, 0, 0, 0, 0, 0, 0, 0, 0, 0, 0, 0, 0, 0, 0, 0, 0, 0, 0, 0, 0, 0, 0, 0, 0, 0, 0, 0, 0, 0, 0, 0, 0, 0, 0, 0, 0, 0, 0, 0, 0, 0, 0, 0, 0, 0, 0, 0, 0, 0, 0, 0, 0, 0, 0, 0, 0, 0, 0, 0, 0, 0, 0, 0, 0, 0, 0, 0, 0, 0, 0, 0, 0, 0, 0, 0, 0, 0, 0, 0, 0, 0, 0, 0, 0, 0, 0, 0, 0, 0, 0, 0, 0, 0, 0, 0, 0, 0, 0, 0, 0, 0, 0, 0, 0, 0, 0, 0, 0, 0, 0, 0, 0, 0, 0, 0, 0, 0, 0, 0, 0, 0, 0, 0, 0, 0, 0, 0, 0, 0, 0, 0, 0, 0, 0, 0, 0, 0, 0, 0, 0, 0, 0, 0, 0, 0, 0, 0, 0, 0, 0, 0, 0, 0, 0, 0, 0, 0, 0, 0, 0, 0, 0, 0, 0, 0, 0, 0, 0, 0, 0, 0, 0, 0, 0, 0, 0, 0, 0, 0, 0, 0, 0, 0, 0, 0, 0, 0, 0, 0, 0, 0, 0, 0, 0, 0, 0, 0, 0, 0, 0, 0, 0, 0, 0, 0, 0, 0, 0, 0, 0, 0, 0, 0, 0, 0, 0, 0, 0, 0, 0, 0, 0, 0, 0, 0, 0, 0, 0, 0, 0, 0, 0, 0, 0, 0, 0, 0, 0, 0, 0, 0, 0, 0, 0, 0, 0, 0, 0, 0, 0, 0, 0, 0, 0, 0, 0, 0, 0, 0, 0, 0, 0, 0, 0, 0, 0, 0, 0, 0, 0, 0, 0, 0, 0, 0, 0, 0, 0, 0, 0, 0, 0, 0, 0, 0, 0, 0, 0, 0, 0, 0, 0, 0, 0, 0, 0, 0, 0, 0, 0, 0, 0, 0, 0, 0, 0, 0, 0, 0, 0], 'token_type_ids': [0, 0, 0, 0, 0, 0, 0, 0, 0, 0, 0, 0, 0, 0, 0, 0, 0, 0, 0, 0, 0, 0, 0, 0, 0, 0, 0, 0, 0, 0, 0, 0, 0, 0, 0, 0, 0, 0, 0, 0, 0, 0, 0, 0, 0, 0, 0, 0, 0, 0, 0, 0, 0, 0, 0, 0, 0, 0, 0, 0, 0, 0, 0, 0, 0, 0, 0, 0, 0, 0, 0, 0, 0, 0, 0, 0, 0, 0, 0, 0, 0, 0, 0, 0, 0, 0, 0, 0, 0, 0, 0, 0, 0, 0, 0, 0, 0, 0, 0, 0, 0, 0, 0, 0, 0, 0, 0, 0, 0, 0, 0, 0, 0, 0, 0, 0, 0, 0, 0, 0, 0, 0, 0, 0, 0, 0, 0, 0, 0, 0, 0, 0, 0, 0, 0, 0, 0, 0, 0, 0, 0, 0, 0, 0, 0, 0, 0, 0, 0, 0, 0, 0, 0, 0, 0, 0, 0, 0, 0, 0, 0, 0, 0, 0, 0, 0, 0, 0, 0, 0, 0, 0, 0, 0, 0, 0, 0, 0, 0, 0, 0, 0, 0, 0, 0, 0, 0, 0, 0, 0, 0, 0, 0, 0, 0, 0, 0, 0, 0, 0, 0, 0, 0, 0, 0, 0, 0, 0, 0, 0, 0, 0, 0, 0, 0, 0, 0, 0, 0, 0, 0, 0, 0, 0, 0, 0, 0, 0, 0, 0, 0, 0, 0, 0, 0, 0, 0, 0, 0, 0, 0, 0, 0, 0, 0, 0, 0, 0, 0, 0, 0, 0, 0, 0, 0, 0, 0, 0, 0, 0, 0, 0, 0, 0, 0, 0, 0, 0, 0, 0, 0, 0, 0, 0, 0, 0, 0, 0, 0, 0, 0, 0, 0, 0, 0, 0, 0, 0, 0, 0, 0, 0, 0, 0, 0, 0, 0, 0, 0, 0, 0, 0, 0, 0, 0, 0, 0, 0, 0, 0, 0, 0, 0, 0, 0, 0, 0, 0, 0, 0, 0, 0, 0, 0, 0, 0, 0, 0, 0, 0, 0, 0, 0, 0, 0, 0, 0, 0, 0, 0, 0, 0, 0, 0, 0, 0, 0, 0, 0, 0, 0, 0, 0, 0, 0, 0, 0, 0, 0, 0, 0, 0, 0, 0, 0, 0, 0, 0, 0, 0, 0, 0, 0, 0, 0, 0, 0, 0, 0, 0, 0, 0, 0, 0, 0, 0, 0, 0, 0, 0, 0, 0, 0, 0, 0, 0, 0, 0, 0, 0, 0, 0, 0, 0, 0, 0, 0, 0, 0, 0, 0, 0, 0, 0, 0, 0, 0, 0, 0, 0, 0, 0, 0, 0, 0, 0, 0, 0, 0, 0, 0, 0, 0, 0, 0, 0, 0, 0, 0, 0, 0, 0, 0, 0, 0, 0, 0, 0, 0, 0, 0, 0, 0, 0, 0, 0, 0, 0, 0, 0, 0, 0, 0, 0, 0, 0, 0, 0, 0, 0, 0, 0, 0, 0, 0, 0, 0, 0, 0, 0, 0, 0, 0, 0, 0, 0, 0, 0, 0, 0, 0, 0, 0, 0, 0, 0, 0, 0, 0, 0, 0, 0, 0, 0, 0, 0, 0, 0, 0, 0, 0, 0], 'attention_mask': [1, 1, 1, 1, 1, 1, 1, 1, 1, 1, 1, 1, 1, 1, 1, 1, 1, 1, 1, 1, 1, 1, 1, 1, 1, 1, 1, 1, 1, 1, 1, 1, 1, 1, 1, 1, 1, 1, 1, 1, 1, 1, 1, 1, 1, 1, 1, 1, 1, 1, 1, 1, 1, 1, 1, 1, 1, 1, 1, 1, 1, 1, 1, 1, 1, 1, 1, 1, 1, 1, 1, 1, 1, 1, 1, 1, 1, 1, 1, 1, 1, 1, 1, 1, 1, 1, 1, 1, 1, 1, 1, 1, 1, 1, 1, 1, 1, 1, 1, 1, 1, 1, 1, 1, 1, 1, 1, 1, 1, 1, 1, 1, 1, 1, 1, 1, 1, 1, 1, 1, 1, 1, 1, 1, 1, 1, 1, 1, 1, 1, 1, 1, 1, 1, 1, 1, 1, 1, 1, 1, 1, 1, 1, 1, 1, 1, 1, 1, 1, 1, 1, 1, 1, 1, 1, 1, 1, 1, 1, 1, 1, 1, 1, 0, 0, 0, 0, 0, 0, 0, 0, 0, 0, 0, 0, 0, 0, 0, 0, 0, 0, 0, 0, 0, 0, 0, 0, 0, 0, 0, 0, 0, 0, 0, 0, 0, 0, 0, 0, 0, 0, 0, 0, 0, 0, 0, 0, 0, 0, 0, 0, 0, 0, 0, 0, 0, 0, 0, 0, 0, 0, 0, 0, 0, 0, 0, 0, 0, 0, 0, 0, 0, 0, 0, 0, 0, 0, 0, 0, 0, 0, 0, 0, 0, 0, 0, 0, 0, 0, 0, 0, 0, 0, 0, 0, 0, 0, 0, 0, 0, 0, 0, 0, 0, 0, 0, 0, 0, 0, 0, 0, 0, 0, 0, 0, 0, 0, 0, 0, 0, 0, 0, 0, 0, 0, 0, 0, 0, 0, 0, 0, 0, 0, 0, 0, 0, 0, 0, 0, 0, 0, 0, 0, 0, 0, 0, 0, 0, 0, 0, 0, 0, 0, 0, 0, 0, 0, 0, 0, 0, 0, 0, 0, 0, 0, 0, 0, 0, 0, 0, 0, 0, 0, 0, 0, 0, 0, 0, 0, 0, 0, 0, 0, 0, 0, 0, 0, 0, 0, 0, 0, 0, 0, 0, 0, 0, 0, 0, 0, 0, 0, 0, 0, 0, 0, 0, 0, 0, 0, 0, 0, 0, 0, 0, 0, 0, 0, 0, 0, 0, 0, 0, 0, 0, 0, 0, 0, 0, 0, 0, 0, 0, 0, 0, 0, 0, 0, 0, 0, 0, 0, 0, 0, 0, 0, 0, 0, 0, 0, 0, 0, 0, 0, 0, 0, 0, 0, 0, 0, 0, 0, 0, 0, 0, 0, 0, 0, 0, 0, 0, 0, 0, 0, 0, 0, 0, 0, 0, 0, 0, 0, 0, 0, 0, 0, 0, 0, 0, 0, 0, 0, 0, 0, 0, 0, 0, 0, 0, 0, 0, 0, 0, 0, 0, 0, 0, 0, 0, 0, 0, 0, 0, 0, 0, 0, 0, 0, 0, 0, 0, 0, 0, 0, 0, 0, 0, 0, 0, 0, 0, 0, 0, 0, 0, 0, 0, 0, 0, 0, 0, 0, 0, 0, 0, 0, 0, 0, 0, 0, 0, 0, 0]}\n",
      "(tensor([  0,   1,   2,   3,   4,   5,   6,   7,   8,   9,  10,  11,  12,  13,\n",
      "         14,  15,  16,  17,  18,  19,  20,  21,  22,  23,  24,  25,  26,  27,\n",
      "         28,  29,  30,  31,  32,  33,  34,  35,  36,  37,  38,  39,  40,  41,\n",
      "         42,  43,  44,  45,  46,  47,  48,  49,  50,  51,  52,  53,  54,  55,\n",
      "         56,  57,  58,  59,  60,  61,  62,  63,  64,  65,  66,  67,  68,  69,\n",
      "         70,  71,  72,  73,  74,  75,  76,  77,  78,  79,  80,  81,  82,  83,\n",
      "         84,  85,  86,  87,  88,  89,  90,  91,  92,  93,  94,  95,  96,  97,\n",
      "         98,  99, 100, 101, 102, 103, 104, 105, 106, 107, 108, 109, 110, 111,\n",
      "        112, 113, 114, 115, 116, 117, 118, 119, 120, 121, 122, 123, 124, 125,\n",
      "        126, 127, 128, 129, 130, 131, 132, 133, 134, 135, 136, 137, 138, 139,\n",
      "        140, 141, 142, 143, 144, 145, 146, 147, 148, 149, 150, 151, 152, 153,\n",
      "        154, 155, 156, 157, 158, 159, 160, 161, 162]),)\n",
      " The game began development in 2010 , carrying over a large portion of the work done on Valkyria Chronicles II . While it retained the standard features of the series , it also underwent multiple adjustments , such as making the game more forgiving for series newcomers . Character designer <unk> Honjou and composer Hitoshi Sakimoto both returned from previous entries , along with Valkyria Chronicles II director Takeshi Ozawa . A large team of writers handled the script . The game 's opening theme was sung by May 'n . \n",
      "\n",
      "[101, 1996, 2208, 2211, 2458, 1999, 2230, 1010, 4755, 2058, 1037, 2312, 4664, 1997, 1996, 2147, 2589, 2006, 11748, 4801, 4360, 11906, 2462, 1012, 2096, 2009, 6025, 1996, 3115, 2838, 1997, 1996, 2186, 1010, 2009, 2036, 9601, 3674, 24081, 1010, 2107, 2004, 2437, 1996, 2208, 2062, 2005, 23795, 2005, 2186, 24159, 1012, 2839, 5859, 1026, 4895, 2243, 1028, 10189, 23099, 1998, 4543, 2718, 24303, 7842, 21138, 11439, 2119, 2513, 2013, 3025, 10445, 1010, 2247, 2007, 11748, 4801, 4360, 11906, 2462, 2472, 3138, 4048, 11472, 10830, 1012, 1037, 2312, 2136, 1997, 4898, 8971, 1996, 5896, 1012, 1996, 2208, 1005, 1055, 3098, 4323, 2001, 7042, 2011, 2089, 1005, 1050, 1012, 102, 0, 0, 0, 0, 0, 0, 0, 0, 0, 0, 0, 0, 0, 0, 0, 0, 0, 0, 0, 0, 0, 0, 0, 0, 0, 0, 0, 0, 0, 0, 0, 0, 0, 0, 0, 0, 0, 0, 0, 0, 0, 0, 0, 0, 0, 0, 0, 0, 0, 0, 0, 0, 0, 0, 0, 0, 0, 0, 0, 0, 0, 0, 0, 0, 0, 0, 0, 0, 0, 0, 0, 0, 0, 0, 0, 0, 0, 0, 0, 0, 0, 0, 0, 0, 0, 0, 0, 0, 0, 0, 0, 0, 0, 0, 0, 0, 0, 0, 0, 0, 0, 0, 0, 0, 0, 0, 0, 0, 0, 0, 0, 0, 0, 0, 0, 0, 0, 0, 0, 0, 0, 0, 0, 0, 0, 0, 0, 0, 0, 0, 0, 0, 0, 0, 0, 0, 0, 0, 0, 0, 0, 0, 0, 0, 0, 0, 0, 0, 0, 0, 0, 0, 0, 0, 0, 0, 0, 0, 0, 0, 0, 0, 0, 0, 0, 0, 0, 0, 0, 0, 0, 0, 0, 0, 0, 0, 0, 0, 0, 0, 0, 0, 0, 0, 0, 0, 0, 0, 0, 0, 0, 0, 0, 0, 0, 0, 0, 0, 0, 0, 0, 0, 0, 0, 0, 0, 0, 0, 0, 0, 0, 0, 0, 0, 0, 0, 0, 0, 0, 0, 0, 0, 0, 0, 0, 0, 0, 0, 0, 0, 0, 0, 0, 0, 0, 0, 0, 0, 0, 0, 0, 0, 0, 0, 0, 0, 0, 0, 0, 0, 0, 0, 0, 0, 0, 0, 0, 0, 0, 0, 0, 0, 0, 0, 0, 0, 0, 0, 0, 0, 0, 0, 0, 0, 0, 0, 0, 0, 0, 0, 0, 0, 0, 0, 0, 0, 0, 0, 0, 0, 0, 0, 0, 0, 0, 0, 0, 0, 0, 0, 0, 0, 0, 0, 0, 0, 0, 0, 0, 0, 0, 0, 0, 0, 0, 0, 0, 0, 0, 0, 0, 0, 0, 0, 0, 0, 0, 0, 0, 0, 0, 0, 0, 0, 0, 0, 0, 0, 0, 0, 0, 0, 0, 0, 0, 0, 0, 0, 0, 0, 0, 0, 0, 0, 0, 0, 0, 0, 0, 0, 0, 0, 0, 0, 0, 0, 0, 0, 0, 0, 0, 0, 0, 0, 0, 0, 0, 0, 0, 0, 0, 0, 0, 0, 0, 0, 0, 0, 0, 0, 0, 0, 0, 0, 0, 0, 0, 0, 0, 0, 0, 0, 0]\n",
      "{'text': \" The game began development in 2010 , carrying over a large portion of the work done on Valkyria Chronicles II . While it retained the standard features of the series , it also underwent multiple adjustments , such as making the game more forgiving for series newcomers . Character designer <unk> Honjou and composer Hitoshi Sakimoto both returned from previous entries , along with Valkyria Chronicles II director Takeshi Ozawa . A large team of writers handled the script . The game 's opening theme was sung by May 'n . \\n\", 'input_ids': [101, 1996, 2208, 2211, 2458, 1999, 2230, 1010, 4755, 2058, 1037, 2312, 4664, 1997, 1996, 2147, 2589, 2006, 11748, 4801, 4360, 11906, 2462, 1012, 2096, 2009, 6025, 1996, 3115, 2838, 1997, 1996, 2186, 1010, 2009, 2036, 9601, 3674, 24081, 1010, 2107, 2004, 2437, 1996, 2208, 2062, 2005, 23795, 2005, 2186, 24159, 1012, 2839, 5859, 1026, 4895, 2243, 1028, 10189, 23099, 1998, 4543, 2718, 24303, 7842, 21138, 11439, 2119, 2513, 2013, 3025, 10445, 1010, 2247, 2007, 11748, 4801, 4360, 11906, 2462, 2472, 3138, 4048, 11472, 10830, 1012, 1037, 2312, 2136, 1997, 4898, 8971, 1996, 5896, 1012, 1996, 2208, 1005, 1055, 3098, 4323, 2001, 7042, 2011, 2089, 1005, 1050, 1012, 102, 0, 0, 0, 0, 0, 0, 0, 0, 0, 0, 0, 0, 0, 0, 0, 0, 0, 0, 0, 0, 0, 0, 0, 0, 0, 0, 0, 0, 0, 0, 0, 0, 0, 0, 0, 0, 0, 0, 0, 0, 0, 0, 0, 0, 0, 0, 0, 0, 0, 0, 0, 0, 0, 0, 0, 0, 0, 0, 0, 0, 0, 0, 0, 0, 0, 0, 0, 0, 0, 0, 0, 0, 0, 0, 0, 0, 0, 0, 0, 0, 0, 0, 0, 0, 0, 0, 0, 0, 0, 0, 0, 0, 0, 0, 0, 0, 0, 0, 0, 0, 0, 0, 0, 0, 0, 0, 0, 0, 0, 0, 0, 0, 0, 0, 0, 0, 0, 0, 0, 0, 0, 0, 0, 0, 0, 0, 0, 0, 0, 0, 0, 0, 0, 0, 0, 0, 0, 0, 0, 0, 0, 0, 0, 0, 0, 0, 0, 0, 0, 0, 0, 0, 0, 0, 0, 0, 0, 0, 0, 0, 0, 0, 0, 0, 0, 0, 0, 0, 0, 0, 0, 0, 0, 0, 0, 0, 0, 0, 0, 0, 0, 0, 0, 0, 0, 0, 0, 0, 0, 0, 0, 0, 0, 0, 0, 0, 0, 0, 0, 0, 0, 0, 0, 0, 0, 0, 0, 0, 0, 0, 0, 0, 0, 0, 0, 0, 0, 0, 0, 0, 0, 0, 0, 0, 0, 0, 0, 0, 0, 0, 0, 0, 0, 0, 0, 0, 0, 0, 0, 0, 0, 0, 0, 0, 0, 0, 0, 0, 0, 0, 0, 0, 0, 0, 0, 0, 0, 0, 0, 0, 0, 0, 0, 0, 0, 0, 0, 0, 0, 0, 0, 0, 0, 0, 0, 0, 0, 0, 0, 0, 0, 0, 0, 0, 0, 0, 0, 0, 0, 0, 0, 0, 0, 0, 0, 0, 0, 0, 0, 0, 0, 0, 0, 0, 0, 0, 0, 0, 0, 0, 0, 0, 0, 0, 0, 0, 0, 0, 0, 0, 0, 0, 0, 0, 0, 0, 0, 0, 0, 0, 0, 0, 0, 0, 0, 0, 0, 0, 0, 0, 0, 0, 0, 0, 0, 0, 0, 0, 0, 0, 0, 0, 0, 0, 0, 0, 0, 0, 0, 0, 0, 0, 0, 0, 0, 0, 0, 0, 0, 0, 0, 0, 0, 0, 0, 0, 0, 0, 0, 0, 0, 0, 0, 0, 0, 0, 0, 0, 0, 0, 0, 0, 0, 0, 0, 0, 0, 0, 0, 0, 0, 0, 0], 'token_type_ids': [0, 0, 0, 0, 0, 0, 0, 0, 0, 0, 0, 0, 0, 0, 0, 0, 0, 0, 0, 0, 0, 0, 0, 0, 0, 0, 0, 0, 0, 0, 0, 0, 0, 0, 0, 0, 0, 0, 0, 0, 0, 0, 0, 0, 0, 0, 0, 0, 0, 0, 0, 0, 0, 0, 0, 0, 0, 0, 0, 0, 0, 0, 0, 0, 0, 0, 0, 0, 0, 0, 0, 0, 0, 0, 0, 0, 0, 0, 0, 0, 0, 0, 0, 0, 0, 0, 0, 0, 0, 0, 0, 0, 0, 0, 0, 0, 0, 0, 0, 0, 0, 0, 0, 0, 0, 0, 0, 0, 0, 0, 0, 0, 0, 0, 0, 0, 0, 0, 0, 0, 0, 0, 0, 0, 0, 0, 0, 0, 0, 0, 0, 0, 0, 0, 0, 0, 0, 0, 0, 0, 0, 0, 0, 0, 0, 0, 0, 0, 0, 0, 0, 0, 0, 0, 0, 0, 0, 0, 0, 0, 0, 0, 0, 0, 0, 0, 0, 0, 0, 0, 0, 0, 0, 0, 0, 0, 0, 0, 0, 0, 0, 0, 0, 0, 0, 0, 0, 0, 0, 0, 0, 0, 0, 0, 0, 0, 0, 0, 0, 0, 0, 0, 0, 0, 0, 0, 0, 0, 0, 0, 0, 0, 0, 0, 0, 0, 0, 0, 0, 0, 0, 0, 0, 0, 0, 0, 0, 0, 0, 0, 0, 0, 0, 0, 0, 0, 0, 0, 0, 0, 0, 0, 0, 0, 0, 0, 0, 0, 0, 0, 0, 0, 0, 0, 0, 0, 0, 0, 0, 0, 0, 0, 0, 0, 0, 0, 0, 0, 0, 0, 0, 0, 0, 0, 0, 0, 0, 0, 0, 0, 0, 0, 0, 0, 0, 0, 0, 0, 0, 0, 0, 0, 0, 0, 0, 0, 0, 0, 0, 0, 0, 0, 0, 0, 0, 0, 0, 0, 0, 0, 0, 0, 0, 0, 0, 0, 0, 0, 0, 0, 0, 0, 0, 0, 0, 0, 0, 0, 0, 0, 0, 0, 0, 0, 0, 0, 0, 0, 0, 0, 0, 0, 0, 0, 0, 0, 0, 0, 0, 0, 0, 0, 0, 0, 0, 0, 0, 0, 0, 0, 0, 0, 0, 0, 0, 0, 0, 0, 0, 0, 0, 0, 0, 0, 0, 0, 0, 0, 0, 0, 0, 0, 0, 0, 0, 0, 0, 0, 0, 0, 0, 0, 0, 0, 0, 0, 0, 0, 0, 0, 0, 0, 0, 0, 0, 0, 0, 0, 0, 0, 0, 0, 0, 0, 0, 0, 0, 0, 0, 0, 0, 0, 0, 0, 0, 0, 0, 0, 0, 0, 0, 0, 0, 0, 0, 0, 0, 0, 0, 0, 0, 0, 0, 0, 0, 0, 0, 0, 0, 0, 0, 0, 0, 0, 0, 0, 0, 0, 0, 0, 0, 0, 0, 0, 0, 0, 0, 0, 0, 0, 0, 0, 0, 0, 0, 0, 0, 0, 0, 0, 0, 0, 0, 0, 0, 0, 0, 0, 0, 0, 0, 0, 0, 0, 0, 0, 0, 0, 0, 0, 0, 0, 0, 0, 0, 0, 0, 0, 0, 0, 0, 0], 'attention_mask': [1, 1, 1, 1, 1, 1, 1, 1, 1, 1, 1, 1, 1, 1, 1, 1, 1, 1, 1, 1, 1, 1, 1, 1, 1, 1, 1, 1, 1, 1, 1, 1, 1, 1, 1, 1, 1, 1, 1, 1, 1, 1, 1, 1, 1, 1, 1, 1, 1, 1, 1, 1, 1, 1, 1, 1, 1, 1, 1, 1, 1, 1, 1, 1, 1, 1, 1, 1, 1, 1, 1, 1, 1, 1, 1, 1, 1, 1, 1, 1, 1, 1, 1, 1, 1, 1, 1, 1, 1, 1, 1, 1, 1, 1, 1, 1, 1, 1, 1, 1, 1, 1, 1, 1, 1, 1, 1, 1, 1, 0, 0, 0, 0, 0, 0, 0, 0, 0, 0, 0, 0, 0, 0, 0, 0, 0, 0, 0, 0, 0, 0, 0, 0, 0, 0, 0, 0, 0, 0, 0, 0, 0, 0, 0, 0, 0, 0, 0, 0, 0, 0, 0, 0, 0, 0, 0, 0, 0, 0, 0, 0, 0, 0, 0, 0, 0, 0, 0, 0, 0, 0, 0, 0, 0, 0, 0, 0, 0, 0, 0, 0, 0, 0, 0, 0, 0, 0, 0, 0, 0, 0, 0, 0, 0, 0, 0, 0, 0, 0, 0, 0, 0, 0, 0, 0, 0, 0, 0, 0, 0, 0, 0, 0, 0, 0, 0, 0, 0, 0, 0, 0, 0, 0, 0, 0, 0, 0, 0, 0, 0, 0, 0, 0, 0, 0, 0, 0, 0, 0, 0, 0, 0, 0, 0, 0, 0, 0, 0, 0, 0, 0, 0, 0, 0, 0, 0, 0, 0, 0, 0, 0, 0, 0, 0, 0, 0, 0, 0, 0, 0, 0, 0, 0, 0, 0, 0, 0, 0, 0, 0, 0, 0, 0, 0, 0, 0, 0, 0, 0, 0, 0, 0, 0, 0, 0, 0, 0, 0, 0, 0, 0, 0, 0, 0, 0, 0, 0, 0, 0, 0, 0, 0, 0, 0, 0, 0, 0, 0, 0, 0, 0, 0, 0, 0, 0, 0, 0, 0, 0, 0, 0, 0, 0, 0, 0, 0, 0, 0, 0, 0, 0, 0, 0, 0, 0, 0, 0, 0, 0, 0, 0, 0, 0, 0, 0, 0, 0, 0, 0, 0, 0, 0, 0, 0, 0, 0, 0, 0, 0, 0, 0, 0, 0, 0, 0, 0, 0, 0, 0, 0, 0, 0, 0, 0, 0, 0, 0, 0, 0, 0, 0, 0, 0, 0, 0, 0, 0, 0, 0, 0, 0, 0, 0, 0, 0, 0, 0, 0, 0, 0, 0, 0, 0, 0, 0, 0, 0, 0, 0, 0, 0, 0, 0, 0, 0, 0, 0, 0, 0, 0, 0, 0, 0, 0, 0, 0, 0, 0, 0, 0, 0, 0, 0, 0, 0, 0, 0, 0, 0, 0, 0, 0, 0, 0, 0, 0, 0, 0, 0, 0, 0, 0, 0, 0, 0, 0, 0, 0, 0, 0, 0, 0, 0, 0, 0, 0, 0, 0, 0, 0, 0, 0, 0, 0, 0, 0, 0, 0, 0, 0, 0, 0, 0, 0, 0, 0, 0, 0, 0, 0, 0, 0, 0, 0, 0, 0, 0, 0, 0, 0, 0, 0]}\n",
      "(tensor([  0,   1,   2,   3,   4,   5,   6,   7,   8,   9,  10,  11,  12,  13,\n",
      "         14,  15,  16,  17,  18,  19,  20,  21,  22,  23,  24,  25,  26,  27,\n",
      "         28,  29,  30,  31,  32,  33,  34,  35,  36,  37,  38,  39,  40,  41,\n",
      "         42,  43,  44,  45,  46,  47,  48,  49,  50,  51,  52,  53,  54,  55,\n",
      "         56,  57,  58,  59,  60,  61,  62,  63,  64,  65,  66,  67,  68,  69,\n",
      "         70,  71,  72,  73,  74,  75,  76,  77,  78,  79,  80,  81,  82,  83,\n",
      "         84,  85,  86,  87,  88,  89,  90,  91,  92,  93,  94,  95,  96,  97,\n",
      "         98,  99, 100, 101, 102, 103, 104, 105, 106, 107, 108]),)\n",
      " It met with positive sales in Japan , and was praised by both Japanese and western critics . After release , it received downloadable content , along with an expanded edition in November of that year . It was also adapted into manga and an original video animation series . Due to low sales of Valkyria Chronicles II , Valkyria Chronicles III was not localized , but a fan translation compatible with the game 's expanded edition was released in 2014 . Media.Vision would return to the franchise with the development of Valkyria : Azure Revolution for the PlayStation 4 . \n",
      "\n",
      "[101, 2009, 2777, 2007, 3893, 4341, 1999, 2900, 1010, 1998, 2001, 5868, 2011, 2119, 2887, 1998, 2530, 4401, 1012, 2044, 2713, 1010, 2009, 2363, 26720, 4180, 1010, 2247, 2007, 2019, 4423, 3179, 1999, 2281, 1997, 2008, 2095, 1012, 2009, 2001, 2036, 5967, 2046, 8952, 1998, 2019, 2434, 2678, 7284, 2186, 1012, 2349, 2000, 2659, 4341, 1997, 11748, 4801, 4360, 11906, 2462, 1010, 11748, 4801, 4360, 11906, 3523, 2001, 2025, 22574, 1010, 2021, 1037, 5470, 5449, 11892, 2007, 1996, 2208, 1005, 1055, 4423, 3179, 2001, 2207, 1999, 2297, 1012, 2865, 1012, 4432, 2052, 2709, 2000, 1996, 6329, 2007, 1996, 2458, 1997, 11748, 4801, 4360, 1024, 24296, 4329, 2005, 1996, 9160, 1018, 1012, 102, 0, 0, 0, 0, 0, 0, 0, 0, 0, 0, 0, 0, 0, 0, 0, 0, 0, 0, 0, 0, 0, 0, 0, 0, 0, 0, 0, 0, 0, 0, 0, 0, 0, 0, 0, 0, 0, 0, 0, 0, 0, 0, 0, 0, 0, 0, 0, 0, 0, 0, 0, 0, 0, 0, 0, 0, 0, 0, 0, 0, 0, 0, 0, 0, 0, 0, 0, 0, 0, 0, 0, 0, 0, 0, 0, 0, 0, 0, 0, 0, 0, 0, 0, 0, 0, 0, 0, 0, 0, 0, 0, 0, 0, 0, 0, 0, 0, 0, 0, 0, 0, 0, 0, 0, 0, 0, 0, 0, 0, 0, 0, 0, 0, 0, 0, 0, 0, 0, 0, 0, 0, 0, 0, 0, 0, 0, 0, 0, 0, 0, 0, 0, 0, 0, 0, 0, 0, 0, 0, 0, 0, 0, 0, 0, 0, 0, 0, 0, 0, 0, 0, 0, 0, 0, 0, 0, 0, 0, 0, 0, 0, 0, 0, 0, 0, 0, 0, 0, 0, 0, 0, 0, 0, 0, 0, 0, 0, 0, 0, 0, 0, 0, 0, 0, 0, 0, 0, 0, 0, 0, 0, 0, 0, 0, 0, 0, 0, 0, 0, 0, 0, 0, 0, 0, 0, 0, 0, 0, 0, 0, 0, 0, 0, 0, 0, 0, 0, 0, 0, 0, 0, 0, 0, 0, 0, 0, 0, 0, 0, 0, 0, 0, 0, 0, 0, 0, 0, 0, 0, 0, 0, 0, 0, 0, 0, 0, 0, 0, 0, 0, 0, 0, 0, 0, 0, 0, 0, 0, 0, 0, 0, 0, 0, 0, 0, 0, 0, 0, 0, 0, 0, 0, 0, 0, 0, 0, 0, 0, 0, 0, 0, 0, 0, 0, 0, 0, 0, 0, 0, 0, 0, 0, 0, 0, 0, 0, 0, 0, 0, 0, 0, 0, 0, 0, 0, 0, 0, 0, 0, 0, 0, 0, 0, 0, 0, 0, 0, 0, 0, 0, 0, 0, 0, 0, 0, 0, 0, 0, 0, 0, 0, 0, 0, 0, 0, 0, 0, 0, 0, 0, 0, 0, 0, 0, 0, 0, 0, 0, 0, 0, 0, 0, 0, 0, 0, 0, 0, 0, 0, 0, 0, 0, 0, 0, 0, 0, 0, 0, 0, 0, 0, 0, 0, 0, 0, 0, 0, 0, 0, 0, 0, 0, 0, 0, 0, 0, 0, 0, 0, 0, 0, 0, 0, 0, 0, 0, 0, 0, 0, 0]\n",
      "{'text': \" It met with positive sales in Japan , and was praised by both Japanese and western critics . After release , it received downloadable content , along with an expanded edition in November of that year . It was also adapted into manga and an original video animation series . Due to low sales of Valkyria Chronicles II , Valkyria Chronicles III was not localized , but a fan translation compatible with the game 's expanded edition was released in 2014 . Media.Vision would return to the franchise with the development of Valkyria : Azure Revolution for the PlayStation 4 . \\n\", 'input_ids': [101, 2009, 2777, 2007, 3893, 4341, 1999, 2900, 1010, 1998, 2001, 5868, 2011, 2119, 2887, 1998, 2530, 4401, 1012, 2044, 2713, 1010, 2009, 2363, 26720, 4180, 1010, 2247, 2007, 2019, 4423, 3179, 1999, 2281, 1997, 2008, 2095, 1012, 2009, 2001, 2036, 5967, 2046, 8952, 1998, 2019, 2434, 2678, 7284, 2186, 1012, 2349, 2000, 2659, 4341, 1997, 11748, 4801, 4360, 11906, 2462, 1010, 11748, 4801, 4360, 11906, 3523, 2001, 2025, 22574, 1010, 2021, 1037, 5470, 5449, 11892, 2007, 1996, 2208, 1005, 1055, 4423, 3179, 2001, 2207, 1999, 2297, 1012, 2865, 1012, 4432, 2052, 2709, 2000, 1996, 6329, 2007, 1996, 2458, 1997, 11748, 4801, 4360, 1024, 24296, 4329, 2005, 1996, 9160, 1018, 1012, 102, 0, 0, 0, 0, 0, 0, 0, 0, 0, 0, 0, 0, 0, 0, 0, 0, 0, 0, 0, 0, 0, 0, 0, 0, 0, 0, 0, 0, 0, 0, 0, 0, 0, 0, 0, 0, 0, 0, 0, 0, 0, 0, 0, 0, 0, 0, 0, 0, 0, 0, 0, 0, 0, 0, 0, 0, 0, 0, 0, 0, 0, 0, 0, 0, 0, 0, 0, 0, 0, 0, 0, 0, 0, 0, 0, 0, 0, 0, 0, 0, 0, 0, 0, 0, 0, 0, 0, 0, 0, 0, 0, 0, 0, 0, 0, 0, 0, 0, 0, 0, 0, 0, 0, 0, 0, 0, 0, 0, 0, 0, 0, 0, 0, 0, 0, 0, 0, 0, 0, 0, 0, 0, 0, 0, 0, 0, 0, 0, 0, 0, 0, 0, 0, 0, 0, 0, 0, 0, 0, 0, 0, 0, 0, 0, 0, 0, 0, 0, 0, 0, 0, 0, 0, 0, 0, 0, 0, 0, 0, 0, 0, 0, 0, 0, 0, 0, 0, 0, 0, 0, 0, 0, 0, 0, 0, 0, 0, 0, 0, 0, 0, 0, 0, 0, 0, 0, 0, 0, 0, 0, 0, 0, 0, 0, 0, 0, 0, 0, 0, 0, 0, 0, 0, 0, 0, 0, 0, 0, 0, 0, 0, 0, 0, 0, 0, 0, 0, 0, 0, 0, 0, 0, 0, 0, 0, 0, 0, 0, 0, 0, 0, 0, 0, 0, 0, 0, 0, 0, 0, 0, 0, 0, 0, 0, 0, 0, 0, 0, 0, 0, 0, 0, 0, 0, 0, 0, 0, 0, 0, 0, 0, 0, 0, 0, 0, 0, 0, 0, 0, 0, 0, 0, 0, 0, 0, 0, 0, 0, 0, 0, 0, 0, 0, 0, 0, 0, 0, 0, 0, 0, 0, 0, 0, 0, 0, 0, 0, 0, 0, 0, 0, 0, 0, 0, 0, 0, 0, 0, 0, 0, 0, 0, 0, 0, 0, 0, 0, 0, 0, 0, 0, 0, 0, 0, 0, 0, 0, 0, 0, 0, 0, 0, 0, 0, 0, 0, 0, 0, 0, 0, 0, 0, 0, 0, 0, 0, 0, 0, 0, 0, 0, 0, 0, 0, 0, 0, 0, 0, 0, 0, 0, 0, 0, 0, 0, 0, 0, 0, 0, 0, 0, 0, 0, 0, 0, 0, 0, 0, 0, 0, 0, 0, 0, 0, 0, 0, 0, 0, 0, 0, 0, 0, 0, 0, 0, 0, 0, 0, 0, 0], 'token_type_ids': [0, 0, 0, 0, 0, 0, 0, 0, 0, 0, 0, 0, 0, 0, 0, 0, 0, 0, 0, 0, 0, 0, 0, 0, 0, 0, 0, 0, 0, 0, 0, 0, 0, 0, 0, 0, 0, 0, 0, 0, 0, 0, 0, 0, 0, 0, 0, 0, 0, 0, 0, 0, 0, 0, 0, 0, 0, 0, 0, 0, 0, 0, 0, 0, 0, 0, 0, 0, 0, 0, 0, 0, 0, 0, 0, 0, 0, 0, 0, 0, 0, 0, 0, 0, 0, 0, 0, 0, 0, 0, 0, 0, 0, 0, 0, 0, 0, 0, 0, 0, 0, 0, 0, 0, 0, 0, 0, 0, 0, 0, 0, 0, 0, 0, 0, 0, 0, 0, 0, 0, 0, 0, 0, 0, 0, 0, 0, 0, 0, 0, 0, 0, 0, 0, 0, 0, 0, 0, 0, 0, 0, 0, 0, 0, 0, 0, 0, 0, 0, 0, 0, 0, 0, 0, 0, 0, 0, 0, 0, 0, 0, 0, 0, 0, 0, 0, 0, 0, 0, 0, 0, 0, 0, 0, 0, 0, 0, 0, 0, 0, 0, 0, 0, 0, 0, 0, 0, 0, 0, 0, 0, 0, 0, 0, 0, 0, 0, 0, 0, 0, 0, 0, 0, 0, 0, 0, 0, 0, 0, 0, 0, 0, 0, 0, 0, 0, 0, 0, 0, 0, 0, 0, 0, 0, 0, 0, 0, 0, 0, 0, 0, 0, 0, 0, 0, 0, 0, 0, 0, 0, 0, 0, 0, 0, 0, 0, 0, 0, 0, 0, 0, 0, 0, 0, 0, 0, 0, 0, 0, 0, 0, 0, 0, 0, 0, 0, 0, 0, 0, 0, 0, 0, 0, 0, 0, 0, 0, 0, 0, 0, 0, 0, 0, 0, 0, 0, 0, 0, 0, 0, 0, 0, 0, 0, 0, 0, 0, 0, 0, 0, 0, 0, 0, 0, 0, 0, 0, 0, 0, 0, 0, 0, 0, 0, 0, 0, 0, 0, 0, 0, 0, 0, 0, 0, 0, 0, 0, 0, 0, 0, 0, 0, 0, 0, 0, 0, 0, 0, 0, 0, 0, 0, 0, 0, 0, 0, 0, 0, 0, 0, 0, 0, 0, 0, 0, 0, 0, 0, 0, 0, 0, 0, 0, 0, 0, 0, 0, 0, 0, 0, 0, 0, 0, 0, 0, 0, 0, 0, 0, 0, 0, 0, 0, 0, 0, 0, 0, 0, 0, 0, 0, 0, 0, 0, 0, 0, 0, 0, 0, 0, 0, 0, 0, 0, 0, 0, 0, 0, 0, 0, 0, 0, 0, 0, 0, 0, 0, 0, 0, 0, 0, 0, 0, 0, 0, 0, 0, 0, 0, 0, 0, 0, 0, 0, 0, 0, 0, 0, 0, 0, 0, 0, 0, 0, 0, 0, 0, 0, 0, 0, 0, 0, 0, 0, 0, 0, 0, 0, 0, 0, 0, 0, 0, 0, 0, 0, 0, 0, 0, 0, 0, 0, 0, 0, 0, 0, 0, 0, 0, 0, 0, 0, 0, 0, 0, 0, 0, 0, 0, 0, 0, 0, 0, 0, 0, 0, 0, 0, 0, 0, 0, 0, 0, 0, 0, 0, 0, 0, 0, 0, 0, 0], 'attention_mask': [1, 1, 1, 1, 1, 1, 1, 1, 1, 1, 1, 1, 1, 1, 1, 1, 1, 1, 1, 1, 1, 1, 1, 1, 1, 1, 1, 1, 1, 1, 1, 1, 1, 1, 1, 1, 1, 1, 1, 1, 1, 1, 1, 1, 1, 1, 1, 1, 1, 1, 1, 1, 1, 1, 1, 1, 1, 1, 1, 1, 1, 1, 1, 1, 1, 1, 1, 1, 1, 1, 1, 1, 1, 1, 1, 1, 1, 1, 1, 1, 1, 1, 1, 1, 1, 1, 1, 1, 1, 1, 1, 1, 1, 1, 1, 1, 1, 1, 1, 1, 1, 1, 1, 1, 1, 1, 1, 1, 1, 1, 1, 1, 0, 0, 0, 0, 0, 0, 0, 0, 0, 0, 0, 0, 0, 0, 0, 0, 0, 0, 0, 0, 0, 0, 0, 0, 0, 0, 0, 0, 0, 0, 0, 0, 0, 0, 0, 0, 0, 0, 0, 0, 0, 0, 0, 0, 0, 0, 0, 0, 0, 0, 0, 0, 0, 0, 0, 0, 0, 0, 0, 0, 0, 0, 0, 0, 0, 0, 0, 0, 0, 0, 0, 0, 0, 0, 0, 0, 0, 0, 0, 0, 0, 0, 0, 0, 0, 0, 0, 0, 0, 0, 0, 0, 0, 0, 0, 0, 0, 0, 0, 0, 0, 0, 0, 0, 0, 0, 0, 0, 0, 0, 0, 0, 0, 0, 0, 0, 0, 0, 0, 0, 0, 0, 0, 0, 0, 0, 0, 0, 0, 0, 0, 0, 0, 0, 0, 0, 0, 0, 0, 0, 0, 0, 0, 0, 0, 0, 0, 0, 0, 0, 0, 0, 0, 0, 0, 0, 0, 0, 0, 0, 0, 0, 0, 0, 0, 0, 0, 0, 0, 0, 0, 0, 0, 0, 0, 0, 0, 0, 0, 0, 0, 0, 0, 0, 0, 0, 0, 0, 0, 0, 0, 0, 0, 0, 0, 0, 0, 0, 0, 0, 0, 0, 0, 0, 0, 0, 0, 0, 0, 0, 0, 0, 0, 0, 0, 0, 0, 0, 0, 0, 0, 0, 0, 0, 0, 0, 0, 0, 0, 0, 0, 0, 0, 0, 0, 0, 0, 0, 0, 0, 0, 0, 0, 0, 0, 0, 0, 0, 0, 0, 0, 0, 0, 0, 0, 0, 0, 0, 0, 0, 0, 0, 0, 0, 0, 0, 0, 0, 0, 0, 0, 0, 0, 0, 0, 0, 0, 0, 0, 0, 0, 0, 0, 0, 0, 0, 0, 0, 0, 0, 0, 0, 0, 0, 0, 0, 0, 0, 0, 0, 0, 0, 0, 0, 0, 0, 0, 0, 0, 0, 0, 0, 0, 0, 0, 0, 0, 0, 0, 0, 0, 0, 0, 0, 0, 0, 0, 0, 0, 0, 0, 0, 0, 0, 0, 0, 0, 0, 0, 0, 0, 0, 0, 0, 0, 0, 0, 0, 0, 0, 0, 0, 0, 0, 0, 0, 0, 0, 0, 0, 0, 0, 0, 0, 0, 0, 0, 0, 0, 0, 0, 0, 0, 0, 0, 0, 0, 0, 0, 0, 0, 0, 0, 0, 0, 0, 0, 0, 0, 0, 0, 0, 0, 0, 0, 0, 0, 0, 0, 0]}\n",
      "(tensor([  0,   1,   2,   3,   4,   5,   6,   7,   8,   9,  10,  11,  12,  13,\n",
      "         14,  15,  16,  17,  18,  19,  20,  21,  22,  23,  24,  25,  26,  27,\n",
      "         28,  29,  30,  31,  32,  33,  34,  35,  36,  37,  38,  39,  40,  41,\n",
      "         42,  43,  44,  45,  46,  47,  48,  49,  50,  51,  52,  53,  54,  55,\n",
      "         56,  57,  58,  59,  60,  61,  62,  63,  64,  65,  66,  67,  68,  69,\n",
      "         70,  71,  72,  73,  74,  75,  76,  77,  78,  79,  80,  81,  82,  83,\n",
      "         84,  85,  86,  87,  88,  89,  90,  91,  92,  93,  94,  95,  96,  97,\n",
      "         98,  99, 100, 101, 102, 103, 104, 105, 106, 107, 108, 109, 110, 111]),)\n",
      " = = Gameplay = = \n",
      "\n",
      "[101, 1027, 1027, 11247, 1027, 1027, 102, 0, 0, 0, 0, 0, 0, 0, 0, 0, 0, 0, 0, 0, 0, 0, 0, 0, 0, 0, 0, 0, 0, 0, 0, 0, 0, 0, 0, 0, 0, 0, 0, 0, 0, 0, 0, 0, 0, 0, 0, 0, 0, 0, 0, 0, 0, 0, 0, 0, 0, 0, 0, 0, 0, 0, 0, 0, 0, 0, 0, 0, 0, 0, 0, 0, 0, 0, 0, 0, 0, 0, 0, 0, 0, 0, 0, 0, 0, 0, 0, 0, 0, 0, 0, 0, 0, 0, 0, 0, 0, 0, 0, 0, 0, 0, 0, 0, 0, 0, 0, 0, 0, 0, 0, 0, 0, 0, 0, 0, 0, 0, 0, 0, 0, 0, 0, 0, 0, 0, 0, 0, 0, 0, 0, 0, 0, 0, 0, 0, 0, 0, 0, 0, 0, 0, 0, 0, 0, 0, 0, 0, 0, 0, 0, 0, 0, 0, 0, 0, 0, 0, 0, 0, 0, 0, 0, 0, 0, 0, 0, 0, 0, 0, 0, 0, 0, 0, 0, 0, 0, 0, 0, 0, 0, 0, 0, 0, 0, 0, 0, 0, 0, 0, 0, 0, 0, 0, 0, 0, 0, 0, 0, 0, 0, 0, 0, 0, 0, 0, 0, 0, 0, 0, 0, 0, 0, 0, 0, 0, 0, 0, 0, 0, 0, 0, 0, 0, 0, 0, 0, 0, 0, 0, 0, 0, 0, 0, 0, 0, 0, 0, 0, 0, 0, 0, 0, 0, 0, 0, 0, 0, 0, 0, 0, 0, 0, 0, 0, 0, 0, 0, 0, 0, 0, 0, 0, 0, 0, 0, 0, 0, 0, 0, 0, 0, 0, 0, 0, 0, 0, 0, 0, 0, 0, 0, 0, 0, 0, 0, 0, 0, 0, 0, 0, 0, 0, 0, 0, 0, 0, 0, 0, 0, 0, 0, 0, 0, 0, 0, 0, 0, 0, 0, 0, 0, 0, 0, 0, 0, 0, 0, 0, 0, 0, 0, 0, 0, 0, 0, 0, 0, 0, 0, 0, 0, 0, 0, 0, 0, 0, 0, 0, 0, 0, 0, 0, 0, 0, 0, 0, 0, 0, 0, 0, 0, 0, 0, 0, 0, 0, 0, 0, 0, 0, 0, 0, 0, 0, 0, 0, 0, 0, 0, 0, 0, 0, 0, 0, 0, 0, 0, 0, 0, 0, 0, 0, 0, 0, 0, 0, 0, 0, 0, 0, 0, 0, 0, 0, 0, 0, 0, 0, 0, 0, 0, 0, 0, 0, 0, 0, 0, 0, 0, 0, 0, 0, 0, 0, 0, 0, 0, 0, 0, 0, 0, 0, 0, 0, 0, 0, 0, 0, 0, 0, 0, 0, 0, 0, 0, 0, 0, 0, 0, 0, 0, 0, 0, 0, 0, 0, 0, 0, 0, 0, 0, 0, 0, 0, 0, 0, 0, 0, 0, 0, 0, 0, 0, 0, 0, 0, 0, 0, 0, 0, 0, 0, 0, 0, 0, 0, 0, 0, 0, 0, 0, 0, 0, 0, 0, 0, 0, 0, 0, 0, 0, 0, 0, 0, 0, 0, 0, 0, 0, 0, 0, 0, 0, 0, 0, 0, 0, 0, 0, 0, 0]\n",
      "{'text': ' = = Gameplay = = \\n', 'input_ids': [101, 1027, 1027, 11247, 1027, 1027, 102, 0, 0, 0, 0, 0, 0, 0, 0, 0, 0, 0, 0, 0, 0, 0, 0, 0, 0, 0, 0, 0, 0, 0, 0, 0, 0, 0, 0, 0, 0, 0, 0, 0, 0, 0, 0, 0, 0, 0, 0, 0, 0, 0, 0, 0, 0, 0, 0, 0, 0, 0, 0, 0, 0, 0, 0, 0, 0, 0, 0, 0, 0, 0, 0, 0, 0, 0, 0, 0, 0, 0, 0, 0, 0, 0, 0, 0, 0, 0, 0, 0, 0, 0, 0, 0, 0, 0, 0, 0, 0, 0, 0, 0, 0, 0, 0, 0, 0, 0, 0, 0, 0, 0, 0, 0, 0, 0, 0, 0, 0, 0, 0, 0, 0, 0, 0, 0, 0, 0, 0, 0, 0, 0, 0, 0, 0, 0, 0, 0, 0, 0, 0, 0, 0, 0, 0, 0, 0, 0, 0, 0, 0, 0, 0, 0, 0, 0, 0, 0, 0, 0, 0, 0, 0, 0, 0, 0, 0, 0, 0, 0, 0, 0, 0, 0, 0, 0, 0, 0, 0, 0, 0, 0, 0, 0, 0, 0, 0, 0, 0, 0, 0, 0, 0, 0, 0, 0, 0, 0, 0, 0, 0, 0, 0, 0, 0, 0, 0, 0, 0, 0, 0, 0, 0, 0, 0, 0, 0, 0, 0, 0, 0, 0, 0, 0, 0, 0, 0, 0, 0, 0, 0, 0, 0, 0, 0, 0, 0, 0, 0, 0, 0, 0, 0, 0, 0, 0, 0, 0, 0, 0, 0, 0, 0, 0, 0, 0, 0, 0, 0, 0, 0, 0, 0, 0, 0, 0, 0, 0, 0, 0, 0, 0, 0, 0, 0, 0, 0, 0, 0, 0, 0, 0, 0, 0, 0, 0, 0, 0, 0, 0, 0, 0, 0, 0, 0, 0, 0, 0, 0, 0, 0, 0, 0, 0, 0, 0, 0, 0, 0, 0, 0, 0, 0, 0, 0, 0, 0, 0, 0, 0, 0, 0, 0, 0, 0, 0, 0, 0, 0, 0, 0, 0, 0, 0, 0, 0, 0, 0, 0, 0, 0, 0, 0, 0, 0, 0, 0, 0, 0, 0, 0, 0, 0, 0, 0, 0, 0, 0, 0, 0, 0, 0, 0, 0, 0, 0, 0, 0, 0, 0, 0, 0, 0, 0, 0, 0, 0, 0, 0, 0, 0, 0, 0, 0, 0, 0, 0, 0, 0, 0, 0, 0, 0, 0, 0, 0, 0, 0, 0, 0, 0, 0, 0, 0, 0, 0, 0, 0, 0, 0, 0, 0, 0, 0, 0, 0, 0, 0, 0, 0, 0, 0, 0, 0, 0, 0, 0, 0, 0, 0, 0, 0, 0, 0, 0, 0, 0, 0, 0, 0, 0, 0, 0, 0, 0, 0, 0, 0, 0, 0, 0, 0, 0, 0, 0, 0, 0, 0, 0, 0, 0, 0, 0, 0, 0, 0, 0, 0, 0, 0, 0, 0, 0, 0, 0, 0, 0, 0, 0, 0, 0, 0, 0, 0, 0, 0, 0, 0, 0, 0, 0, 0, 0, 0, 0, 0, 0, 0, 0, 0, 0, 0, 0, 0, 0, 0, 0, 0, 0, 0, 0, 0, 0, 0], 'token_type_ids': [0, 0, 0, 0, 0, 0, 0, 0, 0, 0, 0, 0, 0, 0, 0, 0, 0, 0, 0, 0, 0, 0, 0, 0, 0, 0, 0, 0, 0, 0, 0, 0, 0, 0, 0, 0, 0, 0, 0, 0, 0, 0, 0, 0, 0, 0, 0, 0, 0, 0, 0, 0, 0, 0, 0, 0, 0, 0, 0, 0, 0, 0, 0, 0, 0, 0, 0, 0, 0, 0, 0, 0, 0, 0, 0, 0, 0, 0, 0, 0, 0, 0, 0, 0, 0, 0, 0, 0, 0, 0, 0, 0, 0, 0, 0, 0, 0, 0, 0, 0, 0, 0, 0, 0, 0, 0, 0, 0, 0, 0, 0, 0, 0, 0, 0, 0, 0, 0, 0, 0, 0, 0, 0, 0, 0, 0, 0, 0, 0, 0, 0, 0, 0, 0, 0, 0, 0, 0, 0, 0, 0, 0, 0, 0, 0, 0, 0, 0, 0, 0, 0, 0, 0, 0, 0, 0, 0, 0, 0, 0, 0, 0, 0, 0, 0, 0, 0, 0, 0, 0, 0, 0, 0, 0, 0, 0, 0, 0, 0, 0, 0, 0, 0, 0, 0, 0, 0, 0, 0, 0, 0, 0, 0, 0, 0, 0, 0, 0, 0, 0, 0, 0, 0, 0, 0, 0, 0, 0, 0, 0, 0, 0, 0, 0, 0, 0, 0, 0, 0, 0, 0, 0, 0, 0, 0, 0, 0, 0, 0, 0, 0, 0, 0, 0, 0, 0, 0, 0, 0, 0, 0, 0, 0, 0, 0, 0, 0, 0, 0, 0, 0, 0, 0, 0, 0, 0, 0, 0, 0, 0, 0, 0, 0, 0, 0, 0, 0, 0, 0, 0, 0, 0, 0, 0, 0, 0, 0, 0, 0, 0, 0, 0, 0, 0, 0, 0, 0, 0, 0, 0, 0, 0, 0, 0, 0, 0, 0, 0, 0, 0, 0, 0, 0, 0, 0, 0, 0, 0, 0, 0, 0, 0, 0, 0, 0, 0, 0, 0, 0, 0, 0, 0, 0, 0, 0, 0, 0, 0, 0, 0, 0, 0, 0, 0, 0, 0, 0, 0, 0, 0, 0, 0, 0, 0, 0, 0, 0, 0, 0, 0, 0, 0, 0, 0, 0, 0, 0, 0, 0, 0, 0, 0, 0, 0, 0, 0, 0, 0, 0, 0, 0, 0, 0, 0, 0, 0, 0, 0, 0, 0, 0, 0, 0, 0, 0, 0, 0, 0, 0, 0, 0, 0, 0, 0, 0, 0, 0, 0, 0, 0, 0, 0, 0, 0, 0, 0, 0, 0, 0, 0, 0, 0, 0, 0, 0, 0, 0, 0, 0, 0, 0, 0, 0, 0, 0, 0, 0, 0, 0, 0, 0, 0, 0, 0, 0, 0, 0, 0, 0, 0, 0, 0, 0, 0, 0, 0, 0, 0, 0, 0, 0, 0, 0, 0, 0, 0, 0, 0, 0, 0, 0, 0, 0, 0, 0, 0, 0, 0, 0, 0, 0, 0, 0, 0, 0, 0, 0, 0, 0, 0, 0, 0, 0, 0, 0, 0, 0, 0, 0, 0, 0, 0, 0, 0, 0, 0, 0, 0, 0, 0, 0, 0, 0, 0, 0, 0, 0, 0, 0, 0, 0, 0], 'attention_mask': [1, 1, 1, 1, 1, 1, 1, 0, 0, 0, 0, 0, 0, 0, 0, 0, 0, 0, 0, 0, 0, 0, 0, 0, 0, 0, 0, 0, 0, 0, 0, 0, 0, 0, 0, 0, 0, 0, 0, 0, 0, 0, 0, 0, 0, 0, 0, 0, 0, 0, 0, 0, 0, 0, 0, 0, 0, 0, 0, 0, 0, 0, 0, 0, 0, 0, 0, 0, 0, 0, 0, 0, 0, 0, 0, 0, 0, 0, 0, 0, 0, 0, 0, 0, 0, 0, 0, 0, 0, 0, 0, 0, 0, 0, 0, 0, 0, 0, 0, 0, 0, 0, 0, 0, 0, 0, 0, 0, 0, 0, 0, 0, 0, 0, 0, 0, 0, 0, 0, 0, 0, 0, 0, 0, 0, 0, 0, 0, 0, 0, 0, 0, 0, 0, 0, 0, 0, 0, 0, 0, 0, 0, 0, 0, 0, 0, 0, 0, 0, 0, 0, 0, 0, 0, 0, 0, 0, 0, 0, 0, 0, 0, 0, 0, 0, 0, 0, 0, 0, 0, 0, 0, 0, 0, 0, 0, 0, 0, 0, 0, 0, 0, 0, 0, 0, 0, 0, 0, 0, 0, 0, 0, 0, 0, 0, 0, 0, 0, 0, 0, 0, 0, 0, 0, 0, 0, 0, 0, 0, 0, 0, 0, 0, 0, 0, 0, 0, 0, 0, 0, 0, 0, 0, 0, 0, 0, 0, 0, 0, 0, 0, 0, 0, 0, 0, 0, 0, 0, 0, 0, 0, 0, 0, 0, 0, 0, 0, 0, 0, 0, 0, 0, 0, 0, 0, 0, 0, 0, 0, 0, 0, 0, 0, 0, 0, 0, 0, 0, 0, 0, 0, 0, 0, 0, 0, 0, 0, 0, 0, 0, 0, 0, 0, 0, 0, 0, 0, 0, 0, 0, 0, 0, 0, 0, 0, 0, 0, 0, 0, 0, 0, 0, 0, 0, 0, 0, 0, 0, 0, 0, 0, 0, 0, 0, 0, 0, 0, 0, 0, 0, 0, 0, 0, 0, 0, 0, 0, 0, 0, 0, 0, 0, 0, 0, 0, 0, 0, 0, 0, 0, 0, 0, 0, 0, 0, 0, 0, 0, 0, 0, 0, 0, 0, 0, 0, 0, 0, 0, 0, 0, 0, 0, 0, 0, 0, 0, 0, 0, 0, 0, 0, 0, 0, 0, 0, 0, 0, 0, 0, 0, 0, 0, 0, 0, 0, 0, 0, 0, 0, 0, 0, 0, 0, 0, 0, 0, 0, 0, 0, 0, 0, 0, 0, 0, 0, 0, 0, 0, 0, 0, 0, 0, 0, 0, 0, 0, 0, 0, 0, 0, 0, 0, 0, 0, 0, 0, 0, 0, 0, 0, 0, 0, 0, 0, 0, 0, 0, 0, 0, 0, 0, 0, 0, 0, 0, 0, 0, 0, 0, 0, 0, 0, 0, 0, 0, 0, 0, 0, 0, 0, 0, 0, 0, 0, 0, 0, 0, 0, 0, 0, 0, 0, 0, 0, 0, 0, 0, 0, 0, 0, 0, 0, 0, 0, 0, 0, 0, 0, 0, 0, 0, 0, 0, 0, 0, 0, 0, 0, 0, 0, 0, 0, 0, 0, 0, 0, 0, 0, 0, 0, 0, 0]}\n",
      "(tensor([0, 1, 2, 3, 4, 5, 6]),)\n",
      " As with previous <unk> Chronicles games , Valkyria Chronicles III is a tactical role @-@ playing game where players take control of a military unit and take part in missions against enemy forces . Stories are told through comic book @-@ like panels with animated character portraits , with characters speaking partially through voiced speech bubbles and partially through unvoiced text . The player progresses through a series of linear missions , gradually unlocked as maps that can be freely scanned through and replayed as they are unlocked . The route to each story location on the map varies depending on an individual player 's approach : when one option is selected , the other is sealed off to the player . Outside missions , the player characters rest in a camp , where units can be customized and character growth occurs . Alongside the main story missions are character @-@ specific sub missions relating to different squad members . After the game 's completion , additional episodes are unlocked , some of them having a higher difficulty than those found in the rest of the game . There are also love simulation elements related to the game 's two main heroines , although they take a very minor role . \n",
      "\n",
      "[101, 2004, 2007, 3025, 1026, 4895, 2243, 1028, 11906, 2399, 1010, 11748, 4801, 4360, 11906, 3523, 2003, 1037, 8608, 2535, 1030, 1011, 1030, 2652, 2208, 2073, 2867, 2202, 2491, 1997, 1037, 2510, 3131, 1998, 2202, 2112, 1999, 6416, 2114, 4099, 2749, 1012, 3441, 2024, 2409, 2083, 5021, 2338, 1030, 1011, 1030, 2066, 9320, 2007, 6579, 2839, 9668, 1010, 2007, 3494, 4092, 6822, 2083, 6126, 4613, 17255, 1998, 6822, 2083, 4895, 6767, 6610, 2094, 3793, 1012, 1996, 2447, 22901, 2083, 1037, 2186, 1997, 7399, 6416, 1010, 6360, 14058, 2004, 7341, 2008, 2064, 2022, 10350, 11728, 2083, 1998, 15712, 2098, 2004, 2027, 2024, 14058, 1012, 1996, 2799, 2000, 2169, 2466, 3295, 2006, 1996, 4949, 9783, 5834, 2006, 2019, 3265, 2447, 1005, 1055, 3921, 1024, 2043, 2028, 5724, 2003, 3479, 1010, 1996, 2060, 2003, 10203, 2125, 2000, 1996, 2447, 1012, 2648, 6416, 1010, 1996, 2447, 3494, 2717, 1999, 1037, 3409, 1010, 2073, 3197, 2064, 2022, 28749, 1998, 2839, 3930, 5158, 1012, 4077, 1996, 2364, 2466, 6416, 2024, 2839, 1030, 1011, 1030, 3563, 4942, 6416, 8800, 2000, 2367, 4686, 2372, 1012, 2044, 1996, 2208, 1005, 1055, 6503, 1010, 3176, 4178, 2024, 14058, 1010, 2070, 1997, 2068, 2383, 1037, 3020, 7669, 2084, 2216, 2179, 1999, 1996, 2717, 1997, 1996, 2208, 1012, 2045, 2024, 2036, 2293, 12504, 3787, 3141, 2000, 1996, 2208, 1005, 1055, 2048, 2364, 18869, 2015, 1010, 2348, 2027, 2202, 1037, 2200, 3576, 2535, 1012, 102, 0, 0, 0, 0, 0, 0, 0, 0, 0, 0, 0, 0, 0, 0, 0, 0, 0, 0, 0, 0, 0, 0, 0, 0, 0, 0, 0, 0, 0, 0, 0, 0, 0, 0, 0, 0, 0, 0, 0, 0, 0, 0, 0, 0, 0, 0, 0, 0, 0, 0, 0, 0, 0, 0, 0, 0, 0, 0, 0, 0, 0, 0, 0, 0, 0, 0, 0, 0, 0, 0, 0, 0, 0, 0, 0, 0, 0, 0, 0, 0, 0, 0, 0, 0, 0, 0, 0, 0, 0, 0, 0, 0, 0, 0, 0, 0, 0, 0, 0, 0, 0, 0, 0, 0, 0, 0, 0, 0, 0, 0, 0, 0, 0, 0, 0, 0, 0, 0, 0, 0, 0, 0, 0, 0, 0, 0, 0, 0, 0, 0, 0, 0, 0, 0, 0, 0, 0, 0, 0, 0, 0, 0, 0, 0, 0, 0, 0, 0, 0, 0, 0, 0, 0, 0, 0, 0, 0, 0, 0, 0, 0, 0, 0, 0, 0, 0, 0, 0, 0, 0, 0, 0, 0, 0, 0, 0, 0, 0, 0, 0, 0, 0, 0, 0, 0, 0, 0, 0, 0, 0, 0, 0, 0, 0, 0, 0, 0, 0, 0, 0, 0, 0, 0, 0, 0, 0, 0, 0, 0, 0, 0, 0, 0, 0, 0, 0, 0, 0, 0, 0, 0, 0, 0, 0, 0, 0, 0, 0, 0, 0, 0, 0, 0, 0, 0, 0, 0, 0, 0, 0, 0, 0, 0, 0, 0, 0, 0, 0, 0, 0, 0, 0, 0, 0, 0, 0, 0, 0, 0, 0, 0, 0, 0, 0, 0, 0, 0, 0, 0, 0, 0, 0, 0, 0, 0, 0, 0, 0, 0, 0]\n",
      "{'text': \" As with previous <unk> Chronicles games , Valkyria Chronicles III is a tactical role @-@ playing game where players take control of a military unit and take part in missions against enemy forces . Stories are told through comic book @-@ like panels with animated character portraits , with characters speaking partially through voiced speech bubbles and partially through unvoiced text . The player progresses through a series of linear missions , gradually unlocked as maps that can be freely scanned through and replayed as they are unlocked . The route to each story location on the map varies depending on an individual player 's approach : when one option is selected , the other is sealed off to the player . Outside missions , the player characters rest in a camp , where units can be customized and character growth occurs . Alongside the main story missions are character @-@ specific sub missions relating to different squad members . After the game 's completion , additional episodes are unlocked , some of them having a higher difficulty than those found in the rest of the game . There are also love simulation elements related to the game 's two main heroines , although they take a very minor role . \\n\", 'input_ids': [101, 2004, 2007, 3025, 1026, 4895, 2243, 1028, 11906, 2399, 1010, 11748, 4801, 4360, 11906, 3523, 2003, 1037, 8608, 2535, 1030, 1011, 1030, 2652, 2208, 2073, 2867, 2202, 2491, 1997, 1037, 2510, 3131, 1998, 2202, 2112, 1999, 6416, 2114, 4099, 2749, 1012, 3441, 2024, 2409, 2083, 5021, 2338, 1030, 1011, 1030, 2066, 9320, 2007, 6579, 2839, 9668, 1010, 2007, 3494, 4092, 6822, 2083, 6126, 4613, 17255, 1998, 6822, 2083, 4895, 6767, 6610, 2094, 3793, 1012, 1996, 2447, 22901, 2083, 1037, 2186, 1997, 7399, 6416, 1010, 6360, 14058, 2004, 7341, 2008, 2064, 2022, 10350, 11728, 2083, 1998, 15712, 2098, 2004, 2027, 2024, 14058, 1012, 1996, 2799, 2000, 2169, 2466, 3295, 2006, 1996, 4949, 9783, 5834, 2006, 2019, 3265, 2447, 1005, 1055, 3921, 1024, 2043, 2028, 5724, 2003, 3479, 1010, 1996, 2060, 2003, 10203, 2125, 2000, 1996, 2447, 1012, 2648, 6416, 1010, 1996, 2447, 3494, 2717, 1999, 1037, 3409, 1010, 2073, 3197, 2064, 2022, 28749, 1998, 2839, 3930, 5158, 1012, 4077, 1996, 2364, 2466, 6416, 2024, 2839, 1030, 1011, 1030, 3563, 4942, 6416, 8800, 2000, 2367, 4686, 2372, 1012, 2044, 1996, 2208, 1005, 1055, 6503, 1010, 3176, 4178, 2024, 14058, 1010, 2070, 1997, 2068, 2383, 1037, 3020, 7669, 2084, 2216, 2179, 1999, 1996, 2717, 1997, 1996, 2208, 1012, 2045, 2024, 2036, 2293, 12504, 3787, 3141, 2000, 1996, 2208, 1005, 1055, 2048, 2364, 18869, 2015, 1010, 2348, 2027, 2202, 1037, 2200, 3576, 2535, 1012, 102, 0, 0, 0, 0, 0, 0, 0, 0, 0, 0, 0, 0, 0, 0, 0, 0, 0, 0, 0, 0, 0, 0, 0, 0, 0, 0, 0, 0, 0, 0, 0, 0, 0, 0, 0, 0, 0, 0, 0, 0, 0, 0, 0, 0, 0, 0, 0, 0, 0, 0, 0, 0, 0, 0, 0, 0, 0, 0, 0, 0, 0, 0, 0, 0, 0, 0, 0, 0, 0, 0, 0, 0, 0, 0, 0, 0, 0, 0, 0, 0, 0, 0, 0, 0, 0, 0, 0, 0, 0, 0, 0, 0, 0, 0, 0, 0, 0, 0, 0, 0, 0, 0, 0, 0, 0, 0, 0, 0, 0, 0, 0, 0, 0, 0, 0, 0, 0, 0, 0, 0, 0, 0, 0, 0, 0, 0, 0, 0, 0, 0, 0, 0, 0, 0, 0, 0, 0, 0, 0, 0, 0, 0, 0, 0, 0, 0, 0, 0, 0, 0, 0, 0, 0, 0, 0, 0, 0, 0, 0, 0, 0, 0, 0, 0, 0, 0, 0, 0, 0, 0, 0, 0, 0, 0, 0, 0, 0, 0, 0, 0, 0, 0, 0, 0, 0, 0, 0, 0, 0, 0, 0, 0, 0, 0, 0, 0, 0, 0, 0, 0, 0, 0, 0, 0, 0, 0, 0, 0, 0, 0, 0, 0, 0, 0, 0, 0, 0, 0, 0, 0, 0, 0, 0, 0, 0, 0, 0, 0, 0, 0, 0, 0, 0, 0, 0, 0, 0, 0, 0, 0, 0, 0, 0, 0, 0, 0, 0, 0, 0, 0, 0, 0, 0, 0, 0, 0, 0, 0, 0, 0, 0, 0, 0, 0, 0, 0, 0, 0, 0, 0, 0, 0, 0, 0, 0, 0, 0, 0, 0, 0], 'token_type_ids': [0, 0, 0, 0, 0, 0, 0, 0, 0, 0, 0, 0, 0, 0, 0, 0, 0, 0, 0, 0, 0, 0, 0, 0, 0, 0, 0, 0, 0, 0, 0, 0, 0, 0, 0, 0, 0, 0, 0, 0, 0, 0, 0, 0, 0, 0, 0, 0, 0, 0, 0, 0, 0, 0, 0, 0, 0, 0, 0, 0, 0, 0, 0, 0, 0, 0, 0, 0, 0, 0, 0, 0, 0, 0, 0, 0, 0, 0, 0, 0, 0, 0, 0, 0, 0, 0, 0, 0, 0, 0, 0, 0, 0, 0, 0, 0, 0, 0, 0, 0, 0, 0, 0, 0, 0, 0, 0, 0, 0, 0, 0, 0, 0, 0, 0, 0, 0, 0, 0, 0, 0, 0, 0, 0, 0, 0, 0, 0, 0, 0, 0, 0, 0, 0, 0, 0, 0, 0, 0, 0, 0, 0, 0, 0, 0, 0, 0, 0, 0, 0, 0, 0, 0, 0, 0, 0, 0, 0, 0, 0, 0, 0, 0, 0, 0, 0, 0, 0, 0, 0, 0, 0, 0, 0, 0, 0, 0, 0, 0, 0, 0, 0, 0, 0, 0, 0, 0, 0, 0, 0, 0, 0, 0, 0, 0, 0, 0, 0, 0, 0, 0, 0, 0, 0, 0, 0, 0, 0, 0, 0, 0, 0, 0, 0, 0, 0, 0, 0, 0, 0, 0, 0, 0, 0, 0, 0, 0, 0, 0, 0, 0, 0, 0, 0, 0, 0, 0, 0, 0, 0, 0, 0, 0, 0, 0, 0, 0, 0, 0, 0, 0, 0, 0, 0, 0, 0, 0, 0, 0, 0, 0, 0, 0, 0, 0, 0, 0, 0, 0, 0, 0, 0, 0, 0, 0, 0, 0, 0, 0, 0, 0, 0, 0, 0, 0, 0, 0, 0, 0, 0, 0, 0, 0, 0, 0, 0, 0, 0, 0, 0, 0, 0, 0, 0, 0, 0, 0, 0, 0, 0, 0, 0, 0, 0, 0, 0, 0, 0, 0, 0, 0, 0, 0, 0, 0, 0, 0, 0, 0, 0, 0, 0, 0, 0, 0, 0, 0, 0, 0, 0, 0, 0, 0, 0, 0, 0, 0, 0, 0, 0, 0, 0, 0, 0, 0, 0, 0, 0, 0, 0, 0, 0, 0, 0, 0, 0, 0, 0, 0, 0, 0, 0, 0, 0, 0, 0, 0, 0, 0, 0, 0, 0, 0, 0, 0, 0, 0, 0, 0, 0, 0, 0, 0, 0, 0, 0, 0, 0, 0, 0, 0, 0, 0, 0, 0, 0, 0, 0, 0, 0, 0, 0, 0, 0, 0, 0, 0, 0, 0, 0, 0, 0, 0, 0, 0, 0, 0, 0, 0, 0, 0, 0, 0, 0, 0, 0, 0, 0, 0, 0, 0, 0, 0, 0, 0, 0, 0, 0, 0, 0, 0, 0, 0, 0, 0, 0, 0, 0, 0, 0, 0, 0, 0, 0, 0, 0, 0, 0, 0, 0, 0, 0, 0, 0, 0, 0, 0, 0, 0, 0, 0, 0, 0, 0, 0, 0, 0, 0, 0, 0, 0, 0, 0, 0, 0, 0, 0, 0, 0, 0, 0, 0, 0, 0, 0, 0, 0, 0, 0, 0, 0, 0], 'attention_mask': [1, 1, 1, 1, 1, 1, 1, 1, 1, 1, 1, 1, 1, 1, 1, 1, 1, 1, 1, 1, 1, 1, 1, 1, 1, 1, 1, 1, 1, 1, 1, 1, 1, 1, 1, 1, 1, 1, 1, 1, 1, 1, 1, 1, 1, 1, 1, 1, 1, 1, 1, 1, 1, 1, 1, 1, 1, 1, 1, 1, 1, 1, 1, 1, 1, 1, 1, 1, 1, 1, 1, 1, 1, 1, 1, 1, 1, 1, 1, 1, 1, 1, 1, 1, 1, 1, 1, 1, 1, 1, 1, 1, 1, 1, 1, 1, 1, 1, 1, 1, 1, 1, 1, 1, 1, 1, 1, 1, 1, 1, 1, 1, 1, 1, 1, 1, 1, 1, 1, 1, 1, 1, 1, 1, 1, 1, 1, 1, 1, 1, 1, 1, 1, 1, 1, 1, 1, 1, 1, 1, 1, 1, 1, 1, 1, 1, 1, 1, 1, 1, 1, 1, 1, 1, 1, 1, 1, 1, 1, 1, 1, 1, 1, 1, 1, 1, 1, 1, 1, 1, 1, 1, 1, 1, 1, 1, 1, 1, 1, 1, 1, 1, 1, 1, 1, 1, 1, 1, 1, 1, 1, 1, 1, 1, 1, 1, 1, 1, 1, 1, 1, 1, 1, 1, 1, 1, 1, 1, 1, 1, 1, 1, 1, 1, 1, 1, 1, 1, 1, 1, 1, 1, 1, 1, 1, 1, 1, 1, 1, 1, 1, 1, 0, 0, 0, 0, 0, 0, 0, 0, 0, 0, 0, 0, 0, 0, 0, 0, 0, 0, 0, 0, 0, 0, 0, 0, 0, 0, 0, 0, 0, 0, 0, 0, 0, 0, 0, 0, 0, 0, 0, 0, 0, 0, 0, 0, 0, 0, 0, 0, 0, 0, 0, 0, 0, 0, 0, 0, 0, 0, 0, 0, 0, 0, 0, 0, 0, 0, 0, 0, 0, 0, 0, 0, 0, 0, 0, 0, 0, 0, 0, 0, 0, 0, 0, 0, 0, 0, 0, 0, 0, 0, 0, 0, 0, 0, 0, 0, 0, 0, 0, 0, 0, 0, 0, 0, 0, 0, 0, 0, 0, 0, 0, 0, 0, 0, 0, 0, 0, 0, 0, 0, 0, 0, 0, 0, 0, 0, 0, 0, 0, 0, 0, 0, 0, 0, 0, 0, 0, 0, 0, 0, 0, 0, 0, 0, 0, 0, 0, 0, 0, 0, 0, 0, 0, 0, 0, 0, 0, 0, 0, 0, 0, 0, 0, 0, 0, 0, 0, 0, 0, 0, 0, 0, 0, 0, 0, 0, 0, 0, 0, 0, 0, 0, 0, 0, 0, 0, 0, 0, 0, 0, 0, 0, 0, 0, 0, 0, 0, 0, 0, 0, 0, 0, 0, 0, 0, 0, 0, 0, 0, 0, 0, 0, 0, 0, 0, 0, 0, 0, 0, 0, 0, 0, 0, 0, 0, 0, 0, 0, 0, 0, 0, 0, 0, 0, 0, 0, 0, 0, 0, 0, 0, 0, 0, 0, 0, 0, 0, 0, 0, 0, 0, 0, 0, 0, 0, 0, 0, 0, 0, 0, 0, 0, 0, 0, 0, 0, 0, 0, 0, 0, 0, 0, 0, 0, 0, 0, 0, 0, 0, 0]}\n",
      "(tensor([  0,   1,   2,   3,   4,   5,   6,   7,   8,   9,  10,  11,  12,  13,\n",
      "         14,  15,  16,  17,  18,  19,  20,  21,  22,  23,  24,  25,  26,  27,\n",
      "         28,  29,  30,  31,  32,  33,  34,  35,  36,  37,  38,  39,  40,  41,\n",
      "         42,  43,  44,  45,  46,  47,  48,  49,  50,  51,  52,  53,  54,  55,\n",
      "         56,  57,  58,  59,  60,  61,  62,  63,  64,  65,  66,  67,  68,  69,\n",
      "         70,  71,  72,  73,  74,  75,  76,  77,  78,  79,  80,  81,  82,  83,\n",
      "         84,  85,  86,  87,  88,  89,  90,  91,  92,  93,  94,  95,  96,  97,\n",
      "         98,  99, 100, 101, 102, 103, 104, 105, 106, 107, 108, 109, 110, 111,\n",
      "        112, 113, 114, 115, 116, 117, 118, 119, 120, 121, 122, 123, 124, 125,\n",
      "        126, 127, 128, 129, 130, 131, 132, 133, 134, 135, 136, 137, 138, 139,\n",
      "        140, 141, 142, 143, 144, 145, 146, 147, 148, 149, 150, 151, 152, 153,\n",
      "        154, 155, 156, 157, 158, 159, 160, 161, 162, 163, 164, 165, 166, 167,\n",
      "        168, 169, 170, 171, 172, 173, 174, 175, 176, 177, 178, 179, 180, 181,\n",
      "        182, 183, 184, 185, 186, 187, 188, 189, 190, 191, 192, 193, 194, 195,\n",
      "        196, 197, 198, 199, 200, 201, 202, 203, 204, 205, 206, 207, 208, 209,\n",
      "        210, 211, 212, 213, 214, 215, 216, 217, 218, 219, 220, 221, 222, 223,\n",
      "        224, 225, 226, 227, 228, 229, 230, 231]),)\n"
     ]
    }
   ],
   "source": [
    "training_loop(model, tk_train, None, 1)"
   ]
  },
  {
   "cell_type": "code",
   "execution_count": 29,
   "metadata": {},
   "outputs": [
    {
     "ename": "ValueError",
     "evalue": "Expected input batch_size (1) to match target batch_size (128).",
     "output_type": "error",
     "traceback": [
      "\u001b[0;31m---------------------------------------------------------------------------\u001b[0m",
      "\u001b[0;31mValueError\u001b[0m                                Traceback (most recent call last)",
      "Cell \u001b[0;32mIn[29], line 2\u001b[0m\n\u001b[1;32m      1\u001b[0m loss \u001b[38;5;241m=\u001b[39m torch\u001b[38;5;241m.\u001b[39mnn\u001b[38;5;241m.\u001b[39mCrossEntropyLoss()\n\u001b[0;32m----> 2\u001b[0m \u001b[43mloss\u001b[49m\u001b[43m(\u001b[49m\u001b[43mpy\u001b[49m\u001b[43m,\u001b[49m\u001b[43m \u001b[49m\u001b[43mtorch\u001b[49m\u001b[38;5;241;43m.\u001b[39;49m\u001b[43mtensor\u001b[49m\u001b[43m(\u001b[49m\u001b[43mtk_train\u001b[49m\u001b[43m[\u001b[49m\u001b[38;5;241;43m101\u001b[39;49m\u001b[43m]\u001b[49m\u001b[43m[\u001b[49m\u001b[38;5;124;43m'\u001b[39;49m\u001b[38;5;124;43minput_ids\u001b[39;49m\u001b[38;5;124;43m'\u001b[39;49m\u001b[43m]\u001b[49m\u001b[43m)\u001b[49m\u001b[43m)\u001b[49m\n",
      "File \u001b[0;32m~/anaconda3/envs/NLP/lib/python3.10/site-packages/torch/nn/modules/module.py:1532\u001b[0m, in \u001b[0;36mModule._wrapped_call_impl\u001b[0;34m(self, *args, **kwargs)\u001b[0m\n\u001b[1;32m   1530\u001b[0m     \u001b[38;5;28;01mreturn\u001b[39;00m \u001b[38;5;28mself\u001b[39m\u001b[38;5;241m.\u001b[39m_compiled_call_impl(\u001b[38;5;241m*\u001b[39margs, \u001b[38;5;241m*\u001b[39m\u001b[38;5;241m*\u001b[39mkwargs)  \u001b[38;5;66;03m# type: ignore[misc]\u001b[39;00m\n\u001b[1;32m   1531\u001b[0m \u001b[38;5;28;01melse\u001b[39;00m:\n\u001b[0;32m-> 1532\u001b[0m     \u001b[38;5;28;01mreturn\u001b[39;00m \u001b[38;5;28;43mself\u001b[39;49m\u001b[38;5;241;43m.\u001b[39;49m\u001b[43m_call_impl\u001b[49m\u001b[43m(\u001b[49m\u001b[38;5;241;43m*\u001b[39;49m\u001b[43margs\u001b[49m\u001b[43m,\u001b[49m\u001b[43m \u001b[49m\u001b[38;5;241;43m*\u001b[39;49m\u001b[38;5;241;43m*\u001b[39;49m\u001b[43mkwargs\u001b[49m\u001b[43m)\u001b[49m\n",
      "File \u001b[0;32m~/anaconda3/envs/NLP/lib/python3.10/site-packages/torch/nn/modules/module.py:1541\u001b[0m, in \u001b[0;36mModule._call_impl\u001b[0;34m(self, *args, **kwargs)\u001b[0m\n\u001b[1;32m   1536\u001b[0m \u001b[38;5;66;03m# If we don't have any hooks, we want to skip the rest of the logic in\u001b[39;00m\n\u001b[1;32m   1537\u001b[0m \u001b[38;5;66;03m# this function, and just call forward.\u001b[39;00m\n\u001b[1;32m   1538\u001b[0m \u001b[38;5;28;01mif\u001b[39;00m \u001b[38;5;129;01mnot\u001b[39;00m (\u001b[38;5;28mself\u001b[39m\u001b[38;5;241m.\u001b[39m_backward_hooks \u001b[38;5;129;01mor\u001b[39;00m \u001b[38;5;28mself\u001b[39m\u001b[38;5;241m.\u001b[39m_backward_pre_hooks \u001b[38;5;129;01mor\u001b[39;00m \u001b[38;5;28mself\u001b[39m\u001b[38;5;241m.\u001b[39m_forward_hooks \u001b[38;5;129;01mor\u001b[39;00m \u001b[38;5;28mself\u001b[39m\u001b[38;5;241m.\u001b[39m_forward_pre_hooks\n\u001b[1;32m   1539\u001b[0m         \u001b[38;5;129;01mor\u001b[39;00m _global_backward_pre_hooks \u001b[38;5;129;01mor\u001b[39;00m _global_backward_hooks\n\u001b[1;32m   1540\u001b[0m         \u001b[38;5;129;01mor\u001b[39;00m _global_forward_hooks \u001b[38;5;129;01mor\u001b[39;00m _global_forward_pre_hooks):\n\u001b[0;32m-> 1541\u001b[0m     \u001b[38;5;28;01mreturn\u001b[39;00m \u001b[43mforward_call\u001b[49m\u001b[43m(\u001b[49m\u001b[38;5;241;43m*\u001b[39;49m\u001b[43margs\u001b[49m\u001b[43m,\u001b[49m\u001b[43m \u001b[49m\u001b[38;5;241;43m*\u001b[39;49m\u001b[38;5;241;43m*\u001b[39;49m\u001b[43mkwargs\u001b[49m\u001b[43m)\u001b[49m\n\u001b[1;32m   1543\u001b[0m \u001b[38;5;28;01mtry\u001b[39;00m:\n\u001b[1;32m   1544\u001b[0m     result \u001b[38;5;241m=\u001b[39m \u001b[38;5;28;01mNone\u001b[39;00m\n",
      "File \u001b[0;32m~/anaconda3/envs/NLP/lib/python3.10/site-packages/torch/nn/modules/loss.py:1185\u001b[0m, in \u001b[0;36mCrossEntropyLoss.forward\u001b[0;34m(self, input, target)\u001b[0m\n\u001b[1;32m   1184\u001b[0m \u001b[38;5;28;01mdef\u001b[39;00m \u001b[38;5;21mforward\u001b[39m(\u001b[38;5;28mself\u001b[39m, \u001b[38;5;28minput\u001b[39m: Tensor, target: Tensor) \u001b[38;5;241m-\u001b[39m\u001b[38;5;241m>\u001b[39m Tensor:\n\u001b[0;32m-> 1185\u001b[0m     \u001b[38;5;28;01mreturn\u001b[39;00m \u001b[43mF\u001b[49m\u001b[38;5;241;43m.\u001b[39;49m\u001b[43mcross_entropy\u001b[49m\u001b[43m(\u001b[49m\u001b[38;5;28;43minput\u001b[39;49m\u001b[43m,\u001b[49m\u001b[43m \u001b[49m\u001b[43mtarget\u001b[49m\u001b[43m,\u001b[49m\u001b[43m \u001b[49m\u001b[43mweight\u001b[49m\u001b[38;5;241;43m=\u001b[39;49m\u001b[38;5;28;43mself\u001b[39;49m\u001b[38;5;241;43m.\u001b[39;49m\u001b[43mweight\u001b[49m\u001b[43m,\u001b[49m\n\u001b[1;32m   1186\u001b[0m \u001b[43m                           \u001b[49m\u001b[43mignore_index\u001b[49m\u001b[38;5;241;43m=\u001b[39;49m\u001b[38;5;28;43mself\u001b[39;49m\u001b[38;5;241;43m.\u001b[39;49m\u001b[43mignore_index\u001b[49m\u001b[43m,\u001b[49m\u001b[43m \u001b[49m\u001b[43mreduction\u001b[49m\u001b[38;5;241;43m=\u001b[39;49m\u001b[38;5;28;43mself\u001b[39;49m\u001b[38;5;241;43m.\u001b[39;49m\u001b[43mreduction\u001b[49m\u001b[43m,\u001b[49m\n\u001b[1;32m   1187\u001b[0m \u001b[43m                           \u001b[49m\u001b[43mlabel_smoothing\u001b[49m\u001b[38;5;241;43m=\u001b[39;49m\u001b[38;5;28;43mself\u001b[39;49m\u001b[38;5;241;43m.\u001b[39;49m\u001b[43mlabel_smoothing\u001b[49m\u001b[43m)\u001b[49m\n",
      "File \u001b[0;32m~/anaconda3/envs/NLP/lib/python3.10/site-packages/torch/nn/functional.py:3086\u001b[0m, in \u001b[0;36mcross_entropy\u001b[0;34m(input, target, weight, size_average, ignore_index, reduce, reduction, label_smoothing)\u001b[0m\n\u001b[1;32m   3084\u001b[0m \u001b[38;5;28;01mif\u001b[39;00m size_average \u001b[38;5;129;01mis\u001b[39;00m \u001b[38;5;129;01mnot\u001b[39;00m \u001b[38;5;28;01mNone\u001b[39;00m \u001b[38;5;129;01mor\u001b[39;00m reduce \u001b[38;5;129;01mis\u001b[39;00m \u001b[38;5;129;01mnot\u001b[39;00m \u001b[38;5;28;01mNone\u001b[39;00m:\n\u001b[1;32m   3085\u001b[0m     reduction \u001b[38;5;241m=\u001b[39m _Reduction\u001b[38;5;241m.\u001b[39mlegacy_get_string(size_average, reduce)\n\u001b[0;32m-> 3086\u001b[0m \u001b[38;5;28;01mreturn\u001b[39;00m \u001b[43mtorch\u001b[49m\u001b[38;5;241;43m.\u001b[39;49m\u001b[43m_C\u001b[49m\u001b[38;5;241;43m.\u001b[39;49m\u001b[43m_nn\u001b[49m\u001b[38;5;241;43m.\u001b[39;49m\u001b[43mcross_entropy_loss\u001b[49m\u001b[43m(\u001b[49m\u001b[38;5;28;43minput\u001b[39;49m\u001b[43m,\u001b[49m\u001b[43m \u001b[49m\u001b[43mtarget\u001b[49m\u001b[43m,\u001b[49m\u001b[43m \u001b[49m\u001b[43mweight\u001b[49m\u001b[43m,\u001b[49m\u001b[43m \u001b[49m\u001b[43m_Reduction\u001b[49m\u001b[38;5;241;43m.\u001b[39;49m\u001b[43mget_enum\u001b[49m\u001b[43m(\u001b[49m\u001b[43mreduction\u001b[49m\u001b[43m)\u001b[49m\u001b[43m,\u001b[49m\u001b[43m \u001b[49m\u001b[43mignore_index\u001b[49m\u001b[43m,\u001b[49m\u001b[43m \u001b[49m\u001b[43mlabel_smoothing\u001b[49m\u001b[43m)\u001b[49m\n",
      "\u001b[0;31mValueError\u001b[0m: Expected input batch_size (1) to match target batch_size (128)."
     ]
    }
   ],
   "source": [
    "loss = torch.nn.CrossEntropyLoss()\n",
    "loss(py, torch.tensor(tk_train[101]['input_ids']))"
   ]
  },
  {
   "cell_type": "code",
   "execution_count": 30,
   "metadata": {},
   "outputs": [
    {
     "data": {
      "text/plain": [
       "\" Cicely Mary Barker ( 28 June 1895 – 16 February 1973 ) was an English illustrator best known for a series of fantasy illustrations depicting fairies and flowers . Barker 's art education began in girlhood with correspondence courses and instruction at the Croydon School of Art . Her earliest professional work included greeting cards and juvenile magazine illustrations , and her first book , Flower Fairies of the Spring , was published in 1923 . Similar books were published in the following decades . \\n\""
      ]
     },
     "execution_count": 30,
     "metadata": {},
     "output_type": "execute_result"
    }
   ],
   "source": [
    "tk_train[101]['text']"
   ]
  },
  {
   "cell_type": "code",
   "execution_count": 31,
   "metadata": {},
   "outputs": [
    {
     "data": {
      "text/plain": [
       "[101,\n",
       " 25022,\n",
       " 29109,\n",
       " 2100,\n",
       " 2984,\n",
       " 12852,\n",
       " 1006,\n",
       " 2654,\n",
       " 2238,\n",
       " 6301,\n",
       " 1516,\n",
       " 2385,\n",
       " 2337,\n",
       " 3381,\n",
       " 1007,\n",
       " 2001,\n",
       " 2019,\n",
       " 2394,\n",
       " 13825,\n",
       " 2190,\n",
       " 2124,\n",
       " 2005,\n",
       " 1037,\n",
       " 2186,\n",
       " 1997,\n",
       " 5913,\n",
       " 11249,\n",
       " 10775,\n",
       " 20182,\n",
       " 1998,\n",
       " 4870,\n",
       " 1012,\n",
       " 12852,\n",
       " 1005,\n",
       " 1055,\n",
       " 2396,\n",
       " 2495,\n",
       " 2211,\n",
       " 1999,\n",
       " 2611,\n",
       " 9021,\n",
       " 2007,\n",
       " 11061,\n",
       " 5352,\n",
       " 1998,\n",
       " 7899,\n",
       " 2012,\n",
       " 1996,\n",
       " 21838,\n",
       " 2082,\n",
       " 1997,\n",
       " 2396,\n",
       " 1012,\n",
       " 2014,\n",
       " 5700,\n",
       " 2658,\n",
       " 2147,\n",
       " 2443,\n",
       " 14806,\n",
       " 5329,\n",
       " 1998,\n",
       " 11799,\n",
       " 2932,\n",
       " 11249,\n",
       " 1010,\n",
       " 1998,\n",
       " 2014,\n",
       " 2034,\n",
       " 2338,\n",
       " 1010,\n",
       " 6546,\n",
       " 20182,\n",
       " 1997,\n",
       " 1996,\n",
       " 3500,\n",
       " 1010,\n",
       " 2001,\n",
       " 2405,\n",
       " 1999,\n",
       " 4927,\n",
       " 1012,\n",
       " 2714,\n",
       " 2808,\n",
       " 2020,\n",
       " 2405,\n",
       " 1999,\n",
       " 1996,\n",
       " 2206,\n",
       " 5109,\n",
       " 1012,\n",
       " 102,\n",
       " 0,\n",
       " 0,\n",
       " 0,\n",
       " 0,\n",
       " 0,\n",
       " 0,\n",
       " 0,\n",
       " 0,\n",
       " 0,\n",
       " 0,\n",
       " 0,\n",
       " 0,\n",
       " 0,\n",
       " 0,\n",
       " 0,\n",
       " 0,\n",
       " 0,\n",
       " 0,\n",
       " 0,\n",
       " 0,\n",
       " 0,\n",
       " 0,\n",
       " 0,\n",
       " 0,\n",
       " 0,\n",
       " 0,\n",
       " 0,\n",
       " 0,\n",
       " 0,\n",
       " 0,\n",
       " 0,\n",
       " 0,\n",
       " 0,\n",
       " 0,\n",
       " 0,\n",
       " 0,\n",
       " 0]"
      ]
     },
     "execution_count": 31,
     "metadata": {},
     "output_type": "execute_result"
    }
   ],
   "source": [
    "tk_train[101]['input_ids']"
   ]
  }
 ],
 "metadata": {
  "kernelspec": {
   "display_name": "NLP",
   "language": "python",
   "name": "python3"
  },
  "language_info": {
   "codemirror_mode": {
    "name": "ipython",
    "version": 3
   },
   "file_extension": ".py",
   "mimetype": "text/x-python",
   "name": "python",
   "nbconvert_exporter": "python",
   "pygments_lexer": "ipython3",
   "version": "3.10.13"
  }
 },
 "nbformat": 4,
 "nbformat_minor": 2
}
